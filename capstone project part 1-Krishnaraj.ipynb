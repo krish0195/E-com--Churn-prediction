{
 "cells": [
  {
   "cell_type": "code",
   "execution_count": 9,
   "id": "48b09a35",
   "metadata": {
    "ExecuteTime": {
     "end_time": "2022-05-01T17:44:36.309964Z",
     "start_time": "2022-05-01T17:44:36.297487Z"
    }
   },
   "outputs": [],
   "source": [
    "import numpy as np\n",
    "import pandas as pd\n",
    "import matplotlib.pyplot as plt\n",
    "%matplotlib inline\n",
    "import seaborn as sns"
   ]
  },
  {
   "cell_type": "code",
   "execution_count": 10,
   "id": "874bcd76",
   "metadata": {
    "ExecuteTime": {
     "end_time": "2022-05-01T17:44:36.562992Z",
     "start_time": "2022-05-01T17:44:36.375343Z"
    }
   },
   "outputs": [],
   "source": [
    "df=pd.read_csv(r'C:\\Users\\Dell\\Desktop\\GREAT LAKES\\back to studies\\capstone\\Customer+Churn+data.csv')"
   ]
  },
  {
   "cell_type": "code",
   "execution_count": 11,
   "id": "d2524832",
   "metadata": {
    "ExecuteTime": {
     "end_time": "2022-05-01T17:44:36.792067Z",
     "start_time": "2022-05-01T17:44:36.641847Z"
    }
   },
   "outputs": [
    {
     "data": {
      "text/html": [
       "<div>\n",
       "<style scoped>\n",
       "    .dataframe tbody tr th:only-of-type {\n",
       "        vertical-align: middle;\n",
       "    }\n",
       "\n",
       "    .dataframe tbody tr th {\n",
       "        vertical-align: top;\n",
       "    }\n",
       "\n",
       "    .dataframe thead th {\n",
       "        text-align: right;\n",
       "    }\n",
       "</style>\n",
       "<table border=\"1\" class=\"dataframe\">\n",
       "  <thead>\n",
       "    <tr style=\"text-align: right;\">\n",
       "      <th></th>\n",
       "      <th>AccountID</th>\n",
       "      <th>Churn</th>\n",
       "      <th>Tenure</th>\n",
       "      <th>City_Tier</th>\n",
       "      <th>CC_Contacted_LY</th>\n",
       "      <th>Payment</th>\n",
       "      <th>Gender</th>\n",
       "      <th>Service_Score</th>\n",
       "      <th>Account_user_count</th>\n",
       "      <th>account_segment</th>\n",
       "      <th>CC_Agent_Score</th>\n",
       "      <th>Marital_Status</th>\n",
       "      <th>rev_per_month</th>\n",
       "      <th>Complain_ly</th>\n",
       "      <th>rev_growth_yoy</th>\n",
       "      <th>coupon_used_for_payment</th>\n",
       "      <th>Day_Since_CC_connect</th>\n",
       "      <th>cashback</th>\n",
       "      <th>Login_device</th>\n",
       "    </tr>\n",
       "  </thead>\n",
       "  <tbody>\n",
       "    <tr>\n",
       "      <th>0</th>\n",
       "      <td>20000</td>\n",
       "      <td>1</td>\n",
       "      <td>4</td>\n",
       "      <td>3.0</td>\n",
       "      <td>6.0</td>\n",
       "      <td>Debit Card</td>\n",
       "      <td>Female</td>\n",
       "      <td>3.0</td>\n",
       "      <td>3</td>\n",
       "      <td>Super</td>\n",
       "      <td>2.0</td>\n",
       "      <td>Single</td>\n",
       "      <td>9</td>\n",
       "      <td>1.0</td>\n",
       "      <td>11</td>\n",
       "      <td>1</td>\n",
       "      <td>5</td>\n",
       "      <td>160</td>\n",
       "      <td>Mobile</td>\n",
       "    </tr>\n",
       "    <tr>\n",
       "      <th>1</th>\n",
       "      <td>20001</td>\n",
       "      <td>1</td>\n",
       "      <td>0</td>\n",
       "      <td>1.0</td>\n",
       "      <td>8.0</td>\n",
       "      <td>UPI</td>\n",
       "      <td>Male</td>\n",
       "      <td>3.0</td>\n",
       "      <td>4</td>\n",
       "      <td>Regular Plus</td>\n",
       "      <td>3.0</td>\n",
       "      <td>Single</td>\n",
       "      <td>7</td>\n",
       "      <td>1.0</td>\n",
       "      <td>15</td>\n",
       "      <td>0</td>\n",
       "      <td>0</td>\n",
       "      <td>121</td>\n",
       "      <td>Mobile</td>\n",
       "    </tr>\n",
       "    <tr>\n",
       "      <th>2</th>\n",
       "      <td>20002</td>\n",
       "      <td>1</td>\n",
       "      <td>0</td>\n",
       "      <td>1.0</td>\n",
       "      <td>30.0</td>\n",
       "      <td>Debit Card</td>\n",
       "      <td>Male</td>\n",
       "      <td>2.0</td>\n",
       "      <td>4</td>\n",
       "      <td>Regular Plus</td>\n",
       "      <td>3.0</td>\n",
       "      <td>Single</td>\n",
       "      <td>6</td>\n",
       "      <td>1.0</td>\n",
       "      <td>14</td>\n",
       "      <td>0</td>\n",
       "      <td>3</td>\n",
       "      <td>NaN</td>\n",
       "      <td>Mobile</td>\n",
       "    </tr>\n",
       "    <tr>\n",
       "      <th>3</th>\n",
       "      <td>20003</td>\n",
       "      <td>1</td>\n",
       "      <td>0</td>\n",
       "      <td>3.0</td>\n",
       "      <td>15.0</td>\n",
       "      <td>Debit Card</td>\n",
       "      <td>Male</td>\n",
       "      <td>2.0</td>\n",
       "      <td>4</td>\n",
       "      <td>Super</td>\n",
       "      <td>5.0</td>\n",
       "      <td>Single</td>\n",
       "      <td>8</td>\n",
       "      <td>0.0</td>\n",
       "      <td>23</td>\n",
       "      <td>0</td>\n",
       "      <td>3</td>\n",
       "      <td>134</td>\n",
       "      <td>Mobile</td>\n",
       "    </tr>\n",
       "    <tr>\n",
       "      <th>4</th>\n",
       "      <td>20004</td>\n",
       "      <td>1</td>\n",
       "      <td>0</td>\n",
       "      <td>1.0</td>\n",
       "      <td>12.0</td>\n",
       "      <td>Credit Card</td>\n",
       "      <td>Male</td>\n",
       "      <td>2.0</td>\n",
       "      <td>3</td>\n",
       "      <td>Regular Plus</td>\n",
       "      <td>5.0</td>\n",
       "      <td>Single</td>\n",
       "      <td>3</td>\n",
       "      <td>0.0</td>\n",
       "      <td>11</td>\n",
       "      <td>1</td>\n",
       "      <td>3</td>\n",
       "      <td>130</td>\n",
       "      <td>Mobile</td>\n",
       "    </tr>\n",
       "    <tr>\n",
       "      <th>...</th>\n",
       "      <td>...</td>\n",
       "      <td>...</td>\n",
       "      <td>...</td>\n",
       "      <td>...</td>\n",
       "      <td>...</td>\n",
       "      <td>...</td>\n",
       "      <td>...</td>\n",
       "      <td>...</td>\n",
       "      <td>...</td>\n",
       "      <td>...</td>\n",
       "      <td>...</td>\n",
       "      <td>...</td>\n",
       "      <td>...</td>\n",
       "      <td>...</td>\n",
       "      <td>...</td>\n",
       "      <td>...</td>\n",
       "      <td>...</td>\n",
       "      <td>...</td>\n",
       "      <td>...</td>\n",
       "    </tr>\n",
       "    <tr>\n",
       "      <th>11255</th>\n",
       "      <td>31255</td>\n",
       "      <td>0</td>\n",
       "      <td>10</td>\n",
       "      <td>1.0</td>\n",
       "      <td>34.0</td>\n",
       "      <td>Credit Card</td>\n",
       "      <td>Male</td>\n",
       "      <td>3.0</td>\n",
       "      <td>2</td>\n",
       "      <td>Super</td>\n",
       "      <td>1.0</td>\n",
       "      <td>Married</td>\n",
       "      <td>9</td>\n",
       "      <td>0.0</td>\n",
       "      <td>19</td>\n",
       "      <td>1</td>\n",
       "      <td>4</td>\n",
       "      <td>154</td>\n",
       "      <td>Computer</td>\n",
       "    </tr>\n",
       "    <tr>\n",
       "      <th>11256</th>\n",
       "      <td>31256</td>\n",
       "      <td>0</td>\n",
       "      <td>13</td>\n",
       "      <td>1.0</td>\n",
       "      <td>19.0</td>\n",
       "      <td>Credit Card</td>\n",
       "      <td>Male</td>\n",
       "      <td>3.0</td>\n",
       "      <td>5</td>\n",
       "      <td>HNI</td>\n",
       "      <td>5.0</td>\n",
       "      <td>Married</td>\n",
       "      <td>7</td>\n",
       "      <td>0.0</td>\n",
       "      <td>16</td>\n",
       "      <td>1</td>\n",
       "      <td>8</td>\n",
       "      <td>227</td>\n",
       "      <td>Mobile</td>\n",
       "    </tr>\n",
       "    <tr>\n",
       "      <th>11257</th>\n",
       "      <td>31257</td>\n",
       "      <td>0</td>\n",
       "      <td>1</td>\n",
       "      <td>1.0</td>\n",
       "      <td>14.0</td>\n",
       "      <td>Debit Card</td>\n",
       "      <td>Male</td>\n",
       "      <td>3.0</td>\n",
       "      <td>2</td>\n",
       "      <td>Super</td>\n",
       "      <td>4.0</td>\n",
       "      <td>Married</td>\n",
       "      <td>7</td>\n",
       "      <td>1.0</td>\n",
       "      <td>22</td>\n",
       "      <td>1</td>\n",
       "      <td>4</td>\n",
       "      <td>191</td>\n",
       "      <td>Mobile</td>\n",
       "    </tr>\n",
       "    <tr>\n",
       "      <th>11258</th>\n",
       "      <td>31258</td>\n",
       "      <td>0</td>\n",
       "      <td>23</td>\n",
       "      <td>3.0</td>\n",
       "      <td>11.0</td>\n",
       "      <td>Credit Card</td>\n",
       "      <td>Male</td>\n",
       "      <td>4.0</td>\n",
       "      <td>5</td>\n",
       "      <td>Super</td>\n",
       "      <td>4.0</td>\n",
       "      <td>Married</td>\n",
       "      <td>7</td>\n",
       "      <td>0.0</td>\n",
       "      <td>16</td>\n",
       "      <td>2</td>\n",
       "      <td>9</td>\n",
       "      <td>180</td>\n",
       "      <td>Computer</td>\n",
       "    </tr>\n",
       "    <tr>\n",
       "      <th>11259</th>\n",
       "      <td>31259</td>\n",
       "      <td>0</td>\n",
       "      <td>8</td>\n",
       "      <td>1.0</td>\n",
       "      <td>22.0</td>\n",
       "      <td>Credit Card</td>\n",
       "      <td>Male</td>\n",
       "      <td>3.0</td>\n",
       "      <td>2</td>\n",
       "      <td>Super</td>\n",
       "      <td>3.0</td>\n",
       "      <td>Married</td>\n",
       "      <td>5</td>\n",
       "      <td>0.0</td>\n",
       "      <td>13</td>\n",
       "      <td>2</td>\n",
       "      <td>3</td>\n",
       "      <td>175</td>\n",
       "      <td>Mobile</td>\n",
       "    </tr>\n",
       "  </tbody>\n",
       "</table>\n",
       "<p>11260 rows × 19 columns</p>\n",
       "</div>"
      ],
      "text/plain": [
       "       AccountID  Churn Tenure  City_Tier  CC_Contacted_LY      Payment  \\\n",
       "0          20000      1      4        3.0              6.0   Debit Card   \n",
       "1          20001      1      0        1.0              8.0          UPI   \n",
       "2          20002      1      0        1.0             30.0   Debit Card   \n",
       "3          20003      1      0        3.0             15.0   Debit Card   \n",
       "4          20004      1      0        1.0             12.0  Credit Card   \n",
       "...          ...    ...    ...        ...              ...          ...   \n",
       "11255      31255      0     10        1.0             34.0  Credit Card   \n",
       "11256      31256      0     13        1.0             19.0  Credit Card   \n",
       "11257      31257      0      1        1.0             14.0   Debit Card   \n",
       "11258      31258      0     23        3.0             11.0  Credit Card   \n",
       "11259      31259      0      8        1.0             22.0  Credit Card   \n",
       "\n",
       "       Gender  Service_Score Account_user_count account_segment  \\\n",
       "0      Female            3.0                  3           Super   \n",
       "1        Male            3.0                  4    Regular Plus   \n",
       "2        Male            2.0                  4    Regular Plus   \n",
       "3        Male            2.0                  4           Super   \n",
       "4        Male            2.0                  3    Regular Plus   \n",
       "...       ...            ...                ...             ...   \n",
       "11255    Male            3.0                  2           Super   \n",
       "11256    Male            3.0                  5             HNI   \n",
       "11257    Male            3.0                  2           Super   \n",
       "11258    Male            4.0                  5           Super   \n",
       "11259    Male            3.0                  2           Super   \n",
       "\n",
       "       CC_Agent_Score Marital_Status rev_per_month  Complain_ly  \\\n",
       "0                 2.0         Single             9          1.0   \n",
       "1                 3.0         Single             7          1.0   \n",
       "2                 3.0         Single             6          1.0   \n",
       "3                 5.0         Single             8          0.0   \n",
       "4                 5.0         Single             3          0.0   \n",
       "...               ...            ...           ...          ...   \n",
       "11255             1.0        Married             9          0.0   \n",
       "11256             5.0        Married             7          0.0   \n",
       "11257             4.0        Married             7          1.0   \n",
       "11258             4.0        Married             7          0.0   \n",
       "11259             3.0        Married             5          0.0   \n",
       "\n",
       "      rev_growth_yoy coupon_used_for_payment Day_Since_CC_connect cashback  \\\n",
       "0                 11                       1                    5      160   \n",
       "1                 15                       0                    0      121   \n",
       "2                 14                       0                    3      NaN   \n",
       "3                 23                       0                    3      134   \n",
       "4                 11                       1                    3      130   \n",
       "...              ...                     ...                  ...      ...   \n",
       "11255             19                       1                    4      154   \n",
       "11256             16                       1                    8      227   \n",
       "11257             22                       1                    4      191   \n",
       "11258             16                       2                    9      180   \n",
       "11259             13                       2                    3      175   \n",
       "\n",
       "      Login_device  \n",
       "0           Mobile  \n",
       "1           Mobile  \n",
       "2           Mobile  \n",
       "3           Mobile  \n",
       "4           Mobile  \n",
       "...            ...  \n",
       "11255     Computer  \n",
       "11256       Mobile  \n",
       "11257       Mobile  \n",
       "11258     Computer  \n",
       "11259       Mobile  \n",
       "\n",
       "[11260 rows x 19 columns]"
      ]
     },
     "execution_count": 11,
     "metadata": {},
     "output_type": "execute_result"
    }
   ],
   "source": [
    "df"
   ]
  },
  {
   "cell_type": "code",
   "execution_count": 12,
   "id": "17aa767f",
   "metadata": {
    "ExecuteTime": {
     "end_time": "2022-05-01T17:44:36.949776Z",
     "start_time": "2022-05-01T17:44:36.847964Z"
    }
   },
   "outputs": [
    {
     "data": {
      "text/html": [
       "<div>\n",
       "<style scoped>\n",
       "    .dataframe tbody tr th:only-of-type {\n",
       "        vertical-align: middle;\n",
       "    }\n",
       "\n",
       "    .dataframe tbody tr th {\n",
       "        vertical-align: top;\n",
       "    }\n",
       "\n",
       "    .dataframe thead th {\n",
       "        text-align: right;\n",
       "    }\n",
       "</style>\n",
       "<table border=\"1\" class=\"dataframe\">\n",
       "  <thead>\n",
       "    <tr style=\"text-align: right;\">\n",
       "      <th></th>\n",
       "      <th>AccountID</th>\n",
       "      <th>Churn</th>\n",
       "      <th>Tenure</th>\n",
       "      <th>City_Tier</th>\n",
       "      <th>CC_Contacted_LY</th>\n",
       "      <th>Payment</th>\n",
       "      <th>Gender</th>\n",
       "      <th>Service_Score</th>\n",
       "      <th>Account_user_count</th>\n",
       "      <th>account_segment</th>\n",
       "      <th>CC_Agent_Score</th>\n",
       "      <th>Marital_Status</th>\n",
       "      <th>rev_per_month</th>\n",
       "      <th>Complain_ly</th>\n",
       "      <th>rev_growth_yoy</th>\n",
       "      <th>coupon_used_for_payment</th>\n",
       "      <th>Day_Since_CC_connect</th>\n",
       "      <th>cashback</th>\n",
       "      <th>Login_device</th>\n",
       "    </tr>\n",
       "  </thead>\n",
       "  <tbody>\n",
       "    <tr>\n",
       "      <th>0</th>\n",
       "      <td>20000</td>\n",
       "      <td>1</td>\n",
       "      <td>4</td>\n",
       "      <td>3.0</td>\n",
       "      <td>6.0</td>\n",
       "      <td>Debit Card</td>\n",
       "      <td>Female</td>\n",
       "      <td>3.0</td>\n",
       "      <td>3</td>\n",
       "      <td>Super</td>\n",
       "      <td>2.0</td>\n",
       "      <td>Single</td>\n",
       "      <td>9</td>\n",
       "      <td>1.0</td>\n",
       "      <td>11</td>\n",
       "      <td>1</td>\n",
       "      <td>5</td>\n",
       "      <td>160</td>\n",
       "      <td>Mobile</td>\n",
       "    </tr>\n",
       "    <tr>\n",
       "      <th>1</th>\n",
       "      <td>20001</td>\n",
       "      <td>1</td>\n",
       "      <td>0</td>\n",
       "      <td>1.0</td>\n",
       "      <td>8.0</td>\n",
       "      <td>UPI</td>\n",
       "      <td>Male</td>\n",
       "      <td>3.0</td>\n",
       "      <td>4</td>\n",
       "      <td>Regular Plus</td>\n",
       "      <td>3.0</td>\n",
       "      <td>Single</td>\n",
       "      <td>7</td>\n",
       "      <td>1.0</td>\n",
       "      <td>15</td>\n",
       "      <td>0</td>\n",
       "      <td>0</td>\n",
       "      <td>121</td>\n",
       "      <td>Mobile</td>\n",
       "    </tr>\n",
       "    <tr>\n",
       "      <th>2</th>\n",
       "      <td>20002</td>\n",
       "      <td>1</td>\n",
       "      <td>0</td>\n",
       "      <td>1.0</td>\n",
       "      <td>30.0</td>\n",
       "      <td>Debit Card</td>\n",
       "      <td>Male</td>\n",
       "      <td>2.0</td>\n",
       "      <td>4</td>\n",
       "      <td>Regular Plus</td>\n",
       "      <td>3.0</td>\n",
       "      <td>Single</td>\n",
       "      <td>6</td>\n",
       "      <td>1.0</td>\n",
       "      <td>14</td>\n",
       "      <td>0</td>\n",
       "      <td>3</td>\n",
       "      <td>NaN</td>\n",
       "      <td>Mobile</td>\n",
       "    </tr>\n",
       "    <tr>\n",
       "      <th>3</th>\n",
       "      <td>20003</td>\n",
       "      <td>1</td>\n",
       "      <td>0</td>\n",
       "      <td>3.0</td>\n",
       "      <td>15.0</td>\n",
       "      <td>Debit Card</td>\n",
       "      <td>Male</td>\n",
       "      <td>2.0</td>\n",
       "      <td>4</td>\n",
       "      <td>Super</td>\n",
       "      <td>5.0</td>\n",
       "      <td>Single</td>\n",
       "      <td>8</td>\n",
       "      <td>0.0</td>\n",
       "      <td>23</td>\n",
       "      <td>0</td>\n",
       "      <td>3</td>\n",
       "      <td>134</td>\n",
       "      <td>Mobile</td>\n",
       "    </tr>\n",
       "    <tr>\n",
       "      <th>4</th>\n",
       "      <td>20004</td>\n",
       "      <td>1</td>\n",
       "      <td>0</td>\n",
       "      <td>1.0</td>\n",
       "      <td>12.0</td>\n",
       "      <td>Credit Card</td>\n",
       "      <td>Male</td>\n",
       "      <td>2.0</td>\n",
       "      <td>3</td>\n",
       "      <td>Regular Plus</td>\n",
       "      <td>5.0</td>\n",
       "      <td>Single</td>\n",
       "      <td>3</td>\n",
       "      <td>0.0</td>\n",
       "      <td>11</td>\n",
       "      <td>1</td>\n",
       "      <td>3</td>\n",
       "      <td>130</td>\n",
       "      <td>Mobile</td>\n",
       "    </tr>\n",
       "  </tbody>\n",
       "</table>\n",
       "</div>"
      ],
      "text/plain": [
       "   AccountID  Churn Tenure  City_Tier  CC_Contacted_LY      Payment  Gender  \\\n",
       "0      20000      1      4        3.0              6.0   Debit Card  Female   \n",
       "1      20001      1      0        1.0              8.0          UPI    Male   \n",
       "2      20002      1      0        1.0             30.0   Debit Card    Male   \n",
       "3      20003      1      0        3.0             15.0   Debit Card    Male   \n",
       "4      20004      1      0        1.0             12.0  Credit Card    Male   \n",
       "\n",
       "   Service_Score Account_user_count account_segment  CC_Agent_Score  \\\n",
       "0            3.0                  3           Super             2.0   \n",
       "1            3.0                  4    Regular Plus             3.0   \n",
       "2            2.0                  4    Regular Plus             3.0   \n",
       "3            2.0                  4           Super             5.0   \n",
       "4            2.0                  3    Regular Plus             5.0   \n",
       "\n",
       "  Marital_Status rev_per_month  Complain_ly rev_growth_yoy  \\\n",
       "0         Single             9          1.0             11   \n",
       "1         Single             7          1.0             15   \n",
       "2         Single             6          1.0             14   \n",
       "3         Single             8          0.0             23   \n",
       "4         Single             3          0.0             11   \n",
       "\n",
       "  coupon_used_for_payment Day_Since_CC_connect cashback Login_device  \n",
       "0                       1                    5      160       Mobile  \n",
       "1                       0                    0      121       Mobile  \n",
       "2                       0                    3      NaN       Mobile  \n",
       "3                       0                    3      134       Mobile  \n",
       "4                       1                    3      130       Mobile  "
      ]
     },
     "execution_count": 12,
     "metadata": {},
     "output_type": "execute_result"
    }
   ],
   "source": [
    "df.head()"
   ]
  },
  {
   "cell_type": "code",
   "execution_count": 13,
   "id": "9a770832",
   "metadata": {
    "ExecuteTime": {
     "end_time": "2022-05-01T17:44:37.046595Z",
     "start_time": "2022-05-01T17:44:37.009164Z"
    }
   },
   "outputs": [],
   "source": [
    "#Feature Removal\n",
    "df=df.drop([\"AccountID\"],axis=1)\n"
   ]
  },
  {
   "cell_type": "code",
   "execution_count": 14,
   "id": "a9fe5b2d",
   "metadata": {
    "ExecuteTime": {
     "end_time": "2022-05-01T17:44:37.209794Z",
     "start_time": "2022-05-01T17:44:37.110476Z"
    }
   },
   "outputs": [
    {
     "data": {
      "text/plain": [
       "(11260, 18)"
      ]
     },
     "execution_count": 14,
     "metadata": {},
     "output_type": "execute_result"
    }
   ],
   "source": [
    "df.shape"
   ]
  },
  {
   "cell_type": "code",
   "execution_count": 15,
   "id": "fb131370",
   "metadata": {
    "ExecuteTime": {
     "end_time": "2022-05-01T17:44:37.551155Z",
     "start_time": "2022-05-01T17:44:37.324079Z"
    }
   },
   "outputs": [
    {
     "data": {
      "text/html": [
       "<div>\n",
       "<style scoped>\n",
       "    .dataframe tbody tr th:only-of-type {\n",
       "        vertical-align: middle;\n",
       "    }\n",
       "\n",
       "    .dataframe tbody tr th {\n",
       "        vertical-align: top;\n",
       "    }\n",
       "\n",
       "    .dataframe thead th {\n",
       "        text-align: right;\n",
       "    }\n",
       "</style>\n",
       "<table border=\"1\" class=\"dataframe\">\n",
       "  <thead>\n",
       "    <tr style=\"text-align: right;\">\n",
       "      <th></th>\n",
       "      <th>count</th>\n",
       "      <th>unique</th>\n",
       "      <th>top</th>\n",
       "      <th>freq</th>\n",
       "      <th>mean</th>\n",
       "      <th>std</th>\n",
       "      <th>min</th>\n",
       "      <th>25%</th>\n",
       "      <th>50%</th>\n",
       "      <th>75%</th>\n",
       "      <th>max</th>\n",
       "    </tr>\n",
       "  </thead>\n",
       "  <tbody>\n",
       "    <tr>\n",
       "      <th>Churn</th>\n",
       "      <td>11260.0</td>\n",
       "      <td>NaN</td>\n",
       "      <td>NaN</td>\n",
       "      <td>NaN</td>\n",
       "      <td>0.168384</td>\n",
       "      <td>0.374223</td>\n",
       "      <td>0.0</td>\n",
       "      <td>0.0</td>\n",
       "      <td>0.0</td>\n",
       "      <td>0.0</td>\n",
       "      <td>1.0</td>\n",
       "    </tr>\n",
       "    <tr>\n",
       "      <th>Tenure</th>\n",
       "      <td>11158</td>\n",
       "      <td>38</td>\n",
       "      <td>1</td>\n",
       "      <td>1351</td>\n",
       "      <td>NaN</td>\n",
       "      <td>NaN</td>\n",
       "      <td>NaN</td>\n",
       "      <td>NaN</td>\n",
       "      <td>NaN</td>\n",
       "      <td>NaN</td>\n",
       "      <td>NaN</td>\n",
       "    </tr>\n",
       "    <tr>\n",
       "      <th>City_Tier</th>\n",
       "      <td>11148.0</td>\n",
       "      <td>NaN</td>\n",
       "      <td>NaN</td>\n",
       "      <td>NaN</td>\n",
       "      <td>1.653929</td>\n",
       "      <td>0.915015</td>\n",
       "      <td>1.0</td>\n",
       "      <td>1.0</td>\n",
       "      <td>1.0</td>\n",
       "      <td>3.0</td>\n",
       "      <td>3.0</td>\n",
       "    </tr>\n",
       "    <tr>\n",
       "      <th>CC_Contacted_LY</th>\n",
       "      <td>11158.0</td>\n",
       "      <td>NaN</td>\n",
       "      <td>NaN</td>\n",
       "      <td>NaN</td>\n",
       "      <td>17.867091</td>\n",
       "      <td>8.853269</td>\n",
       "      <td>4.0</td>\n",
       "      <td>11.0</td>\n",
       "      <td>16.0</td>\n",
       "      <td>23.0</td>\n",
       "      <td>132.0</td>\n",
       "    </tr>\n",
       "    <tr>\n",
       "      <th>Payment</th>\n",
       "      <td>11151</td>\n",
       "      <td>5</td>\n",
       "      <td>Debit Card</td>\n",
       "      <td>4587</td>\n",
       "      <td>NaN</td>\n",
       "      <td>NaN</td>\n",
       "      <td>NaN</td>\n",
       "      <td>NaN</td>\n",
       "      <td>NaN</td>\n",
       "      <td>NaN</td>\n",
       "      <td>NaN</td>\n",
       "    </tr>\n",
       "    <tr>\n",
       "      <th>Gender</th>\n",
       "      <td>11152</td>\n",
       "      <td>4</td>\n",
       "      <td>Male</td>\n",
       "      <td>6328</td>\n",
       "      <td>NaN</td>\n",
       "      <td>NaN</td>\n",
       "      <td>NaN</td>\n",
       "      <td>NaN</td>\n",
       "      <td>NaN</td>\n",
       "      <td>NaN</td>\n",
       "      <td>NaN</td>\n",
       "    </tr>\n",
       "    <tr>\n",
       "      <th>Service_Score</th>\n",
       "      <td>11162.0</td>\n",
       "      <td>NaN</td>\n",
       "      <td>NaN</td>\n",
       "      <td>NaN</td>\n",
       "      <td>2.902526</td>\n",
       "      <td>0.725584</td>\n",
       "      <td>0.0</td>\n",
       "      <td>2.0</td>\n",
       "      <td>3.0</td>\n",
       "      <td>3.0</td>\n",
       "      <td>5.0</td>\n",
       "    </tr>\n",
       "    <tr>\n",
       "      <th>Account_user_count</th>\n",
       "      <td>11148</td>\n",
       "      <td>7</td>\n",
       "      <td>4</td>\n",
       "      <td>4569</td>\n",
       "      <td>NaN</td>\n",
       "      <td>NaN</td>\n",
       "      <td>NaN</td>\n",
       "      <td>NaN</td>\n",
       "      <td>NaN</td>\n",
       "      <td>NaN</td>\n",
       "      <td>NaN</td>\n",
       "    </tr>\n",
       "    <tr>\n",
       "      <th>account_segment</th>\n",
       "      <td>11163</td>\n",
       "      <td>7</td>\n",
       "      <td>Super</td>\n",
       "      <td>4062</td>\n",
       "      <td>NaN</td>\n",
       "      <td>NaN</td>\n",
       "      <td>NaN</td>\n",
       "      <td>NaN</td>\n",
       "      <td>NaN</td>\n",
       "      <td>NaN</td>\n",
       "      <td>NaN</td>\n",
       "    </tr>\n",
       "    <tr>\n",
       "      <th>CC_Agent_Score</th>\n",
       "      <td>11144.0</td>\n",
       "      <td>NaN</td>\n",
       "      <td>NaN</td>\n",
       "      <td>NaN</td>\n",
       "      <td>3.066493</td>\n",
       "      <td>1.379772</td>\n",
       "      <td>1.0</td>\n",
       "      <td>2.0</td>\n",
       "      <td>3.0</td>\n",
       "      <td>4.0</td>\n",
       "      <td>5.0</td>\n",
       "    </tr>\n",
       "    <tr>\n",
       "      <th>Marital_Status</th>\n",
       "      <td>11048</td>\n",
       "      <td>3</td>\n",
       "      <td>Married</td>\n",
       "      <td>5860</td>\n",
       "      <td>NaN</td>\n",
       "      <td>NaN</td>\n",
       "      <td>NaN</td>\n",
       "      <td>NaN</td>\n",
       "      <td>NaN</td>\n",
       "      <td>NaN</td>\n",
       "      <td>NaN</td>\n",
       "    </tr>\n",
       "    <tr>\n",
       "      <th>rev_per_month</th>\n",
       "      <td>11158</td>\n",
       "      <td>59</td>\n",
       "      <td>3</td>\n",
       "      <td>1746</td>\n",
       "      <td>NaN</td>\n",
       "      <td>NaN</td>\n",
       "      <td>NaN</td>\n",
       "      <td>NaN</td>\n",
       "      <td>NaN</td>\n",
       "      <td>NaN</td>\n",
       "      <td>NaN</td>\n",
       "    </tr>\n",
       "    <tr>\n",
       "      <th>Complain_ly</th>\n",
       "      <td>10903.0</td>\n",
       "      <td>NaN</td>\n",
       "      <td>NaN</td>\n",
       "      <td>NaN</td>\n",
       "      <td>0.285334</td>\n",
       "      <td>0.451594</td>\n",
       "      <td>0.0</td>\n",
       "      <td>0.0</td>\n",
       "      <td>0.0</td>\n",
       "      <td>1.0</td>\n",
       "      <td>1.0</td>\n",
       "    </tr>\n",
       "    <tr>\n",
       "      <th>rev_growth_yoy</th>\n",
       "      <td>11260</td>\n",
       "      <td>20</td>\n",
       "      <td>14</td>\n",
       "      <td>1524</td>\n",
       "      <td>NaN</td>\n",
       "      <td>NaN</td>\n",
       "      <td>NaN</td>\n",
       "      <td>NaN</td>\n",
       "      <td>NaN</td>\n",
       "      <td>NaN</td>\n",
       "      <td>NaN</td>\n",
       "    </tr>\n",
       "    <tr>\n",
       "      <th>coupon_used_for_payment</th>\n",
       "      <td>11260</td>\n",
       "      <td>20</td>\n",
       "      <td>1</td>\n",
       "      <td>4373</td>\n",
       "      <td>NaN</td>\n",
       "      <td>NaN</td>\n",
       "      <td>NaN</td>\n",
       "      <td>NaN</td>\n",
       "      <td>NaN</td>\n",
       "      <td>NaN</td>\n",
       "      <td>NaN</td>\n",
       "    </tr>\n",
       "    <tr>\n",
       "      <th>Day_Since_CC_connect</th>\n",
       "      <td>10903</td>\n",
       "      <td>24</td>\n",
       "      <td>3</td>\n",
       "      <td>1816</td>\n",
       "      <td>NaN</td>\n",
       "      <td>NaN</td>\n",
       "      <td>NaN</td>\n",
       "      <td>NaN</td>\n",
       "      <td>NaN</td>\n",
       "      <td>NaN</td>\n",
       "      <td>NaN</td>\n",
       "    </tr>\n",
       "    <tr>\n",
       "      <th>cashback</th>\n",
       "      <td>10789</td>\n",
       "      <td>321</td>\n",
       "      <td>152</td>\n",
       "      <td>208</td>\n",
       "      <td>NaN</td>\n",
       "      <td>NaN</td>\n",
       "      <td>NaN</td>\n",
       "      <td>NaN</td>\n",
       "      <td>NaN</td>\n",
       "      <td>NaN</td>\n",
       "      <td>NaN</td>\n",
       "    </tr>\n",
       "    <tr>\n",
       "      <th>Login_device</th>\n",
       "      <td>11039</td>\n",
       "      <td>3</td>\n",
       "      <td>Mobile</td>\n",
       "      <td>7482</td>\n",
       "      <td>NaN</td>\n",
       "      <td>NaN</td>\n",
       "      <td>NaN</td>\n",
       "      <td>NaN</td>\n",
       "      <td>NaN</td>\n",
       "      <td>NaN</td>\n",
       "      <td>NaN</td>\n",
       "    </tr>\n",
       "  </tbody>\n",
       "</table>\n",
       "</div>"
      ],
      "text/plain": [
       "                           count unique         top  freq       mean  \\\n",
       "Churn                    11260.0    NaN         NaN   NaN   0.168384   \n",
       "Tenure                     11158     38           1  1351        NaN   \n",
       "City_Tier                11148.0    NaN         NaN   NaN   1.653929   \n",
       "CC_Contacted_LY          11158.0    NaN         NaN   NaN  17.867091   \n",
       "Payment                    11151      5  Debit Card  4587        NaN   \n",
       "Gender                     11152      4        Male  6328        NaN   \n",
       "Service_Score            11162.0    NaN         NaN   NaN   2.902526   \n",
       "Account_user_count         11148      7           4  4569        NaN   \n",
       "account_segment            11163      7       Super  4062        NaN   \n",
       "CC_Agent_Score           11144.0    NaN         NaN   NaN   3.066493   \n",
       "Marital_Status             11048      3     Married  5860        NaN   \n",
       "rev_per_month              11158     59           3  1746        NaN   \n",
       "Complain_ly              10903.0    NaN         NaN   NaN   0.285334   \n",
       "rev_growth_yoy             11260     20          14  1524        NaN   \n",
       "coupon_used_for_payment    11260     20           1  4373        NaN   \n",
       "Day_Since_CC_connect       10903     24           3  1816        NaN   \n",
       "cashback                   10789    321         152   208        NaN   \n",
       "Login_device               11039      3      Mobile  7482        NaN   \n",
       "\n",
       "                              std  min   25%   50%   75%    max  \n",
       "Churn                    0.374223  0.0   0.0   0.0   0.0    1.0  \n",
       "Tenure                        NaN  NaN   NaN   NaN   NaN    NaN  \n",
       "City_Tier                0.915015  1.0   1.0   1.0   3.0    3.0  \n",
       "CC_Contacted_LY          8.853269  4.0  11.0  16.0  23.0  132.0  \n",
       "Payment                       NaN  NaN   NaN   NaN   NaN    NaN  \n",
       "Gender                        NaN  NaN   NaN   NaN   NaN    NaN  \n",
       "Service_Score            0.725584  0.0   2.0   3.0   3.0    5.0  \n",
       "Account_user_count            NaN  NaN   NaN   NaN   NaN    NaN  \n",
       "account_segment               NaN  NaN   NaN   NaN   NaN    NaN  \n",
       "CC_Agent_Score           1.379772  1.0   2.0   3.0   4.0    5.0  \n",
       "Marital_Status                NaN  NaN   NaN   NaN   NaN    NaN  \n",
       "rev_per_month                 NaN  NaN   NaN   NaN   NaN    NaN  \n",
       "Complain_ly              0.451594  0.0   0.0   0.0   1.0    1.0  \n",
       "rev_growth_yoy                NaN  NaN   NaN   NaN   NaN    NaN  \n",
       "coupon_used_for_payment       NaN  NaN   NaN   NaN   NaN    NaN  \n",
       "Day_Since_CC_connect          NaN  NaN   NaN   NaN   NaN    NaN  \n",
       "cashback                      NaN  NaN   NaN   NaN   NaN    NaN  \n",
       "Login_device                  NaN  NaN   NaN   NaN   NaN    NaN  "
      ]
     },
     "execution_count": 15,
     "metadata": {},
     "output_type": "execute_result"
    }
   ],
   "source": [
    "df.describe(include=\"all\").T"
   ]
  },
  {
   "cell_type": "code",
   "execution_count": 16,
   "id": "df4760f5",
   "metadata": {
    "ExecuteTime": {
     "end_time": "2022-05-01T17:44:53.033197Z",
     "start_time": "2022-05-01T17:44:52.990776Z"
    }
   },
   "outputs": [
    {
     "name": "stdout",
     "output_type": "stream",
     "text": [
      "<class 'pandas.core.frame.DataFrame'>\n",
      "RangeIndex: 11260 entries, 0 to 11259\n",
      "Data columns (total 18 columns):\n",
      " #   Column                   Non-Null Count  Dtype  \n",
      "---  ------                   --------------  -----  \n",
      " 0   Churn                    11260 non-null  int64  \n",
      " 1   Tenure                   11158 non-null  object \n",
      " 2   City_Tier                11148 non-null  float64\n",
      " 3   CC_Contacted_LY          11158 non-null  float64\n",
      " 4   Payment                  11151 non-null  object \n",
      " 5   Gender                   11152 non-null  object \n",
      " 6   Service_Score            11162 non-null  float64\n",
      " 7   Account_user_count       11148 non-null  object \n",
      " 8   account_segment          11163 non-null  object \n",
      " 9   CC_Agent_Score           11144 non-null  float64\n",
      " 10  Marital_Status           11048 non-null  object \n",
      " 11  rev_per_month            11158 non-null  object \n",
      " 12  Complain_ly              10903 non-null  float64\n",
      " 13  rev_growth_yoy           11260 non-null  object \n",
      " 14  coupon_used_for_payment  11260 non-null  object \n",
      " 15  Day_Since_CC_connect     10903 non-null  object \n",
      " 16  cashback                 10789 non-null  object \n",
      " 17  Login_device             11039 non-null  object \n",
      "dtypes: float64(5), int64(1), object(12)\n",
      "memory usage: 1.5+ MB\n"
     ]
    }
   ],
   "source": [
    "df.info()"
   ]
  },
  {
   "cell_type": "code",
   "execution_count": 17,
   "id": "1c0cf459",
   "metadata": {
    "ExecuteTime": {
     "end_time": "2022-05-01T17:44:54.635593Z",
     "start_time": "2022-05-01T17:44:54.411511Z"
    }
   },
   "outputs": [
    {
     "data": {
      "text/plain": [
       "259"
      ]
     },
     "execution_count": 17,
     "metadata": {},
     "output_type": "execute_result"
    }
   ],
   "source": [
    "df.duplicated().sum()"
   ]
  },
  {
   "cell_type": "code",
   "execution_count": 18,
   "id": "21fdaeb6",
   "metadata": {
    "ExecuteTime": {
     "end_time": "2022-05-01T17:44:54.866425Z",
     "start_time": "2022-05-01T17:44:54.849955Z"
    }
   },
   "outputs": [],
   "source": [
    "#Feature replacement\n",
    "df[\"Gender\"] = df[\"Gender\"].replace(\"M\", 'Male')\n",
    "df[\"Gender\"] = df[\"Gender\"].replace(\"F\", 'Female')\n",
    "\n",
    "df[\"account_segment\"] = df[\"account_segment\"].replace(\"Regular +\",\"Regular Plus\")\n",
    "df[\"account_segment\"] = df[\"account_segment\"].replace(\"Super +\",\"Super Plus\")"
   ]
  },
  {
   "cell_type": "code",
   "execution_count": 19,
   "id": "59203d42",
   "metadata": {
    "ExecuteTime": {
     "end_time": "2022-05-01T17:44:55.326016Z",
     "start_time": "2022-05-01T17:44:55.316533Z"
    }
   },
   "outputs": [
    {
     "data": {
      "text/plain": [
       "11260"
      ]
     },
     "execution_count": 19,
     "metadata": {},
     "output_type": "execute_result"
    }
   ],
   "source": [
    "len(df)"
   ]
  },
  {
   "cell_type": "code",
   "execution_count": 20,
   "id": "bee4bdbb",
   "metadata": {
    "ExecuteTime": {
     "end_time": "2022-05-01T17:44:55.655403Z",
     "start_time": "2022-05-01T17:44:55.641928Z"
    }
   },
   "outputs": [
    {
     "data": {
      "text/plain": [
       "0    0.831616\n",
       "1    0.168384\n",
       "Name: Churn, dtype: float64"
      ]
     },
     "execution_count": 20,
     "metadata": {},
     "output_type": "execute_result"
    }
   ],
   "source": [
    "#Check Data Balancing\n",
    "df[\"Churn\"] = df[\"Churn\"].astype(\"int\")\n",
    "df['Churn'].value_counts(1)"
   ]
  },
  {
   "cell_type": "code",
   "execution_count": 21,
   "id": "1a849787",
   "metadata": {
    "ExecuteTime": {
     "end_time": "2022-05-01T17:44:59.361548Z",
     "start_time": "2022-05-01T17:44:56.170945Z"
    }
   },
   "outputs": [
    {
     "data": {
      "image/png": "[encoded data removed]",
      "text/plain": [
       "<Figure size 720x360 with 1 Axes>"
      ]
     },
     "metadata": {
      "needs_background": "light"
     },
     "output_type": "display_data"
    }
   ],
   "source": [
    "\n",
    "xx=df['Churn'].value_counts(1).reset_index()\n",
    "plt.figure(figsize=(10,5))\n",
    "sns.barplot(x=\"index\",y=\"Churn\",data=xx,palette=\"cividis\");\n",
    "plt.show()"
   ]
  },
  {
   "cell_type": "code",
   "execution_count": 22,
   "id": "a510e86c",
   "metadata": {
    "ExecuteTime": {
     "end_time": "2022-05-01T17:44:59.425929Z",
     "start_time": "2022-05-01T17:44:59.388998Z"
    }
   },
   "outputs": [
    {
     "data": {
      "text/plain": [
       "cashback                   0.041829\n",
       "Day_Since_CC_connect       0.031705\n",
       "Complain_ly                0.031705\n",
       "Login_device               0.019627\n",
       "Marital_Status             0.018828\n",
       "CC_Agent_Score             0.010302\n",
       "Account_user_count         0.009947\n",
       "City_Tier                  0.009947\n",
       "Payment                    0.009680\n",
       "Gender                     0.009591\n",
       "Tenure                     0.009059\n",
       "rev_per_month              0.009059\n",
       "CC_Contacted_LY            0.009059\n",
       "Service_Score              0.008703\n",
       "account_segment            0.008615\n",
       "rev_growth_yoy             0.000000\n",
       "coupon_used_for_payment    0.000000\n",
       "Churn                      0.000000\n",
       "dtype: float64"
      ]
     },
     "execution_count": 22,
     "metadata": {},
     "output_type": "execute_result"
    }
   ],
   "source": [
    "df.isna().sum().sort_values(ascending=False)/len(df)"
   ]
  },
  {
   "cell_type": "markdown",
   "id": "d9a23ee0",
   "metadata": {},
   "source": [
    "missing vale \n",
    "mv>2% <10 % impute by mode"
   ]
  },
  {
   "cell_type": "code",
   "execution_count": 23,
   "id": "60dd96c0",
   "metadata": {
    "ExecuteTime": {
     "end_time": "2022-05-01T17:44:59.665487Z",
     "start_time": "2022-05-01T17:44:59.535725Z"
    }
   },
   "outputs": [],
   "source": [
    "# Replacing the merical values and missing value treatment\n",
    "\n",
    "df[\"Tenure\"] = df[\"Tenure\"].replace(\"#\",0)\n",
    "df[\"Tenure\"]=df[\"Tenure\"].replace(np.nan,0)\n",
    "df=df.astype({\"Tenure\":\"int\"})\n",
    "#df[\"Tenure\"] = df[\"Tenure\"].astype(str).astype(int)\n",
    "#df['Tenure'] = pd.to_numeric(df['Tenure'])\n",
    "#df['Tenure'].astype(float).astype('Int64')\n",
    "#df = df.astype({\"Tenure\": int})\n",
    "\n",
    "df['Tenure'].replace(regex=True, inplace=True, to_replace=r'[^0-9.\\-]',\n",
    "value=r'') \n",
    "df['Tenure'] = df['Tenure'].astype(float)\n",
    "\n",
    "\n",
    "df[\"CC_Contacted_LY\"]=df[\"CC_Contacted_LY\"].replace(np.nan,0)\n",
    "df=df.astype({\"CC_Contacted_LY\":\"int\"})\n",
    "#df['CC_Contacted_LY'] = pd.to_numeric(df['CC_Contacted_LY'])\n",
    "\n",
    "df[\"rev_per_month\"]=df[\"rev_per_month\"].replace(\"+\",0)\n",
    "df[\"rev_per_month\"]=df[\"rev_per_month\"].replace(np.nan,0)\n",
    "df=df.astype({\"rev_per_month\":\"int\"})\n",
    "#df['rev_per_month'] = pd.to_numeric(df['rev_per_month'])\n",
    "\n",
    "df[\"rev_growth_yoy\"]=df[\"rev_growth_yoy\"].replace(\"$\",0)\n",
    "df[\" rev_growth_yoy\"]=df[\"rev_growth_yoy\"].replace(np.nan,0)\n",
    "df=df.astype({\"rev_growth_yoy\":\"int\"})\n",
    "#df=df.astype({\"rev_growth_yoy\":\"int\"})\n",
    "\n",
    "df['rev_growth_yoy'] = pd.to_numeric(df['rev_growth_yoy'])\n",
    "\n",
    "df[\"coupon_used_for_payment\"]=df[\"coupon_used_for_payment\"].replace(\"#\",0)\n",
    "df[\"coupon_used_for_payment\"]=df[\"coupon_used_for_payment\"].replace(\"$\",0)\n",
    "df[\"coupon_used_for_payment\"]=df[\"coupon_used_for_payment\"].replace(\"*\",0)\n",
    "df[\" coupon_used_for_payment\"]=df[\"coupon_used_for_payment\"].replace(np.nan,0)\n",
    "\n",
    "df[\"Day_Since_CC_connect\"]=df[\"Day_Since_CC_connect\"].replace(\"$\",0)\n",
    "#df['Day_Since_CC_connect'] = pd.to_numeric(df['Day_Since_CC_connect'])\n",
    "\n",
    "df[\"cashback\"]=df[\"cashback\"].replace(\"$\",0)\n"
   ]
  },
  {
   "cell_type": "code",
   "execution_count": 24,
   "id": "ac1d6e77",
   "metadata": {
    "ExecuteTime": {
     "end_time": "2022-05-01T17:44:59.736851Z",
     "start_time": "2022-05-01T17:44:59.714395Z"
    }
   },
   "outputs": [],
   "source": [
    "df['Tenure'].fillna(df['Tenure'].median(), inplace=True)\n",
    "df['Day_Since_CC_connect'].fillna(df['Day_Since_CC_connect'].median(), inplace=True)\n",
    "df['rev_growth_yoy'].fillna(df['rev_growth_yoy'].median(), inplace=True)\n",
    "df['rev_per_month'].fillna(df['rev_per_month'].median(), inplace=True)\n",
    "df['CC_Contacted_LY'].fillna(df['CC_Contacted_LY'].median(), inplace=True)\n",
    "df['rev_growth_yoy'].fillna(df['rev_growth_yoy'].median(), inplace=True)"
   ]
  },
  {
   "cell_type": "code",
   "execution_count": 25,
   "id": "2773774a",
   "metadata": {
    "ExecuteTime": {
     "end_time": "2022-05-01T17:44:59.920508Z",
     "start_time": "2022-05-01T17:44:59.740844Z"
    }
   },
   "outputs": [],
   "source": [
    "# Removing special char in catgorical value\n",
    "df.Account_user_count=df.Account_user_count.replace(to_replace='@',value=df['Account_user_count'].mode()[0])\n",
    "#df.Account_user_count=df.Account_user_count.replace(to_replace=\"\",value=0)\n",
    "df.Login_device=df.Login_device.replace(to_replace=\"&&&&\",value=df['Login_device'].mode()[0])"
   ]
  },
  {
   "cell_type": "code",
   "execution_count": 26,
   "id": "749ee8a0",
   "metadata": {
    "ExecuteTime": {
     "end_time": "2022-05-01T17:45:00.056257Z",
     "start_time": "2022-05-01T17:45:00.034796Z"
    }
   },
   "outputs": [],
   "source": [
    "df['account_segment']=df['account_segment'].fillna(df['account_segment'].mode()[0])"
   ]
  },
  {
   "cell_type": "code",
   "execution_count": 27,
   "id": "34156539",
   "metadata": {
    "ExecuteTime": {
     "end_time": "2022-05-01T17:45:00.331245Z",
     "start_time": "2022-05-01T17:45:00.060750Z"
    }
   },
   "outputs": [],
   "source": [
    "df['Gender'].fillna(df['Gender'].mode()[0], inplace=True)\n",
    "df['account_segment'].fillna(df['account_segment'].mode()[0], inplace=True) \n",
    "df['Account_user_count'].fillna(df['Account_user_count'].mode()[0], inplace=True) \n",
    "df['Login_device'].fillna(df['Login_device'].mode()[0], inplace=True) \n",
    "df['City_Tier'].fillna(df['City_Tier'].mode()[0], inplace=True)\n",
    "df['Service_Score'].fillna(df['Service_Score'].mode()[0],inplace=True)\n",
    "df['CC_Agent_Score'].fillna(df['CC_Agent_Score'].mode()[0],inplace=True)\n",
    "df['Marital_Status'].fillna(df['Marital_Status'].mode()[0],inplace=True)\n",
    "df['Payment'].fillna(df['Payment'].mode()[0],inplace=True)\n",
    "df['Complain_ly'].fillna(df['Complain_ly'].mode()[0],inplace=True)\n",
    "df['Login_device'].fillna(df['Login_device'].mode()[0],inplace=True)\n",
    "df['cashback'].fillna(df['cashback'].mode()[0],inplace=True)"
   ]
  },
  {
   "cell_type": "markdown",
   "id": "e7048e6f",
   "metadata": {
    "ExecuteTime": {
     "end_time": "2022-04-28T15:57:59.130686Z",
     "start_time": "2022-04-28T15:57:59.099745Z"
    }
   },
   "source": [
    "cateogry_columns=df.select_dtypes(include=['object']).columns.tolist()\n",
    "integer_columns=df.select_dtypes(include=['int64','float64']).columns.tolist()\n",
    "\n",
    "for column in df:\n",
    "    if df[column].isnull().any():\n",
    "        if(column in cateogry_columns):\n",
    "            df[column]=df[column].fillna(df[column].mode()[0])\n",
    "        else:\n",
    "            df[column]=df[column].fillna(df[column].mean)"
   ]
  },
  {
   "cell_type": "code",
   "execution_count": 28,
   "id": "b9bf3ba0",
   "metadata": {
    "ExecuteTime": {
     "end_time": "2022-05-01T17:45:00.512907Z",
     "start_time": "2022-05-01T17:45:00.471484Z"
    }
   },
   "outputs": [],
   "source": [
    "missing_count_df = df.isnull().sum()\n",
    "value_count_df = df.isnull().count()\n",
    "missing_percentage_df = round(missing_count_df/value_count_df*100,2)"
   ]
  },
  {
   "cell_type": "code",
   "execution_count": 29,
   "id": "8b4d65cc",
   "metadata": {
    "ExecuteTime": {
     "end_time": "2022-05-01T17:45:02.072310Z",
     "start_time": "2022-05-01T17:45:00.593258Z"
    }
   },
   "outputs": [
    {
     "data": {
      "text/plain": [
       "<Figure size 720x360 with 0 Axes>"
      ]
     },
     "metadata": {},
     "output_type": "display_data"
    },
    {
     "data": {
      "image/png": "[encoded data removed]",
      "text/plain": [
       "<Figure size 720x360 with 1 Axes>"
      ]
     },
     "metadata": {
      "needs_background": "light"
     },
     "output_type": "display_data"
    }
   ],
   "source": [
    "plt.figure(figsize=(10,5))\n",
    "missing_df = pd.DataFrame({'count' : missing_count_df, 'percentage' : missing_percentage_df })\n",
    "barchart = missing_df.plot.bar(y='percentage',rot=90,figsize=(10,5))\n",
    "plt.show()"
   ]
  },
  {
   "cell_type": "code",
   "execution_count": 30,
   "id": "3b92b434",
   "metadata": {
    "ExecuteTime": {
     "end_time": "2022-05-01T17:45:02.761512Z",
     "start_time": "2022-05-01T17:45:02.076289Z"
    }
   },
   "outputs": [
    {
     "data": {
      "image/png": "[encoded data removed]",
      "text/plain": [
       "<Figure size 720x360 with 1 Axes>"
      ]
     },
     "metadata": {
      "needs_background": "light"
     },
     "output_type": "display_data"
    }
   ],
   "source": [
    "#Outliner check Before IQR Treatment\n",
    "f, ax = plt.subplots(figsize=(10,5))\n",
    "ax = sns.boxplot(data=df,width=0.6,palette=\"Set3\",orient='h',linewidth=0.5)"
   ]
  },
  {
   "cell_type": "code",
   "execution_count": 31,
   "id": "f889f693",
   "metadata": {
    "ExecuteTime": {
     "end_time": "2022-05-01T17:45:03.682303Z",
     "start_time": "2022-05-01T17:45:02.943674Z"
    }
   },
   "outputs": [
    {
     "data": {
      "text/plain": [
       "<AxesSubplot:xlabel='Tenure', ylabel='Count'>"
      ]
     },
     "execution_count": 31,
     "metadata": {},
     "output_type": "execute_result"
    },
    {
     "data": {
      "image/png": "[encoded data removed]",
      "text/plain": [
       "<Figure size 432x288 with 1 Axes>"
      ]
     },
     "metadata": {
      "needs_background": "light"
     },
     "output_type": "display_data"
    }
   ],
   "source": [
    "#Univariate analysis-Tenure\n",
    "sns.histplot(df[\"Tenure\"])"
   ]
  },
  {
   "cell_type": "code",
   "execution_count": 32,
   "id": "05914406",
   "metadata": {
    "ExecuteTime": {
     "end_time": "2022-05-01T17:45:05.068723Z",
     "start_time": "2022-05-01T17:45:03.777124Z"
    }
   },
   "outputs": [
    {
     "name": "stderr",
     "output_type": "stream",
     "text": [
      "C:\\Users\\Dell\\anaconda4\\lib\\site-packages\\seaborn\\distributions.py:2619: FutureWarning: `distplot` is a deprecated function and will be removed in a future version. Please adapt your code to use either `displot` (a figure-level function with similar flexibility) or `histplot` (an axes-level function for histograms).\n",
      "  warnings.warn(msg, FutureWarning)\n"
     ]
    },
    {
     "data": {
      "image/png": "[encoded data removed]",
      "text/plain": [
       "<Figure size 432x288 with 1 Axes>"
      ]
     },
     "metadata": {
      "needs_background": "light"
     },
     "output_type": "display_data"
    }
   ],
   "source": [
    "sns.distplot(df['Tenure']);"
   ]
  },
  {
   "cell_type": "markdown",
   "id": "1e4e57b1",
   "metadata": {
    "ExecuteTime": {
     "end_time": "2022-04-28T19:48:31.712915Z",
     "start_time": "2022-04-28T19:48:31.639907Z"
    }
   },
   "source": [
    "Tenure_range = pd.cut(df[\"Tenure\"], \n",
    "                     bins=[0, 20, 40, 60, 80, 100, 120, 140], \n",
    "                     labels=[\"0-20\", \"20-40\", \"40-60\", \"60-80\", \"80-100\", \"100-120\", \"120-140\"])\n",
    "\n",
    "df[\"Tenure_range\"].value_counts().sort_index().plot(kind=\"bar\")\n",
    "plt.title(\"Tenure in each Tenure Range\")\n",
    "plt.show()"
   ]
  },
  {
   "cell_type": "code",
   "execution_count": 33,
   "id": "2f375780",
   "metadata": {
    "ExecuteTime": {
     "end_time": "2022-05-01T17:45:05.093175Z",
     "start_time": "2022-05-01T17:45:05.075209Z"
    }
   },
   "outputs": [
    {
     "data": {
      "text/plain": [
       "count    11260.000000\n",
       "mean        10.811634\n",
       "std         12.844640\n",
       "min          0.000000\n",
       "25%          2.000000\n",
       "50%          8.000000\n",
       "75%         16.000000\n",
       "max         99.000000\n",
       "Name: Tenure, dtype: float64"
      ]
     },
     "execution_count": 33,
     "metadata": {},
     "output_type": "execute_result"
    }
   ],
   "source": [
    "df['Tenure'].describe(include=\"all\").T"
   ]
  },
  {
   "cell_type": "code",
   "execution_count": 34,
   "id": "40e70b53",
   "metadata": {
    "ExecuteTime": {
     "end_time": "2022-05-01T17:45:05.487459Z",
     "start_time": "2022-05-01T17:45:05.201475Z"
    }
   },
   "outputs": [
    {
     "data": {
      "text/plain": [
       "<AxesSubplot:>"
      ]
     },
     "execution_count": 34,
     "metadata": {},
     "output_type": "execute_result"
    },
    {
     "data": {
      "image/png": "[encoded data removed]",
      "text/plain": [
       "<Figure size 432x288 with 1 Axes>"
      ]
     },
     "metadata": {
      "needs_background": "light"
     },
     "output_type": "display_data"
    }
   ],
   "source": [
    "import matplotlib.pyplot as plt\n",
    "\n",
    "df.boxplot(column=['Tenure'], grid=False, color='black')"
   ]
  },
  {
   "cell_type": "code",
   "execution_count": 35,
   "id": "f2a65145",
   "metadata": {
    "ExecuteTime": {
     "end_time": "2022-05-01T17:45:05.909658Z",
     "start_time": "2022-05-01T17:45:05.543340Z"
    }
   },
   "outputs": [
    {
     "data": {
      "image/png": "[encoded data removed]",
      "text/plain": [
       "<Figure size 432x288 with 1 Axes>"
      ]
     },
     "metadata": {
      "needs_background": "light"
     },
     "output_type": "display_data"
    }
   ],
   "source": [
    "sns.boxplot(x=\"CC_Contacted_LY\",data=df);"
   ]
  },
  {
   "cell_type": "code",
   "execution_count": 36,
   "id": "6355ff3b",
   "metadata": {
    "ExecuteTime": {
     "end_time": "2022-05-01T17:45:05.944593Z",
     "start_time": "2022-05-01T17:45:05.917143Z"
    }
   },
   "outputs": [
    {
     "data": {
      "text/plain": [
       "count    11260.000000\n",
       "mean        17.705240\n",
       "std          8.974194\n",
       "min          0.000000\n",
       "25%         11.000000\n",
       "50%         16.000000\n",
       "75%         23.000000\n",
       "max        132.000000\n",
       "Name: CC_Contacted_LY, dtype: float64"
      ]
     },
     "execution_count": 36,
     "metadata": {},
     "output_type": "execute_result"
    }
   ],
   "source": [
    "df['CC_Contacted_LY'].describe(include=\"all\").T"
   ]
  },
  {
   "cell_type": "code",
   "execution_count": 37,
   "id": "ecfe1756",
   "metadata": {
    "ExecuteTime": {
     "end_time": "2022-05-01T17:45:06.562445Z",
     "start_time": "2022-05-01T17:45:06.192633Z"
    }
   },
   "outputs": [
    {
     "data": {
      "text/plain": [
       "<AxesSubplot:xlabel='account_segment', ylabel='Count'>"
      ]
     },
     "execution_count": 37,
     "metadata": {},
     "output_type": "execute_result"
    },
    {
     "data": {
      "image/png": "[encoded data removed]",
      "text/plain": [
       "<Figure size 432x288 with 1 Axes>"
      ]
     },
     "metadata": {
      "needs_background": "light"
     },
     "output_type": "display_data"
    }
   ],
   "source": [
    "sns.histplot(df[\"account_segment\"])"
   ]
  },
  {
   "cell_type": "code",
   "execution_count": 38,
   "id": "0aa1f5dd",
   "metadata": {
    "ExecuteTime": {
     "end_time": "2022-05-01T17:45:06.698693Z",
     "start_time": "2022-05-01T17:45:06.681724Z"
    }
   },
   "outputs": [
    {
     "data": {
      "text/plain": [
       "count    11260.000000\n",
       "mean         5.915631\n",
       "std         11.598273\n",
       "min          0.000000\n",
       "25%          3.000000\n",
       "50%          4.000000\n",
       "75%          7.000000\n",
       "max        140.000000\n",
       "Name: rev_per_month, dtype: float64"
      ]
     },
     "execution_count": 38,
     "metadata": {},
     "output_type": "execute_result"
    }
   ],
   "source": [
    "df['rev_per_month'].describe(include=\"all\").T"
   ]
  },
  {
   "cell_type": "code",
   "execution_count": 39,
   "id": "89fde242",
   "metadata": {
    "ExecuteTime": {
     "end_time": "2022-05-01T17:45:07.804633Z",
     "start_time": "2022-05-01T17:45:07.560587Z"
    }
   },
   "outputs": [
    {
     "data": {
      "image/png": "[encoded data removed]",
      "text/plain": [
       "<Figure size 432x288 with 1 Axes>"
      ]
     },
     "metadata": {
      "needs_background": "light"
     },
     "output_type": "display_data"
    }
   ],
   "source": [
    "sns.boxplot(x=\"rev_per_month\",data=df);"
   ]
  },
  {
   "cell_type": "code",
   "execution_count": 40,
   "id": "1fb560bc",
   "metadata": {
    "ExecuteTime": {
     "end_time": "2022-05-01T17:45:08.313191Z",
     "start_time": "2022-05-01T17:45:08.296223Z"
    }
   },
   "outputs": [
    {
     "data": {
      "text/plain": [
       "count    11260.000000\n",
       "mean        16.189076\n",
       "std          3.766505\n",
       "min          0.000000\n",
       "25%         13.000000\n",
       "50%         15.000000\n",
       "75%         19.000000\n",
       "max         28.000000\n",
       "Name: rev_growth_yoy, dtype: float64"
      ]
     },
     "execution_count": 40,
     "metadata": {},
     "output_type": "execute_result"
    }
   ],
   "source": [
    "df['rev_growth_yoy'].describe(include=\"all\").T"
   ]
  },
  {
   "cell_type": "code",
   "execution_count": 41,
   "id": "074461bd",
   "metadata": {
    "ExecuteTime": {
     "end_time": "2022-05-01T17:45:09.027451Z",
     "start_time": "2022-05-01T17:45:08.814344Z"
    }
   },
   "outputs": [
    {
     "data": {
      "image/png": "[encoded data removed]",
      "text/plain": [
       "<Figure size 432x288 with 1 Axes>"
      ]
     },
     "metadata": {
      "needs_background": "light"
     },
     "output_type": "display_data"
    }
   ],
   "source": [
    "df['Account_user_count'] = df['Account_user_count'].astype('float')\n",
    "sns.boxplot(x=\"Account_user_count\",data=df);"
   ]
  },
  {
   "cell_type": "code",
   "execution_count": 42,
   "id": "374eae9c",
   "metadata": {
    "ExecuteTime": {
     "end_time": "2022-05-01T17:45:09.890841Z",
     "start_time": "2022-05-01T17:45:09.588907Z"
    }
   },
   "outputs": [
    {
     "data": {
      "image/png": "[encoded data removed]",
      "text/plain": [
       "<Figure size 432x288 with 1 Axes>"
      ]
     },
     "metadata": {
      "needs_background": "light"
     },
     "output_type": "display_data"
    }
   ],
   "source": [
    "df['coupon_used_for_payment'] = df['coupon_used_for_payment'].astype('float')\n",
    "sns.boxplot(x=\"coupon_used_for_payment\",data=df);"
   ]
  },
  {
   "cell_type": "code",
   "execution_count": 43,
   "id": "39b12048",
   "metadata": {
    "ExecuteTime": {
     "end_time": "2022-05-01T17:45:10.025108Z",
     "start_time": "2022-05-01T17:45:10.005130Z"
    }
   },
   "outputs": [
    {
     "data": {
      "text/plain": [
       "count    11260.000000\n",
       "mean         1.790142\n",
       "std          1.969505\n",
       "min          0.000000\n",
       "25%          1.000000\n",
       "50%          1.000000\n",
       "75%          2.000000\n",
       "max         16.000000\n",
       "Name: coupon_used_for_payment, dtype: float64"
      ]
     },
     "execution_count": 43,
     "metadata": {},
     "output_type": "execute_result"
    }
   ],
   "source": [
    "\n",
    "df[\"coupon_used_for_payment\"] = df[\"coupon_used_for_payment\"].astype(\"int\")\n",
    "df['coupon_used_for_payment'].describe(include=\"all\").T"
   ]
  },
  {
   "cell_type": "code",
   "execution_count": 44,
   "id": "0eb87800",
   "metadata": {
    "ExecuteTime": {
     "end_time": "2022-05-01T17:45:11.063663Z",
     "start_time": "2022-05-01T17:45:10.579063Z"
    }
   },
   "outputs": [
    {
     "data": {
      "image/png": "[encoded data removed]",
      "text/plain": [
       "<Figure size 432x288 with 1 Axes>"
      ]
     },
     "metadata": {
      "needs_background": "light"
     },
     "output_type": "display_data"
    }
   ],
   "source": [
    "df['cashback'] = df['cashback'].astype('int')\n",
    "sns.boxplot(x=\"cashback\",data=df);"
   ]
  },
  {
   "cell_type": "code",
   "execution_count": 45,
   "id": "b8f763ed",
   "metadata": {
    "ExecuteTime": {
     "end_time": "2022-05-01T17:45:11.113568Z",
     "start_time": "2022-05-01T17:45:11.098596Z"
    }
   },
   "outputs": [
    {
     "data": {
      "text/plain": [
       "count    11260.000000\n",
       "mean       194.350178\n",
       "std        175.107143\n",
       "min          0.000000\n",
       "25%        148.000000\n",
       "50%        163.000000\n",
       "75%        197.000000\n",
       "max       1997.000000\n",
       "Name: cashback, dtype: float64"
      ]
     },
     "execution_count": 45,
     "metadata": {},
     "output_type": "execute_result"
    }
   ],
   "source": [
    "\n",
    "df['cashback'].describe(include=\"all\").T"
   ]
  },
  {
   "cell_type": "code",
   "execution_count": 46,
   "id": "59e44825",
   "metadata": {
    "ExecuteTime": {
     "end_time": "2022-05-01T17:45:11.910086Z",
     "start_time": "2022-05-01T17:45:11.621125Z"
    }
   },
   "outputs": [
    {
     "data": {
      "image/png": "[encoded data removed]",
      "text/plain": [
       "<Figure size 432x288 with 1 Axes>"
      ]
     },
     "metadata": {
      "needs_background": "light"
     },
     "output_type": "display_data"
    }
   ],
   "source": [
    "df['coupon_used_for_payment'] = df['coupon_used_for_payment'].astype('float')\n",
    "sns.boxplot(x=\"coupon_used_for_payment\",data=df);"
   ]
  },
  {
   "cell_type": "code",
   "execution_count": 47,
   "id": "0ec0972c",
   "metadata": {
    "ExecuteTime": {
     "end_time": "2022-05-01T17:45:12.568509Z",
     "start_time": "2022-05-01T17:45:12.341414Z"
    }
   },
   "outputs": [
    {
     "data": {
      "image/png": "[encoded data removed]",
      "text/plain": [
       "<Figure size 432x288 with 1 Axes>"
      ]
     },
     "metadata": {
      "needs_background": "light"
     },
     "output_type": "display_data"
    }
   ],
   "source": [
    "\n",
    "df[\"Day_Since_CC_connect\"] = df[\"Day_Since_CC_connect\"].astype(\"int\")\n",
    "sns.boxplot(x=\"Day_Since_CC_connect\",data=df);"
   ]
  },
  {
   "cell_type": "code",
   "execution_count": 48,
   "id": "d6b29816",
   "metadata": {
    "ExecuteTime": {
     "end_time": "2022-05-01T17:45:13.014162Z",
     "start_time": "2022-05-01T17:45:12.988214Z"
    }
   },
   "outputs": [
    {
     "data": {
      "text/plain": [
       "count    11260.000000\n",
       "mean         4.580995\n",
       "std          3.649867\n",
       "min          0.000000\n",
       "25%          2.000000\n",
       "50%          3.000000\n",
       "75%          7.000000\n",
       "max         47.000000\n",
       "Name: Day_Since_CC_connect, dtype: float64"
      ]
     },
     "execution_count": 48,
     "metadata": {},
     "output_type": "execute_result"
    }
   ],
   "source": [
    "df['Day_Since_CC_connect'].describe(include=\"all\").T"
   ]
  },
  {
   "cell_type": "code",
   "execution_count": 49,
   "id": "7631105d",
   "metadata": {
    "ExecuteTime": {
     "end_time": "2022-05-01T17:45:14.044120Z",
     "start_time": "2022-05-01T17:45:13.517100Z"
    }
   },
   "outputs": [
    {
     "data": {
      "text/plain": [
       "<AxesSubplot:xlabel='coupon_used_for_payment', ylabel='count'>"
      ]
     },
     "execution_count": 49,
     "metadata": {},
     "output_type": "execute_result"
    },
    {
     "data": {
      "image/png": "[encoded data removed]",
      "text/plain": [
       "<Figure size 432x288 with 1 Axes>"
      ]
     },
     "metadata": {
      "needs_background": "light"
     },
     "output_type": "display_data"
    }
   ],
   "source": [
    "sns.countplot(x='coupon_used_for_payment', data=df)"
   ]
  },
  {
   "cell_type": "code",
   "execution_count": 50,
   "id": "ea7f613b",
   "metadata": {
    "ExecuteTime": {
     "end_time": "2022-05-01T17:45:14.163400Z",
     "start_time": "2022-05-01T17:45:14.157910Z"
    }
   },
   "outputs": [],
   "source": [
    "# BAR plot"
   ]
  },
  {
   "cell_type": "code",
   "execution_count": 51,
   "id": "d8ebcdaa",
   "metadata": {
    "ExecuteTime": {
     "end_time": "2022-05-01T17:45:15.055741Z",
     "start_time": "2022-05-01T17:45:14.688423Z"
    }
   },
   "outputs": [
    {
     "data": {
      "text/plain": [
       "<AxesSubplot:xlabel='Gender', ylabel='count'>"
      ]
     },
     "execution_count": 51,
     "metadata": {},
     "output_type": "execute_result"
    },
    {
     "data": {
      "image/png": "[encoded data removed]",
      "text/plain": [
       "<Figure size 432x288 with 1 Axes>"
      ]
     },
     "metadata": {
      "needs_background": "light"
     },
     "output_type": "display_data"
    }
   ],
   "source": [
    "sns.countplot(x=\"Gender\",data=df)"
   ]
  },
  {
   "cell_type": "code",
   "execution_count": 52,
   "id": "2cc5c707",
   "metadata": {
    "ExecuteTime": {
     "end_time": "2022-05-01T17:45:16.124251Z",
     "start_time": "2022-05-01T17:45:15.387624Z"
    }
   },
   "outputs": [
    {
     "data": {
      "image/png": "[encoded data removed]",
      "text/plain": [
       "<Figure size 432x288 with 1 Axes>"
      ]
     },
     "metadata": {
      "needs_background": "light"
     },
     "output_type": "display_data"
    }
   ],
   "source": [
    "df['cashback'].astype(float)\n",
    "sns.barplot(x=\"Gender\",y=\"cashback\",data=df)\n",
    "plt.show()"
   ]
  },
  {
   "cell_type": "code",
   "execution_count": 53,
   "id": "9b6ebaaa",
   "metadata": {
    "ExecuteTime": {
     "end_time": "2022-05-01T17:45:18.183611Z",
     "start_time": "2022-05-01T17:45:17.893167Z"
    }
   },
   "outputs": [
    {
     "data": {
      "text/plain": [
       "<AxesSubplot:xlabel='Payment', ylabel='count'>"
      ]
     },
     "execution_count": 53,
     "metadata": {},
     "output_type": "execute_result"
    },
    {
     "data": {
      "image/png": "[encoded data removed]",
      "text/plain": [
       "<Figure size 432x288 with 1 Axes>"
      ]
     },
     "metadata": {
      "needs_background": "light"
     },
     "output_type": "display_data"
    }
   ],
   "source": [
    "sns.countplot(x=\"Payment\",data=df)"
   ]
  },
  {
   "cell_type": "code",
   "execution_count": 54,
   "id": "06150a6a",
   "metadata": {
    "ExecuteTime": {
     "end_time": "2022-05-01T17:45:18.566898Z",
     "start_time": "2022-05-01T17:45:18.341320Z"
    }
   },
   "outputs": [
    {
     "data": {
      "text/plain": [
       "<AxesSubplot:xlabel='City_Tier', ylabel='count'>"
      ]
     },
     "execution_count": 54,
     "metadata": {},
     "output_type": "execute_result"
    },
    {
     "data": {
      "image/png": "[encoded data removed]",
      "text/plain": [
       "<Figure size 432x288 with 1 Axes>"
      ]
     },
     "metadata": {
      "needs_background": "light"
     },
     "output_type": "display_data"
    }
   ],
   "source": [
    "sns.countplot(x=\"City_Tier\",data=df)"
   ]
  },
  {
   "cell_type": "code",
   "execution_count": 55,
   "id": "b3531ca4",
   "metadata": {
    "ExecuteTime": {
     "end_time": "2022-05-01T17:45:18.887173Z",
     "start_time": "2022-05-01T17:45:18.630135Z"
    }
   },
   "outputs": [
    {
     "data": {
      "text/plain": [
       "<AxesSubplot:xlabel='Service_Score', ylabel='count'>"
      ]
     },
     "execution_count": 55,
     "metadata": {},
     "output_type": "execute_result"
    },
    {
     "data": {
      "image/png": "[encoded data removed]",
      "text/plain": [
       "<Figure size 432x288 with 1 Axes>"
      ]
     },
     "metadata": {
      "needs_background": "light"
     },
     "output_type": "display_data"
    }
   ],
   "source": [
    "sns.countplot(x=\"Service_Score\",data=df)"
   ]
  },
  {
   "cell_type": "code",
   "execution_count": 56,
   "id": "7f313572",
   "metadata": {
    "ExecuteTime": {
     "end_time": "2022-05-01T17:45:19.197580Z",
     "start_time": "2022-05-01T17:45:18.954548Z"
    }
   },
   "outputs": [
    {
     "data": {
      "text/plain": [
       "<AxesSubplot:xlabel='account_segment', ylabel='count'>"
      ]
     },
     "execution_count": 56,
     "metadata": {},
     "output_type": "execute_result"
    },
    {
     "data": {
      "image/png": "[encoded data removed]",
      "text/plain": [
       "<Figure size 432x288 with 1 Axes>"
      ]
     },
     "metadata": {
      "needs_background": "light"
     },
     "output_type": "display_data"
    }
   ],
   "source": [
    "sns.countplot(x=\"account_segment\",data=df)"
   ]
  },
  {
   "cell_type": "code",
   "execution_count": 57,
   "id": "dad732de",
   "metadata": {
    "ExecuteTime": {
     "end_time": "2022-05-01T17:45:19.211056Z",
     "start_time": "2022-05-01T17:45:19.206563Z"
    }
   },
   "outputs": [],
   "source": [
    "#Bivarate"
   ]
  },
  {
   "cell_type": "code",
   "execution_count": 58,
   "id": "faaf3119",
   "metadata": {
    "ExecuteTime": {
     "end_time": "2022-05-01T17:45:20.375389Z",
     "start_time": "2022-05-01T17:45:19.706135Z"
    }
   },
   "outputs": [
    {
     "data": {
      "text/plain": [
       "<AxesSubplot:xlabel='Churn', ylabel='Tenure'>"
      ]
     },
     "execution_count": 58,
     "metadata": {},
     "output_type": "execute_result"
    },
    {
     "data": {
      "image/png": "[encoded data removed]",
      "text/plain": [
       "<Figure size 432x288 with 1 Axes>"
      ]
     },
     "metadata": {
      "needs_background": "light"
     },
     "output_type": "display_data"
    }
   ],
   "source": [
    "sns.barplot(x=\"Churn\",y=\"Tenure\",data =df)"
   ]
  },
  {
   "cell_type": "code",
   "execution_count": 59,
   "id": "91b96ca2",
   "metadata": {
    "ExecuteTime": {
     "end_time": "2022-05-01T17:45:21.950459Z",
     "start_time": "2022-05-01T17:45:20.736218Z"
    }
   },
   "outputs": [
    {
     "data": {
      "image/png": "[encoded data removed]",
      "text/plain": [
       "<Figure size 792.125x360 with 2 Axes>"
      ]
     },
     "metadata": {
      "needs_background": "light"
     },
     "output_type": "display_data"
    }
   ],
   "source": [
    "df=df.astype({\"Churn\":\"int\"})\n",
    "plt.rcParams[\"figure.figsize\"] = (20,10)\n",
    "sns.catplot(x='Account_user_count', col='Churn',hue=\"Gender\", kind='count', data=df);\n",
    "plt.show()"
   ]
  },
  {
   "cell_type": "code",
   "execution_count": 60,
   "id": "3fcd42bd",
   "metadata": {
    "ExecuteTime": {
     "end_time": "2022-05-01T17:45:24.300601Z",
     "start_time": "2022-05-01T17:45:23.020480Z"
    }
   },
   "outputs": [
    {
     "data": {
      "image/png": "[encoded data removed]",
      "text/plain": [
       "<Figure size 1800x360 with 5 Axes>"
      ]
     },
     "metadata": {
      "needs_background": "light"
     },
     "output_type": "display_data"
    }
   ],
   "source": [
    "sns.catplot(x='City_Tier', col='Payment', kind='count', data=df);\n",
    "plt.show()"
   ]
  },
  {
   "cell_type": "code",
   "execution_count": 61,
   "id": "eb7d0d23",
   "metadata": {
    "ExecuteTime": {
     "end_time": "2022-05-01T17:45:24.373966Z",
     "start_time": "2022-05-01T17:45:24.368475Z"
    }
   },
   "outputs": [],
   "source": [
    "#sns.barplot(x=df.Account_user_count,y=df.account_segment, hue='Churn', data=df)\n",
    "#sns.catplot(x='account_segment', col='Account_user_count',hue=\"Churn\", kind='count', data=df);\n",
    "#sns.catplot(x='account_segment', col='Churn',hue=\"Gender\", kind='count', data=df);"
   ]
  },
  {
   "cell_type": "code",
   "execution_count": 62,
   "id": "293e5872",
   "metadata": {
    "ExecuteTime": {
     "end_time": "2022-05-01T17:45:25.757889Z",
     "start_time": "2022-05-01T17:45:24.797686Z"
    }
   },
   "outputs": [
    {
     "data": {
      "image/png": "[encoded data removed]",
      "text/plain": [
       "<Figure size 792.125x360 with 2 Axes>"
      ]
     },
     "metadata": {
      "needs_background": "light"
     },
     "output_type": "display_data"
    }
   ],
   "source": [
    "sns.catplot(x='account_segment', col='Churn',hue='Gender', kind='count', data=df);\n",
    "plt.show()"
   ]
  },
  {
   "cell_type": "code",
   "execution_count": 63,
   "id": "537eca23",
   "metadata": {
    "ExecuteTime": {
     "end_time": "2022-05-01T17:45:27.096400Z",
     "start_time": "2022-05-01T17:45:25.819275Z"
    }
   },
   "outputs": [
    {
     "data": {
      "image/png": "[encoded data removed]",
      "text/plain": [
       "<Figure size 792.125x360 with 2 Axes>"
      ]
     },
     "metadata": {
      "needs_background": "light"
     },
     "output_type": "display_data"
    }
   ],
   "source": [
    "sns.catplot(x='Service_Score', col='Churn',hue='Gender', kind='count', data=df);\n",
    "plt.show()"
   ]
  },
  {
   "cell_type": "code",
   "execution_count": 64,
   "id": "74b156d9",
   "metadata": {
    "ExecuteTime": {
     "end_time": "2022-05-01T17:45:28.257241Z",
     "start_time": "2022-05-01T17:45:27.199208Z"
    }
   },
   "outputs": [
    {
     "data": {
      "image/png": "[encoded data removed]",
      "text/plain": [
       "<Figure size 792.125x360 with 2 Axes>"
      ]
     },
     "metadata": {
      "needs_background": "light"
     },
     "output_type": "display_data"
    }
   ],
   "source": [
    "sns.catplot(x='Marital_Status', col='Churn',hue='Gender', kind='count', data=df);\n",
    "plt.show()"
   ]
  },
  {
   "cell_type": "code",
   "execution_count": 65,
   "id": "d817e6fe",
   "metadata": {
    "ExecuteTime": {
     "end_time": "2022-05-01T17:45:29.193001Z",
     "start_time": "2022-05-01T17:45:28.312140Z"
    }
   },
   "outputs": [
    {
     "data": {
      "image/png": "[encoded data removed]",
      "text/plain": [
       "<Figure size 762.375x360 with 2 Axes>"
      ]
     },
     "metadata": {
      "needs_background": "light"
     },
     "output_type": "display_data"
    }
   ],
   "source": [
    "sns.catplot(x='City_Tier', col='Login_device',hue='Churn', kind='count', data=df);\n",
    "plt.show()"
   ]
  },
  {
   "cell_type": "code",
   "execution_count": 66,
   "id": "eb9c1a9b",
   "metadata": {
    "ExecuteTime": {
     "end_time": "2022-05-01T17:45:31.253171Z",
     "start_time": "2022-05-01T17:45:29.268861Z"
    }
   },
   "outputs": [
    {
     "data": {
      "image/png": "[encoded data removed]",
      "text/plain": [
       "<Figure size 1842.38x360 with 5 Axes>"
      ]
     },
     "metadata": {
      "needs_background": "light"
     },
     "output_type": "display_data"
    }
   ],
   "source": [
    "sns.catplot(x='City_Tier', col='Payment',hue='Churn', kind='count', data=df);\n",
    "plt.show()"
   ]
  },
  {
   "cell_type": "code",
   "execution_count": 67,
   "id": "aa18365e",
   "metadata": {
    "ExecuteTime": {
     "end_time": "2022-05-01T17:45:31.942387Z",
     "start_time": "2022-05-01T17:45:31.312060Z"
    }
   },
   "outputs": [
    {
     "data": {
      "image/png": "[encoded data removed]",
      "text/plain": [
       "<Figure size 720x360 with 1 Axes>"
      ]
     },
     "metadata": {
      "needs_background": "light"
     },
     "output_type": "display_data"
    }
   ],
   "source": [
    "from scipy import stats\n",
    "plt.figure(figsize=(10,5))\n",
    "sns.scatterplot(x=\"Tenure\", y=\"cashback\", data=df, alpha=0.3)\n",
    "plt.title(\"Correlation between cashback and tenure\")\n",
    "plt.show()"
   ]
  },
  {
   "cell_type": "code",
   "execution_count": 68,
   "id": "44f48bee",
   "metadata": {
    "ExecuteTime": {
     "end_time": "2022-05-01T17:45:32.464916Z",
     "start_time": "2022-05-01T17:45:32.013755Z"
    }
   },
   "outputs": [
    {
     "data": {
      "image/png": "[encoded data removed]",
      "text/plain": [
       "<Figure size 720x360 with 1 Axes>"
      ]
     },
     "metadata": {
      "needs_background": "light"
     },
     "output_type": "display_data"
    }
   ],
   "source": [
    "plt.figure(figsize=(10,5))\n",
    "df=df.astype({\"Day_Since_CC_connect\":\"int\"})\n",
    "sns.scatterplot(x=\"Day_Since_CC_connect\", y=\"cashback\", data=df, alpha=0.3)\n",
    "plt.show()"
   ]
  },
  {
   "cell_type": "code",
   "execution_count": null,
   "id": "cc6ef632",
   "metadata": {
    "ExecuteTime": {
     "end_time": "2022-05-01T15:33:36.036158Z",
     "start_time": "2022-05-01T15:33:36.035660Z"
    }
   },
   "outputs": [],
   "source": []
  },
  {
   "cell_type": "code",
   "execution_count": 69,
   "id": "7de5d254",
   "metadata": {
    "ExecuteTime": {
     "end_time": "2022-05-01T17:45:32.965485Z",
     "start_time": "2022-05-01T17:45:32.522308Z"
    }
   },
   "outputs": [
    {
     "data": {
      "image/png": "[encoded data removed]",
      "text/plain": [
       "<Figure size 1440x720 with 1 Axes>"
      ]
     },
     "metadata": {
      "needs_background": "light"
     },
     "output_type": "display_data"
    }
   ],
   "source": [
    "\n",
    "sns.scatterplot(x=\"rev_growth_yoy\", y=\"rev_per_month\", data=df, alpha=0.3)\n",
    "plt.show()"
   ]
  },
  {
   "cell_type": "code",
   "execution_count": 70,
   "id": "873487d2",
   "metadata": {
    "ExecuteTime": {
     "end_time": "2022-05-01T17:45:33.930706Z",
     "start_time": "2022-05-01T17:45:33.056317Z"
    }
   },
   "outputs": [
    {
     "data": {
      "image/png": "[encoded data removed]",
      "text/plain": [
       "<Figure size 720x360 with 1 Axes>"
      ]
     },
     "metadata": {
      "needs_background": "light"
     },
     "output_type": "display_data"
    }
   ],
   "source": [
    "# construct box plot for continuous variables\n",
    "cont=df.dtypes[(df.dtypes!='uint8') & (df.dtypes!='object') & (df.dtypes!='bool')].index\n",
    "plt.figure(figsize=(10,5))\n",
    "df[cont].boxplot(vert=0)\n",
    "plt.title('With Outliers',fontsize=16) \n",
    "plt.show()\n"
   ]
  },
  {
   "cell_type": "code",
   "execution_count": 71,
   "id": "9d480076",
   "metadata": {
    "ExecuteTime": {
     "end_time": "2022-05-01T17:45:35.842778Z",
     "start_time": "2022-05-01T17:45:35.836790Z"
    }
   },
   "outputs": [],
   "source": [
    "\n",
    "def remove_outlier(col):\n",
    "    sorted(col)\n",
    "    Q1,Q3=np.percentile(col,[25,75])\n",
    "    IQR=Q3-Q1\n",
    "    lower_range= Q1-(1.5 * IQR)\n",
    "    upper_range= Q3+(1.5 * IQR)\n",
    "    return lower_range, upper_range\n"
   ]
  },
  {
   "cell_type": "code",
   "execution_count": 72,
   "id": "3f253d03",
   "metadata": {
    "ExecuteTime": {
     "end_time": "2022-05-01T17:45:38.188644Z",
     "start_time": "2022-05-01T17:45:38.101808Z"
    }
   },
   "outputs": [],
   "source": [
    "for column in df[cont].columns:\n",
    "    lr,ur=remove_outlier(df[column]) \n",
    "    df[column]=np.where(df[column]>ur,ur,df[column])\n",
    "    df[column]=np.where(df[column]<lr,lr,df[column])"
   ]
  },
  {
   "cell_type": "code",
   "execution_count": 73,
   "id": "56d295bc",
   "metadata": {
    "ExecuteTime": {
     "end_time": "2022-05-01T17:45:39.792885Z",
     "start_time": "2022-05-01T17:45:39.054242Z"
    }
   },
   "outputs": [
    {
     "data": {
      "image/png": "[encoded data removed]",
      "text/plain": [
       "<Figure size 720x360 with 1 Axes>"
      ]
     },
     "metadata": {
      "needs_background": "light"
     },
     "output_type": "display_data"
    }
   ],
   "source": [
    "plt.figure(figsize=(10,5))\n",
    "df[cont].boxplot(vert=0)\n",
    "plt.title('After Outlier Removal',fontsize=16)\n",
    "plt.show()"
   ]
  },
  {
   "cell_type": "code",
   "execution_count": 74,
   "id": "72723817",
   "metadata": {
    "ExecuteTime": {
     "end_time": "2022-05-01T17:45:41.984267Z",
     "start_time": "2022-05-01T17:45:40.049393Z"
    }
   },
   "outputs": [
    {
     "data": {
      "image/png": "[encoded data removed]",
      "text/plain": [
       "<Figure size 648x432 with 2 Axes>"
      ]
     },
     "metadata": {
      "needs_background": "light"
     },
     "output_type": "display_data"
    }
   ],
   "source": [
    "\n",
    "corr = df[cont].corr()\n",
    "f,ax = plt.subplots(figsize=(9,6))\n",
    "sns.heatmap(corr, annot = True, linewidths=1.5 , fmt = '.2f',ax=ax)\n",
    "plt.show()"
   ]
  },
  {
   "cell_type": "code",
   "execution_count": 75,
   "id": "31f67d74",
   "metadata": {
    "ExecuteTime": {
     "end_time": "2022-05-01T17:45:47.067272Z",
     "start_time": "2022-05-01T17:45:47.061297Z"
    }
   },
   "outputs": [],
   "source": [
    "dfCopy = df.copy()\n"
   ]
  },
  {
   "cell_type": "code",
   "execution_count": 76,
   "id": "550bbb29",
   "metadata": {
    "ExecuteTime": {
     "end_time": "2022-05-01T17:45:48.504262Z",
     "start_time": "2022-05-01T17:45:48.438385Z"
    }
   },
   "outputs": [
    {
     "data": {
      "text/html": [
       "<div>\n",
       "<style scoped>\n",
       "    .dataframe tbody tr th:only-of-type {\n",
       "        vertical-align: middle;\n",
       "    }\n",
       "\n",
       "    .dataframe tbody tr th {\n",
       "        vertical-align: top;\n",
       "    }\n",
       "\n",
       "    .dataframe thead th {\n",
       "        text-align: right;\n",
       "    }\n",
       "</style>\n",
       "<table border=\"1\" class=\"dataframe\">\n",
       "  <thead>\n",
       "    <tr style=\"text-align: right;\">\n",
       "      <th></th>\n",
       "      <th>Churn</th>\n",
       "      <th>Tenure</th>\n",
       "      <th>City_Tier</th>\n",
       "      <th>CC_Contacted_LY</th>\n",
       "      <th>Payment</th>\n",
       "      <th>Gender</th>\n",
       "      <th>Service_Score</th>\n",
       "      <th>Account_user_count</th>\n",
       "      <th>account_segment</th>\n",
       "      <th>CC_Agent_Score</th>\n",
       "      <th>Marital_Status</th>\n",
       "      <th>rev_per_month</th>\n",
       "      <th>Complain_ly</th>\n",
       "      <th>rev_growth_yoy</th>\n",
       "      <th>coupon_used_for_payment</th>\n",
       "      <th>Day_Since_CC_connect</th>\n",
       "      <th>cashback</th>\n",
       "      <th>Login_device</th>\n",
       "      <th>rev_growth_yoy</th>\n",
       "      <th>coupon_used_for_payment</th>\n",
       "    </tr>\n",
       "  </thead>\n",
       "  <tbody>\n",
       "    <tr>\n",
       "      <th>0</th>\n",
       "      <td>0.0</td>\n",
       "      <td>4.0</td>\n",
       "      <td>3.0</td>\n",
       "      <td>6.0</td>\n",
       "      <td>Debit Card</td>\n",
       "      <td>Female</td>\n",
       "      <td>3.0</td>\n",
       "      <td>3.0</td>\n",
       "      <td>Super</td>\n",
       "      <td>2.0</td>\n",
       "      <td>Single</td>\n",
       "      <td>9.0</td>\n",
       "      <td>1.0</td>\n",
       "      <td>11.0</td>\n",
       "      <td>1.0</td>\n",
       "      <td>5.0</td>\n",
       "      <td>160.0</td>\n",
       "      <td>Mobile</td>\n",
       "      <td>11</td>\n",
       "      <td>1</td>\n",
       "    </tr>\n",
       "    <tr>\n",
       "      <th>1</th>\n",
       "      <td>0.0</td>\n",
       "      <td>0.0</td>\n",
       "      <td>1.0</td>\n",
       "      <td>8.0</td>\n",
       "      <td>UPI</td>\n",
       "      <td>Male</td>\n",
       "      <td>3.0</td>\n",
       "      <td>4.0</td>\n",
       "      <td>Regular Plus</td>\n",
       "      <td>3.0</td>\n",
       "      <td>Single</td>\n",
       "      <td>7.0</td>\n",
       "      <td>1.0</td>\n",
       "      <td>15.0</td>\n",
       "      <td>0.0</td>\n",
       "      <td>0.0</td>\n",
       "      <td>121.0</td>\n",
       "      <td>Mobile</td>\n",
       "      <td>15</td>\n",
       "      <td>0</td>\n",
       "    </tr>\n",
       "    <tr>\n",
       "      <th>2</th>\n",
       "      <td>0.0</td>\n",
       "      <td>0.0</td>\n",
       "      <td>1.0</td>\n",
       "      <td>30.0</td>\n",
       "      <td>Debit Card</td>\n",
       "      <td>Male</td>\n",
       "      <td>2.0</td>\n",
       "      <td>4.0</td>\n",
       "      <td>Regular Plus</td>\n",
       "      <td>3.0</td>\n",
       "      <td>Single</td>\n",
       "      <td>6.0</td>\n",
       "      <td>1.0</td>\n",
       "      <td>14.0</td>\n",
       "      <td>0.0</td>\n",
       "      <td>3.0</td>\n",
       "      <td>152.0</td>\n",
       "      <td>Mobile</td>\n",
       "      <td>14</td>\n",
       "      <td>0</td>\n",
       "    </tr>\n",
       "    <tr>\n",
       "      <th>3</th>\n",
       "      <td>0.0</td>\n",
       "      <td>0.0</td>\n",
       "      <td>3.0</td>\n",
       "      <td>15.0</td>\n",
       "      <td>Debit Card</td>\n",
       "      <td>Male</td>\n",
       "      <td>2.0</td>\n",
       "      <td>4.0</td>\n",
       "      <td>Super</td>\n",
       "      <td>5.0</td>\n",
       "      <td>Single</td>\n",
       "      <td>8.0</td>\n",
       "      <td>0.0</td>\n",
       "      <td>23.0</td>\n",
       "      <td>0.0</td>\n",
       "      <td>3.0</td>\n",
       "      <td>134.0</td>\n",
       "      <td>Mobile</td>\n",
       "      <td>23</td>\n",
       "      <td>0</td>\n",
       "    </tr>\n",
       "    <tr>\n",
       "      <th>4</th>\n",
       "      <td>0.0</td>\n",
       "      <td>0.0</td>\n",
       "      <td>1.0</td>\n",
       "      <td>12.0</td>\n",
       "      <td>Credit Card</td>\n",
       "      <td>Male</td>\n",
       "      <td>2.0</td>\n",
       "      <td>3.0</td>\n",
       "      <td>Regular Plus</td>\n",
       "      <td>5.0</td>\n",
       "      <td>Single</td>\n",
       "      <td>3.0</td>\n",
       "      <td>0.0</td>\n",
       "      <td>11.0</td>\n",
       "      <td>1.0</td>\n",
       "      <td>3.0</td>\n",
       "      <td>130.0</td>\n",
       "      <td>Mobile</td>\n",
       "      <td>11</td>\n",
       "      <td>1</td>\n",
       "    </tr>\n",
       "  </tbody>\n",
       "</table>\n",
       "</div>"
      ],
      "text/plain": [
       "   Churn  Tenure  City_Tier  CC_Contacted_LY      Payment  Gender  \\\n",
       "0    0.0     4.0        3.0              6.0   Debit Card  Female   \n",
       "1    0.0     0.0        1.0              8.0          UPI    Male   \n",
       "2    0.0     0.0        1.0             30.0   Debit Card    Male   \n",
       "3    0.0     0.0        3.0             15.0   Debit Card    Male   \n",
       "4    0.0     0.0        1.0             12.0  Credit Card    Male   \n",
       "\n",
       "   Service_Score  Account_user_count account_segment  CC_Agent_Score  \\\n",
       "0            3.0                 3.0           Super             2.0   \n",
       "1            3.0                 4.0    Regular Plus             3.0   \n",
       "2            2.0                 4.0    Regular Plus             3.0   \n",
       "3            2.0                 4.0           Super             5.0   \n",
       "4            2.0                 3.0    Regular Plus             5.0   \n",
       "\n",
       "  Marital_Status  rev_per_month  Complain_ly  rev_growth_yoy  \\\n",
       "0         Single            9.0          1.0            11.0   \n",
       "1         Single            7.0          1.0            15.0   \n",
       "2         Single            6.0          1.0            14.0   \n",
       "3         Single            8.0          0.0            23.0   \n",
       "4         Single            3.0          0.0            11.0   \n",
       "\n",
       "   coupon_used_for_payment  Day_Since_CC_connect  cashback Login_device  \\\n",
       "0                      1.0                   5.0     160.0       Mobile   \n",
       "1                      0.0                   0.0     121.0       Mobile   \n",
       "2                      0.0                   3.0     152.0       Mobile   \n",
       "3                      0.0                   3.0     134.0       Mobile   \n",
       "4                      1.0                   3.0     130.0       Mobile   \n",
       "\n",
       "   rev_growth_yoy  coupon_used_for_payment  \n",
       "0              11                        1  \n",
       "1              15                        0  \n",
       "2              14                        0  \n",
       "3              23                        0  \n",
       "4              11                        1  "
      ]
     },
     "execution_count": 76,
     "metadata": {},
     "output_type": "execute_result"
    }
   ],
   "source": [
    "dfCopy.head()"
   ]
  },
  {
   "cell_type": "code",
   "execution_count": null,
   "id": "8d91c698",
   "metadata": {},
   "outputs": [],
   "source": []
  },
  {
   "cell_type": "code",
   "execution_count": 77,
   "id": "9b4fb074",
   "metadata": {
    "ExecuteTime": {
     "end_time": "2022-05-01T17:47:03.929213Z",
     "start_time": "2022-05-01T17:47:03.824908Z"
    }
   },
   "outputs": [],
   "source": [
    "#Converting all objects to categorical codes:Label encoding\n",
    "dfCopy ['Payment']=np.where(dfCopy ['Payment'] =='Cash on Delivery', '1', dfCopy ['Payment']) \n",
    "dfCopy ['Payment']=np.where(dfCopy ['Payment'] =='Credit Card', '2', dfCopy ['Payment']) \n",
    "dfCopy ['Payment']=np.where(dfCopy ['Payment'] =='Debit Card', '3', dfCopy ['Payment']) \n",
    "dfCopy ['Payment']=np.where(dfCopy ['Payment'] =='E wallet', '4', dfCopy ['Payment']) \n",
    "dfCopy ['Payment']=np.where(dfCopy ['Payment'] =='UPI', '5', dfCopy ['Payment']) \n",
    "\n",
    "dfCopy ['Gender']=np.where(dfCopy ['Gender'] =='Male', '1', dfCopy ['Gender']) \n",
    "dfCopy ['Gender']=np.where(dfCopy ['Gender'] =='Female', '2', dfCopy ['Gender'])\n",
    "\n",
    "dfCopy ['account_segment']=np.where(dfCopy ['account_segment'] =='HNI', '1', dfCopy ['account_segment']) \n",
    "dfCopy ['account_segment']=np.where(dfCopy ['account_segment'] =='Regular', '2', dfCopy ['account_segment']) \n",
    "dfCopy ['account_segment']=np.where(dfCopy ['account_segment'] =='Regular Plus', '3', dfCopy ['account_segment']) \n",
    "dfCopy ['account_segment']=np.where(dfCopy ['account_segment'] =='Super', '4', dfCopy ['account_segment'])\n",
    "dfCopy ['account_segment']=np.where(dfCopy ['account_segment'] =='Super Plus', '5', dfCopy ['account_segment']) \n",
    "\n",
    "\n",
    "\n",
    "dfCopy ['Marital_Status']=np.where(dfCopy ['Marital_Status'] =='Divorced', '1', dfCopy ['Marital_Status']) \n",
    "dfCopy ['Marital_Status']=np.where(dfCopy ['Marital_Status'] =='Married', '2', dfCopy ['Marital_Status']) \n",
    "dfCopy ['Marital_Status']=np.where(dfCopy ['Marital_Status'] =='Single', '3', dfCopy ['Marital_Status']) \n",
    "\n",
    "\n",
    "dfCopy ['Login_device']=np.where(dfCopy ['Login_device'] =='Computer', '1', dfCopy ['Login_device']) \n",
    "dfCopy ['Login_device']=np.where(dfCopy ['Login_device'] =='Mobile', '2', dfCopy ['Login_device']) \n",
    "\n",
    "dfCopy ['Login_device'] = dfCopy ['Login_device'].fillna(dfCopy ['Login_device'].mode()[0])\n"
   ]
  },
  {
   "cell_type": "code",
   "execution_count": 78,
   "id": "98578d02",
   "metadata": {
    "ExecuteTime": {
     "end_time": "2022-05-01T17:47:05.392391Z",
     "start_time": "2022-05-01T17:47:05.313039Z"
    }
   },
   "outputs": [
    {
     "data": {
      "text/html": [
       "<div>\n",
       "<style scoped>\n",
       "    .dataframe tbody tr th:only-of-type {\n",
       "        vertical-align: middle;\n",
       "    }\n",
       "\n",
       "    .dataframe tbody tr th {\n",
       "        vertical-align: top;\n",
       "    }\n",
       "\n",
       "    .dataframe thead th {\n",
       "        text-align: right;\n",
       "    }\n",
       "</style>\n",
       "<table border=\"1\" class=\"dataframe\">\n",
       "  <thead>\n",
       "    <tr style=\"text-align: right;\">\n",
       "      <th></th>\n",
       "      <th>Churn</th>\n",
       "      <th>Tenure</th>\n",
       "      <th>City_Tier</th>\n",
       "      <th>CC_Contacted_LY</th>\n",
       "      <th>Payment</th>\n",
       "      <th>Gender</th>\n",
       "      <th>Service_Score</th>\n",
       "      <th>Account_user_count</th>\n",
       "      <th>account_segment</th>\n",
       "      <th>CC_Agent_Score</th>\n",
       "      <th>Marital_Status</th>\n",
       "      <th>rev_per_month</th>\n",
       "      <th>Complain_ly</th>\n",
       "      <th>rev_growth_yoy</th>\n",
       "      <th>coupon_used_for_payment</th>\n",
       "      <th>Day_Since_CC_connect</th>\n",
       "      <th>cashback</th>\n",
       "      <th>Login_device</th>\n",
       "      <th>rev_growth_yoy</th>\n",
       "      <th>coupon_used_for_payment</th>\n",
       "    </tr>\n",
       "  </thead>\n",
       "  <tbody>\n",
       "    <tr>\n",
       "      <th>0</th>\n",
       "      <td>0.0</td>\n",
       "      <td>4.0</td>\n",
       "      <td>3.0</td>\n",
       "      <td>6.0</td>\n",
       "      <td>3</td>\n",
       "      <td>2</td>\n",
       "      <td>3.0</td>\n",
       "      <td>3.0</td>\n",
       "      <td>4</td>\n",
       "      <td>2.0</td>\n",
       "      <td>3</td>\n",
       "      <td>9.0</td>\n",
       "      <td>1.0</td>\n",
       "      <td>11.0</td>\n",
       "      <td>1.0</td>\n",
       "      <td>5.0</td>\n",
       "      <td>160.0</td>\n",
       "      <td>2</td>\n",
       "      <td>11</td>\n",
       "      <td>1</td>\n",
       "    </tr>\n",
       "    <tr>\n",
       "      <th>1</th>\n",
       "      <td>0.0</td>\n",
       "      <td>0.0</td>\n",
       "      <td>1.0</td>\n",
       "      <td>8.0</td>\n",
       "      <td>5</td>\n",
       "      <td>1</td>\n",
       "      <td>3.0</td>\n",
       "      <td>4.0</td>\n",
       "      <td>3</td>\n",
       "      <td>3.0</td>\n",
       "      <td>3</td>\n",
       "      <td>7.0</td>\n",
       "      <td>1.0</td>\n",
       "      <td>15.0</td>\n",
       "      <td>0.0</td>\n",
       "      <td>0.0</td>\n",
       "      <td>121.0</td>\n",
       "      <td>2</td>\n",
       "      <td>15</td>\n",
       "      <td>0</td>\n",
       "    </tr>\n",
       "    <tr>\n",
       "      <th>2</th>\n",
       "      <td>0.0</td>\n",
       "      <td>0.0</td>\n",
       "      <td>1.0</td>\n",
       "      <td>30.0</td>\n",
       "      <td>3</td>\n",
       "      <td>1</td>\n",
       "      <td>2.0</td>\n",
       "      <td>4.0</td>\n",
       "      <td>3</td>\n",
       "      <td>3.0</td>\n",
       "      <td>3</td>\n",
       "      <td>6.0</td>\n",
       "      <td>1.0</td>\n",
       "      <td>14.0</td>\n",
       "      <td>0.0</td>\n",
       "      <td>3.0</td>\n",
       "      <td>152.0</td>\n",
       "      <td>2</td>\n",
       "      <td>14</td>\n",
       "      <td>0</td>\n",
       "    </tr>\n",
       "    <tr>\n",
       "      <th>3</th>\n",
       "      <td>0.0</td>\n",
       "      <td>0.0</td>\n",
       "      <td>3.0</td>\n",
       "      <td>15.0</td>\n",
       "      <td>3</td>\n",
       "      <td>1</td>\n",
       "      <td>2.0</td>\n",
       "      <td>4.0</td>\n",
       "      <td>4</td>\n",
       "      <td>5.0</td>\n",
       "      <td>3</td>\n",
       "      <td>8.0</td>\n",
       "      <td>0.0</td>\n",
       "      <td>23.0</td>\n",
       "      <td>0.0</td>\n",
       "      <td>3.0</td>\n",
       "      <td>134.0</td>\n",
       "      <td>2</td>\n",
       "      <td>23</td>\n",
       "      <td>0</td>\n",
       "    </tr>\n",
       "    <tr>\n",
       "      <th>4</th>\n",
       "      <td>0.0</td>\n",
       "      <td>0.0</td>\n",
       "      <td>1.0</td>\n",
       "      <td>12.0</td>\n",
       "      <td>2</td>\n",
       "      <td>1</td>\n",
       "      <td>2.0</td>\n",
       "      <td>3.0</td>\n",
       "      <td>3</td>\n",
       "      <td>5.0</td>\n",
       "      <td>3</td>\n",
       "      <td>3.0</td>\n",
       "      <td>0.0</td>\n",
       "      <td>11.0</td>\n",
       "      <td>1.0</td>\n",
       "      <td>3.0</td>\n",
       "      <td>130.0</td>\n",
       "      <td>2</td>\n",
       "      <td>11</td>\n",
       "      <td>1</td>\n",
       "    </tr>\n",
       "  </tbody>\n",
       "</table>\n",
       "</div>"
      ],
      "text/plain": [
       "   Churn  Tenure  City_Tier  CC_Contacted_LY Payment Gender  Service_Score  \\\n",
       "0    0.0     4.0        3.0              6.0       3      2            3.0   \n",
       "1    0.0     0.0        1.0              8.0       5      1            3.0   \n",
       "2    0.0     0.0        1.0             30.0       3      1            2.0   \n",
       "3    0.0     0.0        3.0             15.0       3      1            2.0   \n",
       "4    0.0     0.0        1.0             12.0       2      1            2.0   \n",
       "\n",
       "   Account_user_count account_segment  CC_Agent_Score Marital_Status  \\\n",
       "0                 3.0               4             2.0              3   \n",
       "1                 4.0               3             3.0              3   \n",
       "2                 4.0               3             3.0              3   \n",
       "3                 4.0               4             5.0              3   \n",
       "4                 3.0               3             5.0              3   \n",
       "\n",
       "   rev_per_month  Complain_ly  rev_growth_yoy  coupon_used_for_payment  \\\n",
       "0            9.0          1.0            11.0                      1.0   \n",
       "1            7.0          1.0            15.0                      0.0   \n",
       "2            6.0          1.0            14.0                      0.0   \n",
       "3            8.0          0.0            23.0                      0.0   \n",
       "4            3.0          0.0            11.0                      1.0   \n",
       "\n",
       "   Day_Since_CC_connect  cashback Login_device  rev_growth_yoy  \\\n",
       "0                   5.0     160.0            2              11   \n",
       "1                   0.0     121.0            2              15   \n",
       "2                   3.0     152.0            2              14   \n",
       "3                   3.0     134.0            2              23   \n",
       "4                   3.0     130.0            2              11   \n",
       "\n",
       "   coupon_used_for_payment  \n",
       "0                        1  \n",
       "1                        0  \n",
       "2                        0  \n",
       "3                        0  \n",
       "4                        1  "
      ]
     },
     "execution_count": 78,
     "metadata": {},
     "output_type": "execute_result"
    }
   ],
   "source": [
    "dfCopy.head()"
   ]
  },
  {
   "cell_type": "code",
   "execution_count": 79,
   "id": "e9b84f70",
   "metadata": {
    "ExecuteTime": {
     "end_time": "2022-05-01T17:49:44.888382Z",
     "start_time": "2022-05-01T17:49:44.877907Z"
    }
   },
   "outputs": [],
   "source": [
    "df=df.drop(\"Churn\", axis=1)"
   ]
  },
  {
   "cell_type": "code",
   "execution_count": 80,
   "id": "bae711bb",
   "metadata": {
    "ExecuteTime": {
     "end_time": "2022-05-01T17:49:45.848437Z",
     "start_time": "2022-05-01T17:49:45.837460Z"
    }
   },
   "outputs": [],
   "source": [
    "#Perform the K-Means clustering\n",
    "#Standardize the data\n",
    "# dropping categorails values\n",
    "\n",
    "df=df.drop([\"Payment\",\"Gender\",\"account_segment\",\"Marital_Status\",\"Login_device\",\"Service_Score\",\"City_Tier\",\"CC_Agent_Score\",\"Complain_ly\"],axis = 1)"
   ]
  },
  {
   "cell_type": "code",
   "execution_count": 81,
   "id": "bbef2ec3",
   "metadata": {
    "ExecuteTime": {
     "end_time": "2022-05-01T17:49:46.619557Z",
     "start_time": "2022-05-01T17:49:46.576637Z"
    }
   },
   "outputs": [
    {
     "data": {
      "text/html": [
       "<div>\n",
       "<style scoped>\n",
       "    .dataframe tbody tr th:only-of-type {\n",
       "        vertical-align: middle;\n",
       "    }\n",
       "\n",
       "    .dataframe tbody tr th {\n",
       "        vertical-align: top;\n",
       "    }\n",
       "\n",
       "    .dataframe thead th {\n",
       "        text-align: right;\n",
       "    }\n",
       "</style>\n",
       "<table border=\"1\" class=\"dataframe\">\n",
       "  <thead>\n",
       "    <tr style=\"text-align: right;\">\n",
       "      <th></th>\n",
       "      <th>Tenure</th>\n",
       "      <th>CC_Contacted_LY</th>\n",
       "      <th>Account_user_count</th>\n",
       "      <th>rev_per_month</th>\n",
       "      <th>rev_growth_yoy</th>\n",
       "      <th>coupon_used_for_payment</th>\n",
       "      <th>Day_Since_CC_connect</th>\n",
       "      <th>cashback</th>\n",
       "      <th>rev_growth_yoy</th>\n",
       "      <th>coupon_used_for_payment</th>\n",
       "    </tr>\n",
       "  </thead>\n",
       "  <tbody>\n",
       "    <tr>\n",
       "      <th>0</th>\n",
       "      <td>4.0</td>\n",
       "      <td>6.0</td>\n",
       "      <td>3.0</td>\n",
       "      <td>9.0</td>\n",
       "      <td>11.0</td>\n",
       "      <td>1.0</td>\n",
       "      <td>5.0</td>\n",
       "      <td>160.0</td>\n",
       "      <td>11</td>\n",
       "      <td>1</td>\n",
       "    </tr>\n",
       "    <tr>\n",
       "      <th>1</th>\n",
       "      <td>0.0</td>\n",
       "      <td>8.0</td>\n",
       "      <td>4.0</td>\n",
       "      <td>7.0</td>\n",
       "      <td>15.0</td>\n",
       "      <td>0.0</td>\n",
       "      <td>0.0</td>\n",
       "      <td>121.0</td>\n",
       "      <td>15</td>\n",
       "      <td>0</td>\n",
       "    </tr>\n",
       "    <tr>\n",
       "      <th>2</th>\n",
       "      <td>0.0</td>\n",
       "      <td>30.0</td>\n",
       "      <td>4.0</td>\n",
       "      <td>6.0</td>\n",
       "      <td>14.0</td>\n",
       "      <td>0.0</td>\n",
       "      <td>3.0</td>\n",
       "      <td>152.0</td>\n",
       "      <td>14</td>\n",
       "      <td>0</td>\n",
       "    </tr>\n",
       "    <tr>\n",
       "      <th>3</th>\n",
       "      <td>0.0</td>\n",
       "      <td>15.0</td>\n",
       "      <td>4.0</td>\n",
       "      <td>8.0</td>\n",
       "      <td>23.0</td>\n",
       "      <td>0.0</td>\n",
       "      <td>3.0</td>\n",
       "      <td>134.0</td>\n",
       "      <td>23</td>\n",
       "      <td>0</td>\n",
       "    </tr>\n",
       "    <tr>\n",
       "      <th>4</th>\n",
       "      <td>0.0</td>\n",
       "      <td>12.0</td>\n",
       "      <td>3.0</td>\n",
       "      <td>3.0</td>\n",
       "      <td>11.0</td>\n",
       "      <td>1.0</td>\n",
       "      <td>3.0</td>\n",
       "      <td>130.0</td>\n",
       "      <td>11</td>\n",
       "      <td>1</td>\n",
       "    </tr>\n",
       "  </tbody>\n",
       "</table>\n",
       "</div>"
      ],
      "text/plain": [
       "   Tenure  CC_Contacted_LY  Account_user_count  rev_per_month  rev_growth_yoy  \\\n",
       "0     4.0              6.0                 3.0            9.0            11.0   \n",
       "1     0.0              8.0                 4.0            7.0            15.0   \n",
       "2     0.0             30.0                 4.0            6.0            14.0   \n",
       "3     0.0             15.0                 4.0            8.0            23.0   \n",
       "4     0.0             12.0                 3.0            3.0            11.0   \n",
       "\n",
       "   coupon_used_for_payment  Day_Since_CC_connect  cashback  rev_growth_yoy  \\\n",
       "0                      1.0                   5.0     160.0              11   \n",
       "1                      0.0                   0.0     121.0              15   \n",
       "2                      0.0                   3.0     152.0              14   \n",
       "3                      0.0                   3.0     134.0              23   \n",
       "4                      1.0                   3.0     130.0              11   \n",
       "\n",
       "   coupon_used_for_payment  \n",
       "0                        1  \n",
       "1                        0  \n",
       "2                        0  \n",
       "3                        0  \n",
       "4                        1  "
      ]
     },
     "execution_count": 81,
     "metadata": {},
     "output_type": "execute_result"
    }
   ],
   "source": [
    "df.head()\n"
   ]
  },
  {
   "cell_type": "code",
   "execution_count": 82,
   "id": "3edb5e81",
   "metadata": {
    "ExecuteTime": {
     "end_time": "2022-05-01T17:49:50.301001Z",
     "start_time": "2022-05-01T17:49:47.620901Z"
    }
   },
   "outputs": [
    {
     "data": {
      "text/plain": [
       "array([[-0.67532694, -1.33722358, -0.76905687, ..., -0.38119068,\n",
       "        -1.3777513 , -0.40120594],\n",
       "       [-1.11982745, -1.10805213,  0.31291731, ..., -1.2748348 ,\n",
       "        -0.31571158, -0.90897023],\n",
       "       [-1.11982745,  1.41283388,  0.31291731, ..., -0.5645023 ,\n",
       "        -0.58122151, -0.90897023],\n",
       "       ...,\n",
       "       [-1.00870232, -0.42053776, -1.85103106, ...,  0.32914182,\n",
       "         1.54285792, -0.40120594],\n",
       "       [ 1.43605048, -0.76429495,  1.3948915 , ...,  0.07708835,\n",
       "        -0.05020166,  0.10655835],\n",
       "       [-0.23082643,  0.49614806, -1.85103106, ..., -0.03748141,\n",
       "        -0.84673144,  0.10655835]])"
      ]
     },
     "execution_count": 82,
     "metadata": {},
     "output_type": "execute_result"
    }
   ],
   "source": [
    "from sklearn.preprocessing import StandardScaler\n",
    "X = StandardScaler()\n",
    "scaled_df = X.fit_transform(df)\n",
    "scaled_df"
   ]
  },
  {
   "cell_type": "code",
   "execution_count": 83,
   "id": "f9767844",
   "metadata": {
    "ExecuteTime": {
     "end_time": "2022-05-01T17:49:50.474676Z",
     "start_time": "2022-05-01T17:49:50.428264Z"
    }
   },
   "outputs": [
    {
     "data": {
      "text/html": [
       "<div>\n",
       "<style scoped>\n",
       "    .dataframe tbody tr th:only-of-type {\n",
       "        vertical-align: middle;\n",
       "    }\n",
       "\n",
       "    .dataframe tbody tr th {\n",
       "        vertical-align: top;\n",
       "    }\n",
       "\n",
       "    .dataframe thead th {\n",
       "        text-align: right;\n",
       "    }\n",
       "</style>\n",
       "<table border=\"1\" class=\"dataframe\">\n",
       "  <thead>\n",
       "    <tr style=\"text-align: right;\">\n",
       "      <th></th>\n",
       "      <th>Tenure</th>\n",
       "      <th>CC_Contacted_LY</th>\n",
       "      <th>Account_user_count</th>\n",
       "      <th>rev_per_month</th>\n",
       "      <th>rev_growth_yoy</th>\n",
       "      <th>coupon_used_for_payment</th>\n",
       "      <th>Day_Since_CC_connect</th>\n",
       "      <th>cashback</th>\n",
       "      <th>rev_growth_yoy</th>\n",
       "      <th>coupon_used_for_payment</th>\n",
       "    </tr>\n",
       "  </thead>\n",
       "  <tbody>\n",
       "    <tr>\n",
       "      <th>0</th>\n",
       "      <td>-0.675327</td>\n",
       "      <td>-1.337224</td>\n",
       "      <td>-0.769057</td>\n",
       "      <td>1.290208</td>\n",
       "      <td>-1.379506</td>\n",
       "      <td>-0.430905</td>\n",
       "      <td>0.129952</td>\n",
       "      <td>-0.381191</td>\n",
       "      <td>-1.377751</td>\n",
       "      <td>-0.401206</td>\n",
       "    </tr>\n",
       "    <tr>\n",
       "      <th>1</th>\n",
       "      <td>-1.119827</td>\n",
       "      <td>-1.108052</td>\n",
       "      <td>0.312917</td>\n",
       "      <td>0.660907</td>\n",
       "      <td>-0.316332</td>\n",
       "      <td>-1.337988</td>\n",
       "      <td>-1.301249</td>\n",
       "      <td>-1.274835</td>\n",
       "      <td>-0.315712</td>\n",
       "      <td>-0.908970</td>\n",
       "    </tr>\n",
       "    <tr>\n",
       "      <th>2</th>\n",
       "      <td>-1.119827</td>\n",
       "      <td>1.412834</td>\n",
       "      <td>0.312917</td>\n",
       "      <td>0.346256</td>\n",
       "      <td>-0.582125</td>\n",
       "      <td>-1.337988</td>\n",
       "      <td>-0.442528</td>\n",
       "      <td>-0.564502</td>\n",
       "      <td>-0.581222</td>\n",
       "      <td>-0.908970</td>\n",
       "    </tr>\n",
       "    <tr>\n",
       "      <th>3</th>\n",
       "      <td>-1.119827</td>\n",
       "      <td>-0.305952</td>\n",
       "      <td>0.312917</td>\n",
       "      <td>0.975558</td>\n",
       "      <td>1.810015</td>\n",
       "      <td>-1.337988</td>\n",
       "      <td>-0.442528</td>\n",
       "      <td>-0.976953</td>\n",
       "      <td>1.808368</td>\n",
       "      <td>-0.908970</td>\n",
       "    </tr>\n",
       "    <tr>\n",
       "      <th>4</th>\n",
       "      <td>-1.119827</td>\n",
       "      <td>-0.649709</td>\n",
       "      <td>-0.769057</td>\n",
       "      <td>-0.597697</td>\n",
       "      <td>-1.379506</td>\n",
       "      <td>-0.430905</td>\n",
       "      <td>-0.442528</td>\n",
       "      <td>-1.068609</td>\n",
       "      <td>-1.377751</td>\n",
       "      <td>-0.401206</td>\n",
       "    </tr>\n",
       "  </tbody>\n",
       "</table>\n",
       "</div>"
      ],
      "text/plain": [
       "     Tenure  CC_Contacted_LY  Account_user_count  rev_per_month  \\\n",
       "0 -0.675327        -1.337224           -0.769057       1.290208   \n",
       "1 -1.119827        -1.108052            0.312917       0.660907   \n",
       "2 -1.119827         1.412834            0.312917       0.346256   \n",
       "3 -1.119827        -0.305952            0.312917       0.975558   \n",
       "4 -1.119827        -0.649709           -0.769057      -0.597697   \n",
       "\n",
       "   rev_growth_yoy  coupon_used_for_payment  Day_Since_CC_connect  cashback  \\\n",
       "0       -1.379506                -0.430905              0.129952 -0.381191   \n",
       "1       -0.316332                -1.337988             -1.301249 -1.274835   \n",
       "2       -0.582125                -1.337988             -0.442528 -0.564502   \n",
       "3        1.810015                -1.337988             -0.442528 -0.976953   \n",
       "4       -1.379506                -0.430905             -0.442528 -1.068609   \n",
       "\n",
       "    rev_growth_yoy   coupon_used_for_payment  \n",
       "0        -1.377751                 -0.401206  \n",
       "1        -0.315712                 -0.908970  \n",
       "2        -0.581222                 -0.908970  \n",
       "3         1.808368                 -0.908970  \n",
       "4        -1.377751                 -0.401206  "
      ]
     },
     "execution_count": 83,
     "metadata": {},
     "output_type": "execute_result"
    }
   ],
   "source": [
    "scaled_df = pd.DataFrame(scaled_df, index=df.index, columns=df.columns)\n",
    "scaled_df.head()"
   ]
  },
  {
   "cell_type": "code",
   "execution_count": 84,
   "id": "e24b43e4",
   "metadata": {
    "ExecuteTime": {
     "end_time": "2022-05-01T17:50:16.103421Z",
     "start_time": "2022-05-01T17:49:50.483161Z"
    }
   },
   "outputs": [],
   "source": [
    "#Find the Within Sum of Squares (WSS) for 2 to 15 clusters.\n",
    "from sklearn.cluster import KMeans\n",
    "wss =[]\n",
    "for i in range(1,15):\n",
    "    KM = KMeans(n_clusters=i,random_state=1)\n",
    "    KM.fit(scaled_df)\n",
    "    wss.append(KM.inertia_)"
   ]
  },
  {
   "cell_type": "code",
   "execution_count": 85,
   "id": "72dc2275",
   "metadata": {
    "ExecuteTime": {
     "end_time": "2022-05-01T17:50:16.503181Z",
     "start_time": "2022-05-01T17:50:16.482218Z"
    }
   },
   "outputs": [],
   "source": [
    "#Plot the Within Sum of Squares (WSS) plot using the values of 'inertia"
   ]
  },
  {
   "cell_type": "code",
   "execution_count": 86,
   "id": "de0839b2",
   "metadata": {
    "ExecuteTime": {
     "end_time": "2022-05-01T17:50:17.020220Z",
     "start_time": "2022-05-01T17:50:16.699314Z"
    }
   },
   "outputs": [
    {
     "data": {
      "image/png": "[encoded data removed]",
      "text/plain": [
       "<Figure size 1440x720 with 1 Axes>"
      ]
     },
     "metadata": {
      "needs_background": "light"
     },
     "output_type": "display_data"
    }
   ],
   "source": [
    "plt.plot(range(1,15), wss)\n",
    "plt.grid()\n",
    "plt.show()"
   ]
  },
  {
   "cell_type": "code",
   "execution_count": 87,
   "id": "9e45261a",
   "metadata": {
    "ExecuteTime": {
     "end_time": "2022-05-01T17:50:17.637070Z",
     "start_time": "2022-05-01T17:50:17.120532Z"
    }
   },
   "outputs": [
    {
     "data": {
      "text/plain": [
       "array([1, 1, 1, ..., 2, 0, 1])"
      ]
     },
     "execution_count": 87,
     "metadata": {},
     "output_type": "execute_result"
    }
   ],
   "source": [
    "#Ideal No of clusters is 3\n",
    "k_means6 = KMeans(n_clusters = 3,random_state=1)\n",
    "k_means6.fit(scaled_df)\n",
    "labels_3 = k_means6.labels_\n",
    "labels_3"
   ]
  },
  {
   "cell_type": "code",
   "execution_count": 88,
   "id": "40ca9787",
   "metadata": {
    "ExecuteTime": {
     "end_time": "2022-05-01T17:50:17.833205Z",
     "start_time": "2022-05-01T17:50:17.796274Z"
    }
   },
   "outputs": [
    {
     "data": {
      "text/html": [
       "<div>\n",
       "<style scoped>\n",
       "    .dataframe tbody tr th:only-of-type {\n",
       "        vertical-align: middle;\n",
       "    }\n",
       "\n",
       "    .dataframe tbody tr th {\n",
       "        vertical-align: top;\n",
       "    }\n",
       "\n",
       "    .dataframe thead th {\n",
       "        text-align: right;\n",
       "    }\n",
       "</style>\n",
       "<table border=\"1\" class=\"dataframe\">\n",
       "  <thead>\n",
       "    <tr style=\"text-align: right;\">\n",
       "      <th></th>\n",
       "      <th>Tenure</th>\n",
       "      <th>CC_Contacted_LY</th>\n",
       "      <th>Account_user_count</th>\n",
       "      <th>rev_per_month</th>\n",
       "      <th>rev_growth_yoy</th>\n",
       "      <th>coupon_used_for_payment</th>\n",
       "      <th>Day_Since_CC_connect</th>\n",
       "      <th>cashback</th>\n",
       "      <th>rev_growth_yoy</th>\n",
       "      <th>coupon_used_for_payment</th>\n",
       "      <th>Kmeans_clusters</th>\n",
       "    </tr>\n",
       "  </thead>\n",
       "  <tbody>\n",
       "    <tr>\n",
       "      <th>0</th>\n",
       "      <td>4.0</td>\n",
       "      <td>6.0</td>\n",
       "      <td>3.0</td>\n",
       "      <td>9.0</td>\n",
       "      <td>11.0</td>\n",
       "      <td>1.0</td>\n",
       "      <td>5.0</td>\n",
       "      <td>160.0</td>\n",
       "      <td>11</td>\n",
       "      <td>1</td>\n",
       "      <td>1</td>\n",
       "    </tr>\n",
       "    <tr>\n",
       "      <th>1</th>\n",
       "      <td>0.0</td>\n",
       "      <td>8.0</td>\n",
       "      <td>4.0</td>\n",
       "      <td>7.0</td>\n",
       "      <td>15.0</td>\n",
       "      <td>0.0</td>\n",
       "      <td>0.0</td>\n",
       "      <td>121.0</td>\n",
       "      <td>15</td>\n",
       "      <td>0</td>\n",
       "      <td>1</td>\n",
       "    </tr>\n",
       "    <tr>\n",
       "      <th>2</th>\n",
       "      <td>0.0</td>\n",
       "      <td>30.0</td>\n",
       "      <td>4.0</td>\n",
       "      <td>6.0</td>\n",
       "      <td>14.0</td>\n",
       "      <td>0.0</td>\n",
       "      <td>3.0</td>\n",
       "      <td>152.0</td>\n",
       "      <td>14</td>\n",
       "      <td>0</td>\n",
       "      <td>1</td>\n",
       "    </tr>\n",
       "    <tr>\n",
       "      <th>3</th>\n",
       "      <td>0.0</td>\n",
       "      <td>15.0</td>\n",
       "      <td>4.0</td>\n",
       "      <td>8.0</td>\n",
       "      <td>23.0</td>\n",
       "      <td>0.0</td>\n",
       "      <td>3.0</td>\n",
       "      <td>134.0</td>\n",
       "      <td>23</td>\n",
       "      <td>0</td>\n",
       "      <td>2</td>\n",
       "    </tr>\n",
       "    <tr>\n",
       "      <th>4</th>\n",
       "      <td>0.0</td>\n",
       "      <td>12.0</td>\n",
       "      <td>3.0</td>\n",
       "      <td>3.0</td>\n",
       "      <td>11.0</td>\n",
       "      <td>1.0</td>\n",
       "      <td>3.0</td>\n",
       "      <td>130.0</td>\n",
       "      <td>11</td>\n",
       "      <td>1</td>\n",
       "      <td>1</td>\n",
       "    </tr>\n",
       "  </tbody>\n",
       "</table>\n",
       "</div>"
      ],
      "text/plain": [
       "   Tenure  CC_Contacted_LY  Account_user_count  rev_per_month  rev_growth_yoy  \\\n",
       "0     4.0              6.0                 3.0            9.0            11.0   \n",
       "1     0.0              8.0                 4.0            7.0            15.0   \n",
       "2     0.0             30.0                 4.0            6.0            14.0   \n",
       "3     0.0             15.0                 4.0            8.0            23.0   \n",
       "4     0.0             12.0                 3.0            3.0            11.0   \n",
       "\n",
       "   coupon_used_for_payment  Day_Since_CC_connect  cashback  rev_growth_yoy  \\\n",
       "0                      1.0                   5.0     160.0              11   \n",
       "1                      0.0                   0.0     121.0              15   \n",
       "2                      0.0                   3.0     152.0              14   \n",
       "3                      0.0                   3.0     134.0              23   \n",
       "4                      1.0                   3.0     130.0              11   \n",
       "\n",
       "   coupon_used_for_payment  Kmeans_clusters  \n",
       "0                        1                1  \n",
       "1                        0                1  \n",
       "2                        0                1  \n",
       "3                        0                2  \n",
       "4                        1                1  "
      ]
     },
     "execution_count": 88,
     "metadata": {},
     "output_type": "execute_result"
    }
   ],
   "source": [
    "df['Kmeans_clusters'] = labels_3\n",
    "df.head()"
   ]
  },
  {
   "cell_type": "code",
   "execution_count": 89,
   "id": "9b94677e",
   "metadata": {
    "ExecuteTime": {
     "end_time": "2022-05-01T17:50:18.192038Z",
     "start_time": "2022-05-01T17:50:17.940007Z"
    }
   },
   "outputs": [],
   "source": [
    "df.to_csv(\"3 new no After clustering.csv\")"
   ]
  },
  {
   "cell_type": "code",
   "execution_count": null,
   "id": "1db58fd4",
   "metadata": {},
   "outputs": [],
   "source": []
  },
  {
   "cell_type": "code",
   "execution_count": null,
   "id": "4738f84e",
   "metadata": {},
   "outputs": [],
   "source": []
  },
  {
   "cell_type": "code",
   "execution_count": null,
   "id": "8d505ba6",
   "metadata": {},
   "outputs": [],
   "source": []
  },
  {
   "cell_type": "code",
   "execution_count": null,
   "id": "821624ba",
   "metadata": {},
   "outputs": [],
   "source": []
  },
  {
   "cell_type": "code",
   "execution_count": null,
   "id": "d9ba6389",
   "metadata": {},
   "outputs": [],
   "source": []
  },
  {
   "cell_type": "code",
   "execution_count": null,
   "id": "845ff9a8",
   "metadata": {},
   "outputs": [],
   "source": []
  }
 ],
 "metadata": {
  "kernelspec": {
   "display_name": "Python 3 (ipykernel)",
   "language": "python",
   "name": "python3"
  },
  "language_info": {
   "codemirror_mode": {
    "name": "ipython",
    "version": 3
   },
   "file_extension": ".py",
   "mimetype": "text/x-python",
   "name": "python",
   "nbconvert_exporter": "python",
   "pygments_lexer": "ipython3",
   "version": "3.9.7"
  },
  "latex_envs": {
   "LaTeX_envs_menu_present": true,
   "autoclose": false,
   "autocomplete": true,
   "bibliofile": "biblio.bib",
   "cite_by": "apalike",
   "current_citInitial": 1,
   "eqLabelWithNumbers": true,
   "eqNumInitial": 1,
   "hotkeys": {
    "equation": "Ctrl-E",
    "itemize": "Ctrl-I"
   },
   "labels_anchors": false,
   "latex_user_defs": false,
   "report_style_numbering": false,
   "user_envs_cfg": false
  },
  "varInspector": {
   "cols": {
    "lenName": 16,
    "lenType": 16,
    "lenVar": 40
   },
   "kernels_config": {
    "python": {
     "delete_cmd_postfix": "",
     "delete_cmd_prefix": "del ",
     "library": "var_list.py",
     "varRefreshCmd": "print(var_dic_list())"
    },
    "r": {
     "delete_cmd_postfix": ") ",
     "delete_cmd_prefix": "rm(",
     "library": "var_list.r",
     "varRefreshCmd": "cat(var_dic_list()) "
    }
   },
   "types_to_exclude": [
    "module",
    "function",
    "builtin_function_or_method",
    "instance",
    "_Feature"
   ],
   "window_display": false
  }
 },
 "nbformat": 4,
 "nbformat_minor": 5
}
