{
 "cells": [
  {
   "cell_type": "code",
   "execution_count": 123,
   "id": "a438179e",
   "metadata": {
    "ExecuteTime": {
     "end_time": "2022-05-15T14:43:51.920741Z",
     "start_time": "2022-05-15T14:43:51.883028Z"
    }
   },
   "outputs": [],
   "source": [
    "# Basic EDA\n",
    "import numpy as np\n",
    "import pandas as pd\n",
    "import matplotlib.pyplot as plt\n",
    "%matplotlib inline\n",
    "import seaborn as sns\n",
    "\n",
    "# Model Preparation\n",
    "from statsmodels.stats.outliers_influence import variance_inflation_factor\n",
    "from sklearn.model_selection import train_test_split\n",
    "import statsmodels.api as sm\n",
    "\n",
    "\n",
    "# Model Buildinglrincome,urincome=remove_outlier(df['INCOME'])\n",
    "from sklearn import tree\n",
    "from sklearn.linear_model import LogisticRegression\n",
    "from sklearn.tree import DecisionTreeClassifier\n",
    "from sklearn.ensemble import RandomForestClassifier\n",
    "from sklearn.discriminant_analysis import LinearDiscriminantAnalysis\n",
    "from sklearn.neighbors import KNeighborsClassifier\n",
    "from sklearn.naive_bayes import GaussianNB\n",
    "from sklearn.ensemble import ExtraTreesClassifier\n",
    "from sklearn.neural_network import MLPClassifier\n",
    "#\n",
    "from sklearn.ensemble import GradientBoostingClassifier\n",
    "#from xgboost import XGBClassifier\n",
    "#import optuna.integration.lightgbm as lgb\n",
    "from sklearn import metrics\n",
    "\n",
    "# Model Performance\n",
    "from sklearn.metrics import roc_auc_score,roc_curve,classification_report,confusion_matrix\n",
    "\n",
    "# Model Validation\n",
    "from sklearn.preprocessing import StandardScaler\n",
    "from sklearn.model_selection import GridSearchCV\n",
    "from sklearn.model_selection import cross_val_score\n",
    "from imblearn import under_sampling, over_sampling\n",
    "from imblearn.over_sampling import SMOTE\n",
    "from scipy.stats import zscore\n",
    "import pandas as pd"
   ]
  },
  {
   "cell_type": "code",
   "execution_count": 124,
   "id": "e513cccc",
   "metadata": {
    "ExecuteTime": {
     "end_time": "2022-05-15T14:43:52.702252Z",
     "start_time": "2022-05-15T14:43:52.518372Z"
    }
   },
   "outputs": [],
   "source": [
    "df=pd.read_csv(r'C:\\Users\\Dell\\Desktop\\GREAT LAKES\\back to studies\\capstone\\Materials of part 1-EDA\\newresult.csv')"
   ]
  },
  {
   "cell_type": "code",
   "execution_count": 125,
   "id": "e55c368e",
   "metadata": {
    "ExecuteTime": {
     "end_time": "2022-05-15T14:43:53.153512Z",
     "start_time": "2022-05-15T14:43:53.130186Z"
    }
   },
   "outputs": [
    {
     "data": {
      "text/html": [
       "<div>\n",
       "<style scoped>\n",
       "    .dataframe tbody tr th:only-of-type {\n",
       "        vertical-align: middle;\n",
       "    }\n",
       "\n",
       "    .dataframe tbody tr th {\n",
       "        vertical-align: top;\n",
       "    }\n",
       "\n",
       "    .dataframe thead th {\n",
       "        text-align: right;\n",
       "    }\n",
       "</style>\n",
       "<table border=\"1\" class=\"dataframe\">\n",
       "  <thead>\n",
       "    <tr style=\"text-align: right;\">\n",
       "      <th></th>\n",
       "      <th>Churn</th>\n",
       "      <th>Tenure</th>\n",
       "      <th>City_Tier</th>\n",
       "      <th>CC_Contacted_LY</th>\n",
       "      <th>Payment</th>\n",
       "      <th>Gender</th>\n",
       "      <th>Service_Score</th>\n",
       "      <th>Account_user_count</th>\n",
       "      <th>account_segment</th>\n",
       "      <th>CC_Agent_Score</th>\n",
       "      <th>Marital_Status</th>\n",
       "      <th>rev_per_month</th>\n",
       "      <th>Complain_ly</th>\n",
       "      <th>rev_growth_yoy</th>\n",
       "      <th>coupon_used_for_payment</th>\n",
       "      <th>Day_Since_CC_connect</th>\n",
       "      <th>cashback</th>\n",
       "      <th>Login_device</th>\n",
       "    </tr>\n",
       "  </thead>\n",
       "  <tbody>\n",
       "    <tr>\n",
       "      <th>0</th>\n",
       "      <td>1</td>\n",
       "      <td>4</td>\n",
       "      <td>3</td>\n",
       "      <td>6</td>\n",
       "      <td>3</td>\n",
       "      <td>2</td>\n",
       "      <td>3</td>\n",
       "      <td>3</td>\n",
       "      <td>4</td>\n",
       "      <td>2</td>\n",
       "      <td>3</td>\n",
       "      <td>9</td>\n",
       "      <td>1</td>\n",
       "      <td>11</td>\n",
       "      <td>1</td>\n",
       "      <td>5</td>\n",
       "      <td>160</td>\n",
       "      <td>2</td>\n",
       "    </tr>\n",
       "    <tr>\n",
       "      <th>1</th>\n",
       "      <td>1</td>\n",
       "      <td>0</td>\n",
       "      <td>1</td>\n",
       "      <td>8</td>\n",
       "      <td>5</td>\n",
       "      <td>1</td>\n",
       "      <td>3</td>\n",
       "      <td>4</td>\n",
       "      <td>3</td>\n",
       "      <td>3</td>\n",
       "      <td>3</td>\n",
       "      <td>7</td>\n",
       "      <td>1</td>\n",
       "      <td>15</td>\n",
       "      <td>0</td>\n",
       "      <td>0</td>\n",
       "      <td>121</td>\n",
       "      <td>2</td>\n",
       "    </tr>\n",
       "    <tr>\n",
       "      <th>2</th>\n",
       "      <td>1</td>\n",
       "      <td>0</td>\n",
       "      <td>1</td>\n",
       "      <td>30</td>\n",
       "      <td>3</td>\n",
       "      <td>1</td>\n",
       "      <td>2</td>\n",
       "      <td>4</td>\n",
       "      <td>3</td>\n",
       "      <td>3</td>\n",
       "      <td>3</td>\n",
       "      <td>6</td>\n",
       "      <td>1</td>\n",
       "      <td>14</td>\n",
       "      <td>0</td>\n",
       "      <td>3</td>\n",
       "      <td>152</td>\n",
       "      <td>2</td>\n",
       "    </tr>\n",
       "    <tr>\n",
       "      <th>3</th>\n",
       "      <td>1</td>\n",
       "      <td>0</td>\n",
       "      <td>3</td>\n",
       "      <td>15</td>\n",
       "      <td>3</td>\n",
       "      <td>1</td>\n",
       "      <td>2</td>\n",
       "      <td>4</td>\n",
       "      <td>4</td>\n",
       "      <td>5</td>\n",
       "      <td>3</td>\n",
       "      <td>8</td>\n",
       "      <td>0</td>\n",
       "      <td>23</td>\n",
       "      <td>0</td>\n",
       "      <td>3</td>\n",
       "      <td>134</td>\n",
       "      <td>2</td>\n",
       "    </tr>\n",
       "    <tr>\n",
       "      <th>4</th>\n",
       "      <td>1</td>\n",
       "      <td>0</td>\n",
       "      <td>1</td>\n",
       "      <td>12</td>\n",
       "      <td>2</td>\n",
       "      <td>1</td>\n",
       "      <td>2</td>\n",
       "      <td>3</td>\n",
       "      <td>3</td>\n",
       "      <td>5</td>\n",
       "      <td>3</td>\n",
       "      <td>3</td>\n",
       "      <td>0</td>\n",
       "      <td>11</td>\n",
       "      <td>1</td>\n",
       "      <td>3</td>\n",
       "      <td>130</td>\n",
       "      <td>2</td>\n",
       "    </tr>\n",
       "  </tbody>\n",
       "</table>\n",
       "</div>"
      ],
      "text/plain": [
       "   Churn  Tenure  City_Tier  CC_Contacted_LY  Payment  Gender  Service_Score  \\\n",
       "0      1       4          3                6        3       2              3   \n",
       "1      1       0          1                8        5       1              3   \n",
       "2      1       0          1               30        3       1              2   \n",
       "3      1       0          3               15        3       1              2   \n",
       "4      1       0          1               12        2       1              2   \n",
       "\n",
       "   Account_user_count  account_segment  CC_Agent_Score  Marital_Status  \\\n",
       "0                   3                4               2               3   \n",
       "1                   4                3               3               3   \n",
       "2                   4                3               3               3   \n",
       "3                   4                4               5               3   \n",
       "4                   3                3               5               3   \n",
       "\n",
       "   rev_per_month  Complain_ly  rev_growth_yoy  coupon_used_for_payment  \\\n",
       "0              9            1              11                        1   \n",
       "1              7            1              15                        0   \n",
       "2              6            1              14                        0   \n",
       "3              8            0              23                        0   \n",
       "4              3            0              11                        1   \n",
       "\n",
       "   Day_Since_CC_connect  cashback  Login_device  \n",
       "0                     5       160             2  \n",
       "1                     0       121             2  \n",
       "2                     3       152             2  \n",
       "3                     3       134             2  \n",
       "4                     3       130             2  "
      ]
     },
     "execution_count": 125,
     "metadata": {},
     "output_type": "execute_result"
    }
   ],
   "source": [
    "df.head()"
   ]
  },
  {
   "cell_type": "code",
   "execution_count": 126,
   "id": "df65dabd",
   "metadata": {
    "ExecuteTime": {
     "end_time": "2022-05-15T14:43:58.829423Z",
     "start_time": "2022-05-15T14:43:58.816140Z"
    }
   },
   "outputs": [
    {
     "data": {
      "text/plain": [
       "0        1\n",
       "1        1\n",
       "2        1\n",
       "3        1\n",
       "4        1\n",
       "        ..\n",
       "11255    0\n",
       "11256    0\n",
       "11257    0\n",
       "11258    0\n",
       "11259    0\n",
       "Name: Churn, Length: 11260, dtype: object"
      ]
     },
     "execution_count": 126,
     "metadata": {},
     "output_type": "execute_result"
    }
   ],
   "source": [
    "df['Churn'].astype(object)"
   ]
  },
  {
   "cell_type": "markdown",
   "id": "bc7b48c5",
   "metadata": {
    "ExecuteTime": {
     "end_time": "2022-05-15T14:30:42.438950Z",
     "start_time": "2022-05-15T14:30:42.414437Z"
    }
   },
   "source": [
    "ss = StandardScaler()\n",
    "df = pd.DataFrame(ss.fit_transform(df),columns = df.columns)\n"
   ]
  },
  {
   "cell_type": "code",
   "execution_count": 127,
   "id": "24580945",
   "metadata": {
    "ExecuteTime": {
     "end_time": "2022-05-15T14:44:12.093428Z",
     "start_time": "2022-05-15T14:44:12.066125Z"
    }
   },
   "outputs": [
    {
     "data": {
      "text/html": [
       "<div>\n",
       "<style scoped>\n",
       "    .dataframe tbody tr th:only-of-type {\n",
       "        vertical-align: middle;\n",
       "    }\n",
       "\n",
       "    .dataframe tbody tr th {\n",
       "        vertical-align: top;\n",
       "    }\n",
       "\n",
       "    .dataframe thead th {\n",
       "        text-align: right;\n",
       "    }\n",
       "</style>\n",
       "<table border=\"1\" class=\"dataframe\">\n",
       "  <thead>\n",
       "    <tr style=\"text-align: right;\">\n",
       "      <th></th>\n",
       "      <th>Churn</th>\n",
       "      <th>Tenure</th>\n",
       "      <th>City_Tier</th>\n",
       "      <th>CC_Contacted_LY</th>\n",
       "      <th>Payment</th>\n",
       "      <th>Gender</th>\n",
       "      <th>Service_Score</th>\n",
       "      <th>Account_user_count</th>\n",
       "      <th>account_segment</th>\n",
       "      <th>CC_Agent_Score</th>\n",
       "      <th>Marital_Status</th>\n",
       "      <th>rev_per_month</th>\n",
       "      <th>Complain_ly</th>\n",
       "      <th>rev_growth_yoy</th>\n",
       "      <th>coupon_used_for_payment</th>\n",
       "      <th>Day_Since_CC_connect</th>\n",
       "      <th>cashback</th>\n",
       "      <th>Login_device</th>\n",
       "    </tr>\n",
       "  </thead>\n",
       "  <tbody>\n",
       "    <tr>\n",
       "      <th>0</th>\n",
       "      <td>1</td>\n",
       "      <td>4</td>\n",
       "      <td>3</td>\n",
       "      <td>6</td>\n",
       "      <td>3</td>\n",
       "      <td>2</td>\n",
       "      <td>3</td>\n",
       "      <td>3</td>\n",
       "      <td>4</td>\n",
       "      <td>2</td>\n",
       "      <td>3</td>\n",
       "      <td>9</td>\n",
       "      <td>1</td>\n",
       "      <td>11</td>\n",
       "      <td>1</td>\n",
       "      <td>5</td>\n",
       "      <td>160</td>\n",
       "      <td>2</td>\n",
       "    </tr>\n",
       "    <tr>\n",
       "      <th>1</th>\n",
       "      <td>1</td>\n",
       "      <td>0</td>\n",
       "      <td>1</td>\n",
       "      <td>8</td>\n",
       "      <td>5</td>\n",
       "      <td>1</td>\n",
       "      <td>3</td>\n",
       "      <td>4</td>\n",
       "      <td>3</td>\n",
       "      <td>3</td>\n",
       "      <td>3</td>\n",
       "      <td>7</td>\n",
       "      <td>1</td>\n",
       "      <td>15</td>\n",
       "      <td>0</td>\n",
       "      <td>0</td>\n",
       "      <td>121</td>\n",
       "      <td>2</td>\n",
       "    </tr>\n",
       "    <tr>\n",
       "      <th>2</th>\n",
       "      <td>1</td>\n",
       "      <td>0</td>\n",
       "      <td>1</td>\n",
       "      <td>30</td>\n",
       "      <td>3</td>\n",
       "      <td>1</td>\n",
       "      <td>2</td>\n",
       "      <td>4</td>\n",
       "      <td>3</td>\n",
       "      <td>3</td>\n",
       "      <td>3</td>\n",
       "      <td>6</td>\n",
       "      <td>1</td>\n",
       "      <td>14</td>\n",
       "      <td>0</td>\n",
       "      <td>3</td>\n",
       "      <td>152</td>\n",
       "      <td>2</td>\n",
       "    </tr>\n",
       "    <tr>\n",
       "      <th>3</th>\n",
       "      <td>1</td>\n",
       "      <td>0</td>\n",
       "      <td>3</td>\n",
       "      <td>15</td>\n",
       "      <td>3</td>\n",
       "      <td>1</td>\n",
       "      <td>2</td>\n",
       "      <td>4</td>\n",
       "      <td>4</td>\n",
       "      <td>5</td>\n",
       "      <td>3</td>\n",
       "      <td>8</td>\n",
       "      <td>0</td>\n",
       "      <td>23</td>\n",
       "      <td>0</td>\n",
       "      <td>3</td>\n",
       "      <td>134</td>\n",
       "      <td>2</td>\n",
       "    </tr>\n",
       "    <tr>\n",
       "      <th>4</th>\n",
       "      <td>1</td>\n",
       "      <td>0</td>\n",
       "      <td>1</td>\n",
       "      <td>12</td>\n",
       "      <td>2</td>\n",
       "      <td>1</td>\n",
       "      <td>2</td>\n",
       "      <td>3</td>\n",
       "      <td>3</td>\n",
       "      <td>5</td>\n",
       "      <td>3</td>\n",
       "      <td>3</td>\n",
       "      <td>0</td>\n",
       "      <td>11</td>\n",
       "      <td>1</td>\n",
       "      <td>3</td>\n",
       "      <td>130</td>\n",
       "      <td>2</td>\n",
       "    </tr>\n",
       "  </tbody>\n",
       "</table>\n",
       "</div>"
      ],
      "text/plain": [
       "   Churn  Tenure  City_Tier  CC_Contacted_LY  Payment  Gender  Service_Score  \\\n",
       "0      1       4          3                6        3       2              3   \n",
       "1      1       0          1                8        5       1              3   \n",
       "2      1       0          1               30        3       1              2   \n",
       "3      1       0          3               15        3       1              2   \n",
       "4      1       0          1               12        2       1              2   \n",
       "\n",
       "   Account_user_count  account_segment  CC_Agent_Score  Marital_Status  \\\n",
       "0                   3                4               2               3   \n",
       "1                   4                3               3               3   \n",
       "2                   4                3               3               3   \n",
       "3                   4                4               5               3   \n",
       "4                   3                3               5               3   \n",
       "\n",
       "   rev_per_month  Complain_ly  rev_growth_yoy  coupon_used_for_payment  \\\n",
       "0              9            1              11                        1   \n",
       "1              7            1              15                        0   \n",
       "2              6            1              14                        0   \n",
       "3              8            0              23                        0   \n",
       "4              3            0              11                        1   \n",
       "\n",
       "   Day_Since_CC_connect  cashback  Login_device  \n",
       "0                     5       160             2  \n",
       "1                     0       121             2  \n",
       "2                     3       152             2  \n",
       "3                     3       134             2  \n",
       "4                     3       130             2  "
      ]
     },
     "metadata": {},
     "output_type": "display_data"
    }
   ],
   "source": [
    "display(df.head())"
   ]
  },
  {
   "cell_type": "code",
   "execution_count": 102,
   "id": "ff2bd6e4",
   "metadata": {
    "ExecuteTime": {
     "end_time": "2022-05-15T14:38:27.290657Z",
     "start_time": "2022-05-15T14:38:26.296153Z"
    }
   },
   "outputs": [
    {
     "data": {
      "image/png": "[encoded data removed]",
      "text/plain": [
       "<Figure size 720x720 with 1 Axes>"
      ]
     },
     "metadata": {
      "needs_background": "light"
     },
     "output_type": "display_data"
    }
   ],
   "source": [
    "# construct box plot for continuous variables\n",
    "cont=df.dtypes[(df.dtypes!='uint8') & (df.dtypes!='bool')].index \n",
    "plt.figure(figsize=(10,10))\n",
    "df[cont].boxplot(vert=0)\n",
    "plt.title('With Outliers',fontsize=16) \n",
    "plt.show()"
   ]
  },
  {
   "cell_type": "code",
   "execution_count": 130,
   "id": "6af53deb",
   "metadata": {
    "ExecuteTime": {
     "end_time": "2022-05-15T14:49:39.449130Z",
     "start_time": "2022-05-15T14:49:39.426430Z"
    }
   },
   "outputs": [],
   "source": [
    "#Outliner removal\n",
    "def remove_outlier(col):\n",
    "    sorted(col)\n",
    "    Q1,Q3=col.quantile([0.25,0.75])\n",
    "    IQR=Q3-Q1\n",
    "    lower_range= Q1-(1.5 * IQR)\n",
    "    upper_range= Q3+(1.5 * IQR)\n",
    "    return lower_range, upper_range    \n",
    "lrincome,urincome=remove_outlier(df['cashback'])\n"
   ]
  },
  {
   "cell_type": "code",
   "execution_count": 132,
   "id": "0eae71c2",
   "metadata": {
    "ExecuteTime": {
     "end_time": "2022-05-15T14:50:25.512055Z",
     "start_time": "2022-05-15T14:50:25.485891Z"
    }
   },
   "outputs": [],
   "source": [
    "lrcashback,urcashback=remove_outlier(df['cashback'])\n",
    "df['cashback']=np.where(df['cashback']>urcashback,urcashback,df['cashback'])\n",
    "df['cashback']=np.where(df['cashback']<lrcashback,lrcashback,df['cashback'])\n",
    "\n"
   ]
  },
  {
   "cell_type": "code",
   "execution_count": 133,
   "id": "40b94065",
   "metadata": {
    "ExecuteTime": {
     "end_time": "2022-05-15T14:50:29.041627Z",
     "start_time": "2022-05-15T14:50:28.222969Z"
    }
   },
   "outputs": [
    {
     "data": {
      "image/png": "[encoded data removed]",
      "text/plain": [
       "<Figure size 720x720 with 1 Axes>"
      ]
     },
     "metadata": {
      "needs_background": "light"
     },
     "output_type": "display_data"
    }
   ],
   "source": [
    "plt.figure(figsize=(10,10))\n",
    "df[cont].boxplot(vert=0)\n",
    "plt.title('After Outlier Removal',fontsize=16)\n",
    "plt.show()\n"
   ]
  },
  {
   "cell_type": "code",
   "execution_count": 134,
   "id": "68a57c9f",
   "metadata": {
    "ExecuteTime": {
     "end_time": "2022-05-15T14:50:38.001986Z",
     "start_time": "2022-05-15T14:50:37.944216Z"
    }
   },
   "outputs": [
    {
     "data": {
      "text/plain": [
       "0    0.831616\n",
       "1    0.168384\n",
       "Name: Churn, dtype: float64"
      ]
     },
     "execution_count": 134,
     "metadata": {},
     "output_type": "execute_result"
    }
   ],
   "source": [
    "df.Churn.value_counts(normalize=True)\n",
    "#SMOTE"
   ]
  },
  {
   "cell_type": "code",
   "execution_count": 135,
   "id": "28eca396",
   "metadata": {
    "ExecuteTime": {
     "end_time": "2022-05-15T14:50:38.496769Z",
     "start_time": "2022-05-15T14:50:38.475207Z"
    }
   },
   "outputs": [],
   "source": [
    "X = df.drop(\"Churn\", axis=1)\n",
    "Y = df.pop(\"Churn\")"
   ]
  },
  {
   "cell_type": "code",
   "execution_count": 136,
   "id": "612803d9",
   "metadata": {
    "ExecuteTime": {
     "end_time": "2022-05-15T14:50:39.483893Z",
     "start_time": "2022-05-15T14:50:39.294667Z"
    }
   },
   "outputs": [],
   "source": [
    "from sklearn.model_selection import train_test_split\n",
    "X_train, X_test, Y_train, Y_test = train_test_split(X, Y, test_size=0.3, random_state=42, stratify=Y)"
   ]
  },
  {
   "cell_type": "code",
   "execution_count": 137,
   "id": "3a1213fc",
   "metadata": {
    "ExecuteTime": {
     "end_time": "2022-05-15T14:50:39.934436Z",
     "start_time": "2022-05-15T14:50:39.924440Z"
    }
   },
   "outputs": [],
   "source": [
    "#VIF Dataframe\n",
    "vif_df = pd.DataFrame()\n",
    "vif_df[\"feature\"] = X_train.columns"
   ]
  },
  {
   "cell_type": "code",
   "execution_count": 138,
   "id": "aab59446",
   "metadata": {
    "ExecuteTime": {
     "end_time": "2022-05-15T14:50:41.132093Z",
     "start_time": "2022-05-15T14:50:40.759851Z"
    }
   },
   "outputs": [
    {
     "name": "stdout",
     "output_type": "stream",
     "text": [
      "                    feature        VIF\n",
      "0                    Tenure   1.924659\n",
      "1                 City_Tier   4.551492\n",
      "2           CC_Contacted_LY   4.876609\n",
      "3                   Payment   8.597093\n",
      "4                    Gender   8.717642\n",
      "5             Service_Score  19.178469\n",
      "6        Account_user_count  16.126309\n",
      "7           account_segment   8.391817\n",
      "8            CC_Agent_Score   5.697253\n",
      "9            Marital_Status  10.568118\n",
      "10            rev_per_month   1.273261\n",
      "11              Complain_ly   1.378729\n",
      "12           rev_growth_yoy  17.167476\n",
      "13  coupon_used_for_payment   2.208494\n",
      "14     Day_Since_CC_connect   3.200264\n",
      "15                 cashback  20.574401\n",
      "16             Login_device  14.221067\n"
     ]
    }
   ],
   "source": [
    "# Calculate VIF for each feature\n",
    "vif_df[\"VIF\"] = [variance_inflation_factor(X_train.values,i)\n",
    "for i in range(len(X_train.columns))]\n",
    "print(vif_df)"
   ]
  },
  {
   "cell_type": "code",
   "execution_count": 139,
   "id": "68bfbc0b",
   "metadata": {
    "ExecuteTime": {
     "end_time": "2022-05-15T14:50:41.380994Z",
     "start_time": "2022-05-15T14:50:41.370820Z"
    }
   },
   "outputs": [],
   "source": [
    "X_train = X_train.drop([\"Login_device\",\"Service_Score\",\"Account_user_count\",\"cashback\",\"rev_growth_yoy\"], axis=1)\n",
    "X_test = X_test.drop([\"Login_device\",\"Service_Score\",\"Account_user_count\",\"cashback\",\"rev_growth_yoy\"], axis=1)"
   ]
  },
  {
   "cell_type": "code",
   "execution_count": 140,
   "id": "6e2c3284",
   "metadata": {
    "ExecuteTime": {
     "end_time": "2022-05-15T14:50:41.974218Z",
     "start_time": "2022-05-15T14:50:41.776503Z"
    }
   },
   "outputs": [
    {
     "name": "stdout",
     "output_type": "stream",
     "text": [
      "                    feature       VIF\n",
      "0                    Tenure  1.749735\n",
      "1                 City_Tier  4.459016\n",
      "2           CC_Contacted_LY  4.561752\n",
      "3                   Payment  7.915305\n",
      "4                    Gender  7.929075\n",
      "5           account_segment  7.807819\n",
      "6            CC_Agent_Score  5.297435\n",
      "7            Marital_Status  8.887355\n",
      "8             rev_per_month  1.264278\n",
      "9               Complain_ly  1.368628\n",
      "10  coupon_used_for_payment  2.080374\n",
      "11     Day_Since_CC_connect  2.950217\n"
     ]
    }
   ],
   "source": [
    "#VIF Dataframe\n",
    "vif_df = pd.DataFrame()\n",
    "vif_df[\"feature\"] = X_train.columns\n",
    "#\n",
    "# Calculate VIF for each feature\n",
    "vif_df[\"VIF\"] = [variance_inflation_factor(X_train.values,i)\n",
    "                        for i in range(len(X_train.columns))]\n",
    "print(vif_df)"
   ]
  },
  {
   "cell_type": "code",
   "execution_count": 141,
   "id": "f2115e65",
   "metadata": {
    "ExecuteTime": {
     "end_time": "2022-05-15T14:50:42.852072Z",
     "start_time": "2022-05-15T14:50:42.802242Z"
    }
   },
   "outputs": [
    {
     "data": {
      "text/html": [
       "<div>\n",
       "<style scoped>\n",
       "    .dataframe tbody tr th:only-of-type {\n",
       "        vertical-align: middle;\n",
       "    }\n",
       "\n",
       "    .dataframe tbody tr th {\n",
       "        vertical-align: top;\n",
       "    }\n",
       "\n",
       "    .dataframe thead th {\n",
       "        text-align: right;\n",
       "    }\n",
       "</style>\n",
       "<table border=\"1\" class=\"dataframe\">\n",
       "  <thead>\n",
       "    <tr style=\"text-align: right;\">\n",
       "      <th></th>\n",
       "      <th>Tenure</th>\n",
       "      <th>City_Tier</th>\n",
       "      <th>CC_Contacted_LY</th>\n",
       "      <th>Payment</th>\n",
       "      <th>Gender</th>\n",
       "      <th>account_segment</th>\n",
       "      <th>CC_Agent_Score</th>\n",
       "      <th>Marital_Status</th>\n",
       "      <th>rev_per_month</th>\n",
       "      <th>Complain_ly</th>\n",
       "      <th>coupon_used_for_payment</th>\n",
       "      <th>Day_Since_CC_connect</th>\n",
       "    </tr>\n",
       "  </thead>\n",
       "  <tbody>\n",
       "    <tr>\n",
       "      <th>2191</th>\n",
       "      <td>-0.221400</td>\n",
       "      <td>-0.726851</td>\n",
       "      <td>-1.080512</td>\n",
       "      <td>0.224236</td>\n",
       "      <td>-0.809365</td>\n",
       "      <td>-1.943027</td>\n",
       "      <td>0.675249</td>\n",
       "      <td>-0.243002</td>\n",
       "      <td>-0.252781</td>\n",
       "      <td>-0.634225</td>\n",
       "      <td>0.097394</td>\n",
       "      <td>-0.151542</td>\n",
       "    </tr>\n",
       "    <tr>\n",
       "      <th>820</th>\n",
       "      <td>0.905617</td>\n",
       "      <td>-0.726851</td>\n",
       "      <td>1.783332</td>\n",
       "      <td>0.224236</td>\n",
       "      <td>1.235537</td>\n",
       "      <td>1.637251</td>\n",
       "      <td>1.408923</td>\n",
       "      <td>-1.749165</td>\n",
       "      <td>-0.088807</td>\n",
       "      <td>1.576727</td>\n",
       "      <td>-0.904119</td>\n",
       "      <td>-0.688418</td>\n",
       "    </tr>\n",
       "    <tr>\n",
       "      <th>4224</th>\n",
       "      <td>-0.071131</td>\n",
       "      <td>-0.726851</td>\n",
       "      <td>-0.309477</td>\n",
       "      <td>-1.766486</td>\n",
       "      <td>1.235537</td>\n",
       "      <td>-1.943027</td>\n",
       "      <td>-0.058425</td>\n",
       "      <td>-0.243002</td>\n",
       "      <td>-0.252781</td>\n",
       "      <td>-0.634225</td>\n",
       "      <td>3.101932</td>\n",
       "      <td>1.190645</td>\n",
       "    </tr>\n",
       "    <tr>\n",
       "      <th>6703</th>\n",
       "      <td>-0.371669</td>\n",
       "      <td>1.445983</td>\n",
       "      <td>0.792002</td>\n",
       "      <td>0.224236</td>\n",
       "      <td>1.235537</td>\n",
       "      <td>0.742182</td>\n",
       "      <td>-1.525772</td>\n",
       "      <td>-0.243002</td>\n",
       "      <td>-0.170794</td>\n",
       "      <td>1.576727</td>\n",
       "      <td>-0.904119</td>\n",
       "      <td>-0.688418</td>\n",
       "    </tr>\n",
       "    <tr>\n",
       "      <th>4318</th>\n",
       "      <td>0.229407</td>\n",
       "      <td>1.445983</td>\n",
       "      <td>-0.750068</td>\n",
       "      <td>1.219597</td>\n",
       "      <td>-0.809365</td>\n",
       "      <td>-1.943027</td>\n",
       "      <td>-1.525772</td>\n",
       "      <td>-0.243002</td>\n",
       "      <td>0.239141</td>\n",
       "      <td>-0.634225</td>\n",
       "      <td>0.097394</td>\n",
       "      <td>1.995958</td>\n",
       "    </tr>\n",
       "  </tbody>\n",
       "</table>\n",
       "</div>"
      ],
      "text/plain": [
       "        Tenure  City_Tier  CC_Contacted_LY   Payment    Gender  \\\n",
       "2191 -0.221400  -0.726851        -1.080512  0.224236 -0.809365   \n",
       "820   0.905617  -0.726851         1.783332  0.224236  1.235537   \n",
       "4224 -0.071131  -0.726851        -0.309477 -1.766486  1.235537   \n",
       "6703 -0.371669   1.445983         0.792002  0.224236  1.235537   \n",
       "4318  0.229407   1.445983        -0.750068  1.219597 -0.809365   \n",
       "\n",
       "      account_segment  CC_Agent_Score  Marital_Status  rev_per_month  \\\n",
       "2191        -1.943027        0.675249       -0.243002      -0.252781   \n",
       "820          1.637251        1.408923       -1.749165      -0.088807   \n",
       "4224        -1.943027       -0.058425       -0.243002      -0.252781   \n",
       "6703         0.742182       -1.525772       -0.243002      -0.170794   \n",
       "4318        -1.943027       -1.525772       -0.243002       0.239141   \n",
       "\n",
       "      Complain_ly  coupon_used_for_payment  Day_Since_CC_connect  \n",
       "2191    -0.634225                 0.097394             -0.151542  \n",
       "820      1.576727                -0.904119             -0.688418  \n",
       "4224    -0.634225                 3.101932              1.190645  \n",
       "6703     1.576727                -0.904119             -0.688418  \n",
       "4318    -0.634225                 0.097394              1.995958  "
      ]
     },
     "metadata": {},
     "output_type": "display_data"
    }
   ],
   "source": [
    "X_test = X_test.apply(zscore)\n",
    "display(X_test.head())\n"
   ]
  },
  {
   "cell_type": "code",
   "execution_count": 142,
   "id": "ba0fbaa7",
   "metadata": {
    "ExecuteTime": {
     "end_time": "2022-05-15T14:50:43.699035Z",
     "start_time": "2022-05-15T14:50:43.644987Z"
    }
   },
   "outputs": [
    {
     "data": {
      "text/html": [
       "<div>\n",
       "<style scoped>\n",
       "    .dataframe tbody tr th:only-of-type {\n",
       "        vertical-align: middle;\n",
       "    }\n",
       "\n",
       "    .dataframe tbody tr th {\n",
       "        vertical-align: top;\n",
       "    }\n",
       "\n",
       "    .dataframe thead th {\n",
       "        text-align: right;\n",
       "    }\n",
       "</style>\n",
       "<table border=\"1\" class=\"dataframe\">\n",
       "  <thead>\n",
       "    <tr style=\"text-align: right;\">\n",
       "      <th></th>\n",
       "      <th>Tenure</th>\n",
       "      <th>City_Tier</th>\n",
       "      <th>CC_Contacted_LY</th>\n",
       "      <th>Payment</th>\n",
       "      <th>Gender</th>\n",
       "      <th>account_segment</th>\n",
       "      <th>CC_Agent_Score</th>\n",
       "      <th>Marital_Status</th>\n",
       "      <th>rev_per_month</th>\n",
       "      <th>Complain_ly</th>\n",
       "      <th>coupon_used_for_payment</th>\n",
       "      <th>Day_Since_CC_connect</th>\n",
       "    </tr>\n",
       "  </thead>\n",
       "  <tbody>\n",
       "    <tr>\n",
       "      <th>1813</th>\n",
       "      <td>1.127174</td>\n",
       "      <td>-0.701872</td>\n",
       "      <td>-0.634010</td>\n",
       "      <td>-1.741091</td>\n",
       "      <td>-0.807505</td>\n",
       "      <td>0.743526</td>\n",
       "      <td>1.409301</td>\n",
       "      <td>-0.252688</td>\n",
       "      <td>-0.162731</td>\n",
       "      <td>1.636991</td>\n",
       "      <td>0.110574</td>\n",
       "      <td>1.219843</td>\n",
       "    </tr>\n",
       "    <tr>\n",
       "      <th>1586</th>\n",
       "      <td>-0.455240</td>\n",
       "      <td>1.497792</td>\n",
       "      <td>1.606113</td>\n",
       "      <td>1.232104</td>\n",
       "      <td>-0.807505</td>\n",
       "      <td>0.743526</td>\n",
       "      <td>-1.496299</td>\n",
       "      <td>-0.252688</td>\n",
       "      <td>-0.427504</td>\n",
       "      <td>-0.610877</td>\n",
       "      <td>0.110574</td>\n",
       "      <td>-0.715560</td>\n",
       "    </tr>\n",
       "    <tr>\n",
       "      <th>840</th>\n",
       "      <td>-0.850843</td>\n",
       "      <td>-0.701872</td>\n",
       "      <td>0.822070</td>\n",
       "      <td>-0.750026</td>\n",
       "      <td>-0.807505</td>\n",
       "      <td>-0.149975</td>\n",
       "      <td>-0.769899</td>\n",
       "      <td>-1.776547</td>\n",
       "      <td>-0.162731</td>\n",
       "      <td>-0.610877</td>\n",
       "      <td>-0.400295</td>\n",
       "      <td>-0.715560</td>\n",
       "    </tr>\n",
       "    <tr>\n",
       "      <th>8939</th>\n",
       "      <td>-0.296999</td>\n",
       "      <td>1.497792</td>\n",
       "      <td>-0.409998</td>\n",
       "      <td>-0.750026</td>\n",
       "      <td>-0.807505</td>\n",
       "      <td>0.743526</td>\n",
       "      <td>1.409301</td>\n",
       "      <td>-0.252688</td>\n",
       "      <td>0.102042</td>\n",
       "      <td>-0.610877</td>\n",
       "      <td>-0.400295</td>\n",
       "      <td>1.219843</td>\n",
       "    </tr>\n",
       "    <tr>\n",
       "      <th>6207</th>\n",
       "      <td>-0.613481</td>\n",
       "      <td>1.497792</td>\n",
       "      <td>0.262039</td>\n",
       "      <td>2.223169</td>\n",
       "      <td>-0.807505</td>\n",
       "      <td>-1.936977</td>\n",
       "      <td>-0.043499</td>\n",
       "      <td>-0.252688</td>\n",
       "      <td>0.278557</td>\n",
       "      <td>-0.610877</td>\n",
       "      <td>1.132311</td>\n",
       "      <td>0.666871</td>\n",
       "    </tr>\n",
       "  </tbody>\n",
       "</table>\n",
       "</div>"
      ],
      "text/plain": [
       "        Tenure  City_Tier  CC_Contacted_LY   Payment    Gender  \\\n",
       "1813  1.127174  -0.701872        -0.634010 -1.741091 -0.807505   \n",
       "1586 -0.455240   1.497792         1.606113  1.232104 -0.807505   \n",
       "840  -0.850843  -0.701872         0.822070 -0.750026 -0.807505   \n",
       "8939 -0.296999   1.497792        -0.409998 -0.750026 -0.807505   \n",
       "6207 -0.613481   1.497792         0.262039  2.223169 -0.807505   \n",
       "\n",
       "      account_segment  CC_Agent_Score  Marital_Status  rev_per_month  \\\n",
       "1813         0.743526        1.409301       -0.252688      -0.162731   \n",
       "1586         0.743526       -1.496299       -0.252688      -0.427504   \n",
       "840         -0.149975       -0.769899       -1.776547      -0.162731   \n",
       "8939         0.743526        1.409301       -0.252688       0.102042   \n",
       "6207        -1.936977       -0.043499       -0.252688       0.278557   \n",
       "\n",
       "      Complain_ly  coupon_used_for_payment  Day_Since_CC_connect  \n",
       "1813     1.636991                 0.110574              1.219843  \n",
       "1586    -0.610877                 0.110574             -0.715560  \n",
       "840     -0.610877                -0.400295             -0.715560  \n",
       "8939    -0.610877                -0.400295              1.219843  \n",
       "6207    -0.610877                 1.132311              0.666871  "
      ]
     },
     "metadata": {},
     "output_type": "display_data"
    }
   ],
   "source": [
    "X_train = X_train.apply(zscore)\n",
    "display(X_train.head())\n"
   ]
  },
  {
   "cell_type": "code",
   "execution_count": 143,
   "id": "598bb0bd",
   "metadata": {
    "ExecuteTime": {
     "end_time": "2022-05-15T14:50:44.387539Z",
     "start_time": "2022-05-15T14:50:44.380386Z"
    }
   },
   "outputs": [],
   "source": [
    "\n",
    "param_grid = {\n",
    "    'criterion': ['gini'],\n",
    "    'max_depth': [10,20,30,50],\n",
    "    'min_samples_leaf': [50,100,150], \n",
    "    'min_samples_split': [150,300,450],\n",
    "}\n",
    "\n",
    "dtcl = DecisionTreeClassifier(random_state=1)\n",
    "\n",
    "grid_search = GridSearchCV(estimator = dtcl, param_grid = param_grid, cv = 10)"
   ]
  },
  {
   "cell_type": "code",
   "execution_count": 144,
   "id": "8a7c1e00",
   "metadata": {
    "ExecuteTime": {
     "end_time": "2022-05-15T14:51:04.995073Z",
     "start_time": "2022-05-15T14:50:45.017756Z"
    }
   },
   "outputs": [
    {
     "name": "stdout",
     "output_type": "stream",
     "text": [
      "Fitting 5 folds for each of 1 candidates, totalling 5 fits\n"
     ]
    },
    {
     "data": {
      "text/plain": [
       "GridSearchCV(cv=5, estimator=DecisionTreeClassifier(random_state=1), n_jobs=-1,\n",
       "             param_grid={'criterion': ['gini'], 'max_depth': [10],\n",
       "                         'min_samples_leaf': [10], 'min_samples_split': [50]},\n",
       "             verbose=1)"
      ]
     },
     "execution_count": 144,
     "metadata": {},
     "output_type": "execute_result"
    }
   ],
   "source": [
    "param_grid_dt = {\n",
    "    'criterion': ['gini'],\n",
    "    'max_depth': [10],\n",
    "    'min_samples_leaf': [10], \n",
    "    'min_samples_split': [50],\n",
    "}\n",
    "gs_dtcl = GridSearchCV(dtcl, param_grid_dt, cv = 5, n_jobs = -1, verbose = 1)\n",
    "gs_dtcl.fit(X_train, Y_train)"
   ]
  },
  {
   "cell_type": "code",
   "execution_count": 145,
   "id": "a636ba89",
   "metadata": {
    "ExecuteTime": {
     "end_time": "2022-05-15T14:51:05.501741Z",
     "start_time": "2022-05-15T14:51:05.235834Z"
    }
   },
   "outputs": [
    {
     "name": "stdout",
     "output_type": "stream",
     "text": [
      "Fitting 5 folds for each of 1 candidates, totalling 5 fits\n",
      "{'criterion': 'gini', 'max_depth': 10, 'min_samples_leaf': 10, 'min_samples_split': 50}\n"
     ]
    },
    {
     "data": {
      "text/plain": [
       "DecisionTreeClassifier(max_depth=10, min_samples_leaf=10, min_samples_split=50,\n",
       "                       random_state=1)"
      ]
     },
     "execution_count": 145,
     "metadata": {},
     "output_type": "execute_result"
    }
   ],
   "source": [
    "gs_dtcl.fit(X_train, Y_train)\n",
    "print(gs_dtcl.best_params_)\n",
    "best_grid = gs_dtcl.best_estimator_\n",
    "best_grid"
   ]
  },
  {
   "cell_type": "code",
   "execution_count": 146,
   "id": "4ee070c2",
   "metadata": {
    "ExecuteTime": {
     "end_time": "2022-05-15T14:51:05.817179Z",
     "start_time": "2022-05-15T14:51:05.797718Z"
    }
   },
   "outputs": [],
   "source": [
    "\n",
    "ytrain_predict = best_grid.predict(X_train)\n",
    "ytest_predict = best_grid.predict(X_test)"
   ]
  },
  {
   "cell_type": "code",
   "execution_count": 147,
   "id": "49a65a24",
   "metadata": {
    "ExecuteTime": {
     "end_time": "2022-05-15T14:51:06.075416Z",
     "start_time": "2022-05-15T14:51:06.046285Z"
    }
   },
   "outputs": [
    {
     "data": {
      "text/html": [
       "<div>\n",
       "<style scoped>\n",
       "    .dataframe tbody tr th:only-of-type {\n",
       "        vertical-align: middle;\n",
       "    }\n",
       "\n",
       "    .dataframe tbody tr th {\n",
       "        vertical-align: top;\n",
       "    }\n",
       "\n",
       "    .dataframe thead th {\n",
       "        text-align: right;\n",
       "    }\n",
       "</style>\n",
       "<table border=\"1\" class=\"dataframe\">\n",
       "  <thead>\n",
       "    <tr style=\"text-align: right;\">\n",
       "      <th></th>\n",
       "      <th>0</th>\n",
       "      <th>1</th>\n",
       "    </tr>\n",
       "  </thead>\n",
       "  <tbody>\n",
       "    <tr>\n",
       "      <th>0</th>\n",
       "      <td>1.0000</td>\n",
       "      <td>0.0000</td>\n",
       "    </tr>\n",
       "    <tr>\n",
       "      <th>1</th>\n",
       "      <td>1.0000</td>\n",
       "      <td>0.0000</td>\n",
       "    </tr>\n",
       "    <tr>\n",
       "      <th>2</th>\n",
       "      <td>1.0000</td>\n",
       "      <td>0.0000</td>\n",
       "    </tr>\n",
       "    <tr>\n",
       "      <th>3</th>\n",
       "      <td>1.0000</td>\n",
       "      <td>0.0000</td>\n",
       "    </tr>\n",
       "    <tr>\n",
       "      <th>4</th>\n",
       "      <td>0.8125</td>\n",
       "      <td>0.1875</td>\n",
       "    </tr>\n",
       "  </tbody>\n",
       "</table>\n",
       "</div>"
      ],
      "text/plain": [
       "        0       1\n",
       "0  1.0000  0.0000\n",
       "1  1.0000  0.0000\n",
       "2  1.0000  0.0000\n",
       "3  1.0000  0.0000\n",
       "4  0.8125  0.1875"
      ]
     },
     "execution_count": 147,
     "metadata": {},
     "output_type": "execute_result"
    }
   ],
   "source": [
    "\n",
    "ytest_predict\n",
    "ytest_predict_prob=best_grid.predict_proba(X_test)\n",
    "ytest_predict_prob\n",
    "pd.DataFrame(ytest_predict_prob).head()"
   ]
  },
  {
   "cell_type": "code",
   "execution_count": 148,
   "id": "c70f3f88",
   "metadata": {
    "ExecuteTime": {
     "end_time": "2022-05-15T14:51:45.958608Z",
     "start_time": "2022-05-15T14:51:45.887427Z"
    }
   },
   "outputs": [
    {
     "data": {
      "text/plain": [
       "0.9217203755392033"
      ]
     },
     "execution_count": 148,
     "metadata": {},
     "output_type": "execute_result"
    }
   ],
   "source": [
    "cart_train_acc=best_grid.score(X_train,Y_train) \n",
    "cart_train_acc"
   ]
  },
  {
   "cell_type": "code",
   "execution_count": 149,
   "id": "c32c60fc",
   "metadata": {
    "ExecuteTime": {
     "end_time": "2022-05-15T14:51:56.829839Z",
     "start_time": "2022-05-15T14:51:56.810761Z"
    }
   },
   "outputs": [
    {
     "data": {
      "text/plain": [
       "0.8972764949674363"
      ]
     },
     "execution_count": 149,
     "metadata": {},
     "output_type": "execute_result"
    }
   ],
   "source": [
    "cart_test_acc=best_grid.score(X_test,Y_test)\n",
    "cart_test_acc"
   ]
  },
  {
   "cell_type": "code",
   "execution_count": 150,
   "id": "eea37fc6",
   "metadata": {
    "ExecuteTime": {
     "end_time": "2022-05-15T14:54:00.632335Z",
     "start_time": "2022-05-15T14:54:00.094037Z"
    }
   },
   "outputs": [
    {
     "name": "stdout",
     "output_type": "stream",
     "text": [
      "AUC: 0.958\n"
     ]
    },
    {
     "data": {
      "image/png": "[encoded data removed]",
      "text/plain": [
       "<Figure size 432x288 with 1 Axes>"
      ]
     },
     "metadata": {
      "needs_background": "light"
     },
     "output_type": "display_data"
    }
   ],
   "source": [
    "# AUC and ROC for the training data\n",
    "\n",
    "# predict probabilities\n",
    "probs = gs_dtcl.predict_proba(X_train)\n",
    "\n",
    "# keep probabilities for the positive outcome only\n",
    "probs = probs[:, 1]\n",
    "\n",
    "# calculate AUC\n",
    "from sklearn.metrics import roc_auc_score\n",
    "cart_train_auc = roc_auc_score(Y_train, probs)\n",
    "print('AUC: %.3f' % cart_train_auc)\n",
    "\n",
    "# calculate roc curve\n",
    "from sklearn.metrics import roc_curve\n",
    "cart_train_fpr, cart_train_tpr, cart_train_thresholds = roc_curve(Y_train, probs)\n",
    "plt.plot([0, 1], [0, 1], linestyle='--')\n",
    "\n",
    "# plot the roc curve for the model\n",
    "plt.plot(cart_train_fpr, cart_train_tpr, marker='.')\n",
    "\n",
    "# show the plot\n",
    "plt.show()"
   ]
  },
  {
   "cell_type": "code",
   "execution_count": 151,
   "id": "555b98d5",
   "metadata": {
    "ExecuteTime": {
     "end_time": "2022-05-15T14:54:15.104675Z",
     "start_time": "2022-05-15T14:54:14.610156Z"
    }
   },
   "outputs": [
    {
     "name": "stdout",
     "output_type": "stream",
     "text": [
      "AUC: 0.935\n"
     ]
    },
    {
     "data": {
      "image/png": "[encoded data removed]",
      "text/plain": [
       "<Figure size 432x288 with 1 Axes>"
      ]
     },
     "metadata": {
      "needs_background": "light"
     },
     "output_type": "display_data"
    }
   ],
   "source": [
    "# AUC and ROC for the test data\n",
    "\n",
    "# predict probabilities\n",
    "probs = gs_dtcl.predict_proba(X_test)\n",
    "\n",
    "# keep probabilities for the positive outcome only\n",
    "probs = probs[:, 1]\n",
    "\n",
    "# calculate AUC\n",
    "from sklearn.metrics import roc_auc_score\n",
    "cart_test_auc = roc_auc_score(Y_test, probs)\n",
    "print('AUC: %.3f' % cart_test_auc)\n",
    "\n",
    "# calculate roc curve\n",
    "from sklearn.metrics import roc_curve\n",
    "cart_test_fpr, cart_test_tpr, cart_test_thresholds = roc_curve(Y_test, probs)\n",
    "plt.plot([0, 1], [0, 1], linestyle='--')\n",
    "\n",
    "# plot the roc curve for the model\n",
    "plt.plot(cart_test_fpr, cart_test_tpr, marker='.')\n",
    "\n",
    "# show the plot\n",
    "plt.show()"
   ]
  },
  {
   "cell_type": "code",
   "execution_count": 158,
   "id": "4eafd638",
   "metadata": {
    "ExecuteTime": {
     "end_time": "2022-05-15T14:56:37.314951Z",
     "start_time": "2022-05-15T14:56:37.306093Z"
    }
   },
   "outputs": [],
   "source": [
    "##MLP Classifier (Artificial Neural Network)"
   ]
  },
  {
   "cell_type": "code",
   "execution_count": 159,
   "id": "37f3f144",
   "metadata": {
    "ExecuteTime": {
     "end_time": "2022-05-15T14:56:37.536513Z",
     "start_time": "2022-05-15T14:56:37.527299Z"
    }
   },
   "outputs": [],
   "source": [
    "param_grid = {\n",
    "    'hidden_layer_sizes': [(100,100,100)],\n",
    "    'activation': ['logistic', 'relu'],\n",
    "    'solver': ['sgd', 'adam'],\n",
    "    'tol': [0.1,0.01],\n",
    "    'max_iter' : [10000]\n",
    "}\n",
    "\n",
    "mlp = MLPClassifier()\n",
    "\n",
    "grid_search = GridSearchCV(estimator = mlp, param_grid = param_grid, cv = 3)"
   ]
  },
  {
   "cell_type": "code",
   "execution_count": 160,
   "id": "26763428",
   "metadata": {
    "ExecuteTime": {
     "end_time": "2022-05-15T14:57:34.579289Z",
     "start_time": "2022-05-15T14:56:37.542614Z"
    }
   },
   "outputs": [
    {
     "data": {
      "text/plain": [
       "{'activation': 'relu',\n",
       " 'hidden_layer_sizes': (100, 100, 100),\n",
       " 'max_iter': 10000,\n",
       " 'solver': 'adam',\n",
       " 'tol': 0.01}"
      ]
     },
     "execution_count": 160,
     "metadata": {},
     "output_type": "execute_result"
    }
   ],
   "source": [
    "#ytrain_predict = mlp.predict(X_train)\n",
    "#ytest_predict = mlp.predict(X_test)\n",
    "\n",
    "grid_search.fit(X_train, Y_train)\n",
    "grid_search.best_params_"
   ]
  },
  {
   "cell_type": "code",
   "execution_count": 161,
   "id": "cc863b84",
   "metadata": {
    "ExecuteTime": {
     "end_time": "2022-05-15T14:57:35.221841Z",
     "start_time": "2022-05-15T14:57:35.109985Z"
    }
   },
   "outputs": [
    {
     "data": {
      "text/html": [
       "<div>\n",
       "<style scoped>\n",
       "    .dataframe tbody tr th:only-of-type {\n",
       "        vertical-align: middle;\n",
       "    }\n",
       "\n",
       "    .dataframe tbody tr th {\n",
       "        vertical-align: top;\n",
       "    }\n",
       "\n",
       "    .dataframe thead th {\n",
       "        text-align: right;\n",
       "    }\n",
       "</style>\n",
       "<table border=\"1\" class=\"dataframe\">\n",
       "  <thead>\n",
       "    <tr style=\"text-align: right;\">\n",
       "      <th></th>\n",
       "      <th>0</th>\n",
       "      <th>1</th>\n",
       "    </tr>\n",
       "  </thead>\n",
       "  <tbody>\n",
       "    <tr>\n",
       "      <th>0</th>\n",
       "      <td>0.999858</td>\n",
       "      <td>1.417947e-04</td>\n",
       "    </tr>\n",
       "    <tr>\n",
       "      <th>1</th>\n",
       "      <td>1.000000</td>\n",
       "      <td>1.258111e-08</td>\n",
       "    </tr>\n",
       "    <tr>\n",
       "      <th>2</th>\n",
       "      <td>0.870962</td>\n",
       "      <td>1.290382e-01</td>\n",
       "    </tr>\n",
       "    <tr>\n",
       "      <th>3</th>\n",
       "      <td>0.981843</td>\n",
       "      <td>1.815743e-02</td>\n",
       "    </tr>\n",
       "    <tr>\n",
       "      <th>4</th>\n",
       "      <td>0.999995</td>\n",
       "      <td>4.979731e-06</td>\n",
       "    </tr>\n",
       "  </tbody>\n",
       "</table>\n",
       "</div>"
      ],
      "text/plain": [
       "          0             1\n",
       "0  0.999858  1.417947e-04\n",
       "1  1.000000  1.258111e-08\n",
       "2  0.870962  1.290382e-01\n",
       "3  0.981843  1.815743e-02\n",
       "4  0.999995  4.979731e-06"
      ]
     },
     "execution_count": 161,
     "metadata": {},
     "output_type": "execute_result"
    }
   ],
   "source": [
    "best_grid = grid_search.best_estimator_\n",
    "ann_train_predict_prob=best_grid.predict_proba(X_train)\n",
    "pd.DataFrame(ann_train_predict_prob).head()"
   ]
  },
  {
   "cell_type": "code",
   "execution_count": 162,
   "id": "1be96fc8",
   "metadata": {
    "ExecuteTime": {
     "end_time": "2022-05-15T14:57:35.543828Z",
     "start_time": "2022-05-15T14:57:35.474788Z"
    }
   },
   "outputs": [
    {
     "data": {
      "text/html": [
       "<div>\n",
       "<style scoped>\n",
       "    .dataframe tbody tr th:only-of-type {\n",
       "        vertical-align: middle;\n",
       "    }\n",
       "\n",
       "    .dataframe tbody tr th {\n",
       "        vertical-align: top;\n",
       "    }\n",
       "\n",
       "    .dataframe thead th {\n",
       "        text-align: right;\n",
       "    }\n",
       "</style>\n",
       "<table border=\"1\" class=\"dataframe\">\n",
       "  <thead>\n",
       "    <tr style=\"text-align: right;\">\n",
       "      <th></th>\n",
       "      <th>0</th>\n",
       "      <th>1</th>\n",
       "    </tr>\n",
       "  </thead>\n",
       "  <tbody>\n",
       "    <tr>\n",
       "      <th>0</th>\n",
       "      <td>0.999968</td>\n",
       "      <td>3.185965e-05</td>\n",
       "    </tr>\n",
       "    <tr>\n",
       "      <th>1</th>\n",
       "      <td>0.999919</td>\n",
       "      <td>8.130299e-05</td>\n",
       "    </tr>\n",
       "    <tr>\n",
       "      <th>2</th>\n",
       "      <td>0.979435</td>\n",
       "      <td>2.056477e-02</td>\n",
       "    </tr>\n",
       "    <tr>\n",
       "      <th>3</th>\n",
       "      <td>0.999999</td>\n",
       "      <td>5.531176e-07</td>\n",
       "    </tr>\n",
       "    <tr>\n",
       "      <th>4</th>\n",
       "      <td>0.999938</td>\n",
       "      <td>6.235104e-05</td>\n",
       "    </tr>\n",
       "  </tbody>\n",
       "</table>\n",
       "</div>"
      ],
      "text/plain": [
       "          0             1\n",
       "0  0.999968  3.185965e-05\n",
       "1  0.999919  8.130299e-05\n",
       "2  0.979435  2.056477e-02\n",
       "3  0.999999  5.531176e-07\n",
       "4  0.999938  6.235104e-05"
      ]
     },
     "execution_count": 162,
     "metadata": {},
     "output_type": "execute_result"
    }
   ],
   "source": [
    "ann_test_predict_prob=best_grid.predict_proba(X_test)\n",
    "pd.DataFrame(ann_test_predict_prob).head()"
   ]
  },
  {
   "cell_type": "code",
   "execution_count": 164,
   "id": "9c94c12f",
   "metadata": {
    "ExecuteTime": {
     "end_time": "2022-05-15T14:58:12.389381Z",
     "start_time": "2022-05-15T14:58:12.271192Z"
    }
   },
   "outputs": [],
   "source": [
    "\n",
    "ytrain_predict = best_grid.predict(X_train)\n",
    "ytest_predict = best_grid.predict(X_test)"
   ]
  },
  {
   "cell_type": "code",
   "execution_count": 165,
   "id": "0daa9163",
   "metadata": {
    "ExecuteTime": {
     "end_time": "2022-05-15T14:58:12.820912Z",
     "start_time": "2022-05-15T14:58:12.738324Z"
    }
   },
   "outputs": [
    {
     "data": {
      "text/plain": [
       "0.9868053793453438"
      ]
     },
     "execution_count": 165,
     "metadata": {},
     "output_type": "execute_result"
    }
   ],
   "source": [
    "ann_train_acc = best_grid.score(X_train,Y_train)\n",
    "ann_train_acc\n"
   ]
  },
  {
   "cell_type": "code",
   "execution_count": 166,
   "id": "5d713811",
   "metadata": {
    "ExecuteTime": {
     "end_time": "2022-05-15T14:58:12.972961Z",
     "start_time": "2022-05-15T14:58:12.906756Z"
    }
   },
   "outputs": [
    {
     "data": {
      "text/plain": [
       "0.9538188277087034"
      ]
     },
     "execution_count": 166,
     "metadata": {},
     "output_type": "execute_result"
    }
   ],
   "source": [
    "ann_test_acc = best_grid.score(X_test,Y_test)\n",
    "ann_test_acc"
   ]
  },
  {
   "cell_type": "code",
   "execution_count": 167,
   "id": "bcaa6d64",
   "metadata": {
    "ExecuteTime": {
     "end_time": "2022-05-15T14:58:44.516790Z",
     "start_time": "2022-05-15T14:58:43.976764Z"
    }
   },
   "outputs": [
    {
     "name": "stdout",
     "output_type": "stream",
     "text": [
      "AUC: 0.998\n"
     ]
    },
    {
     "data": {
      "image/png": "[encoded data removed]",
      "text/plain": [
       "<Figure size 432x288 with 1 Axes>"
      ]
     },
     "metadata": {
      "needs_background": "light"
     },
     "output_type": "display_data"
    }
   ],
   "source": [
    "# AUC and ROC for the training data\n",
    "\n",
    "# predict probabilities\n",
    "probs =best_grid.predict_proba(X_train)\n",
    "\n",
    "# keep probabilities for the positive outcome only\n",
    "probs = probs[:, 1]\n",
    "\n",
    "# calculate AUC\n",
    "from sklearn.metrics import roc_auc_score\n",
    "ann_train_auc = roc_auc_score(Y_train, probs)\n",
    "print('AUC: %.3f' % ann_train_auc)\n",
    "\n",
    "# calculate roc curve\n",
    "from sklearn.metrics import roc_curve\n",
    "ann_train_fpr, ann_train_tpr, ann_train_thresholds = roc_curve(Y_train, probs)\n",
    "plt.plot([0, 1], [0, 1], linestyle='--')\n",
    "\n",
    "# plot the roc curve for the model\n",
    "plt.plot(ann_train_fpr, ann_train_tpr, marker='.')\n",
    "\n",
    "# show the plot\n",
    "plt.show()"
   ]
  },
  {
   "cell_type": "code",
   "execution_count": 168,
   "id": "568332ca",
   "metadata": {
    "ExecuteTime": {
     "end_time": "2022-05-15T14:59:00.405478Z",
     "start_time": "2022-05-15T14:59:00.049526Z"
    }
   },
   "outputs": [
    {
     "name": "stdout",
     "output_type": "stream",
     "text": [
      "AUC: 0.975\n"
     ]
    },
    {
     "data": {
      "image/png": "[encoded data removed]",
      "text/plain": [
       "<Figure size 432x288 with 1 Axes>"
      ]
     },
     "metadata": {
      "needs_background": "light"
     },
     "output_type": "display_data"
    }
   ],
   "source": [
    "# AUC and ROC for the testing data\n",
    "\n",
    "# predict probabilities\n",
    "probs =best_grid.predict_proba(X_test)\n",
    "\n",
    "# keep probabilities for the positive outcome only\n",
    "probs = probs[:, 1]\n",
    "\n",
    "# calculate AUC\n",
    "from sklearn.metrics import roc_auc_score\n",
    "ann_test_auc = roc_auc_score(Y_test, probs)\n",
    "print('AUC: %.3f' % ann_test_auc)\n",
    "\n",
    "# calculate roc curve\n",
    "from sklearn.metrics import roc_curve\n",
    "ann_test_fpr, ann_test_tpr, ann_test_thresholds = roc_curve(Y_test, probs)\n",
    "plt.plot([0, 1], [0, 1], linestyle='--')\n",
    "\n",
    "# plot the roc curve for the model\n",
    "plt.plot(ann_test_fpr, ann_test_tpr, marker='.')\n",
    "\n",
    "# show the plot\n",
    "plt.show()"
   ]
  },
  {
   "cell_type": "code",
   "execution_count": null,
   "id": "74c22211",
   "metadata": {},
   "outputs": [],
   "source": []
  }
 ],
 "metadata": {
  "kernelspec": {
   "display_name": "Python 3 (ipykernel)",
   "language": "python",
   "name": "python3"
  },
  "language_info": {
   "codemirror_mode": {
    "name": "ipython",
    "version": 3
   },
   "file_extension": ".py",
   "mimetype": "text/x-python",
   "name": "python",
   "nbconvert_exporter": "python",
   "pygments_lexer": "ipython3",
   "version": "3.9.7"
  },
  "latex_envs": {
   "LaTeX_envs_menu_present": true,
   "autoclose": false,
   "autocomplete": true,
   "bibliofile": "biblio.bib",
   "cite_by": "apalike",
   "current_citInitial": 1,
   "eqLabelWithNumbers": true,
   "eqNumInitial": 1,
   "hotkeys": {
    "equation": "Ctrl-E",
    "itemize": "Ctrl-I"
   },
   "labels_anchors": false,
   "latex_user_defs": false,
   "report_style_numbering": false,
   "user_envs_cfg": false
  },
  "varInspector": {
   "cols": {
    "lenName": 16,
    "lenType": 16,
    "lenVar": 40
   },
   "kernels_config": {
    "python": {
     "delete_cmd_postfix": "",
     "delete_cmd_prefix": "del ",
     "library": "var_list.py",
     "varRefreshCmd": "print(var_dic_list())"
    },
    "r": {
     "delete_cmd_postfix": ") ",
     "delete_cmd_prefix": "rm(",
     "library": "var_list.r",
     "varRefreshCmd": "cat(var_dic_list()) "
    }
   },
   "types_to_exclude": [
    "module",
    "function",
    "builtin_function_or_method",
    "instance",
    "_Feature"
   ],
   "window_display": false
  }
 },
 "nbformat": 4,
 "nbformat_minor": 5
}
