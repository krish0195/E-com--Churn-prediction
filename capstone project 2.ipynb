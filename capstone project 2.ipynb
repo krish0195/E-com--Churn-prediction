{
 "cells": [
  {
   "cell_type": "code",
   "execution_count": 5,
   "id": "36126642",
   "metadata": {
    "ExecuteTime": {
     "end_time": "2022-05-15T17:15:14.024634Z",
     "start_time": "2022-05-15T17:15:13.994981Z"
    }
   },
   "outputs": [],
   "source": [
    "# Basic EDA\n",
    "import numpy as np\n",
    "import pandas as pd\n",
    "import matplotlib.pyplot as plt\n",
    "%matplotlib inline\n",
    "import seaborn as sns\n",
    "\n",
    "# Model Preparation\n",
    "from statsmodels.stats.outliers_influence import variance_inflation_factor\n",
    "from sklearn.model_selection import train_test_split\n",
    "import statsmodels.api as sm\n",
    "\n",
    "\n",
    "# Model Building\n",
    "from sklearn import tree\n",
    "from sklearn.linear_model import LogisticRegression\n",
    "from sklearn.tree import DecisionTreeClassifier\n",
    "from sklearn.ensemble import RandomForestClassifier\n",
    "from sklearn.discriminant_analysis import LinearDiscriminantAnalysis\n",
    "from sklearn.neighbors import KNeighborsClassifier\n",
    "from sklearn.naive_bayes import GaussianNB\n",
    "from sklearn.ensemble import ExtraTreesClassifier\n",
    "from sklearn.neural_network import MLPClassifier\n",
    "#\n",
    "from sklearn.ensemble import GradientBoostingClassifier\n",
    "from sklearn import metrics\n",
    "\n",
    "# Model Performance\n",
    "from sklearn.metrics import roc_auc_score,roc_curve,classification_report,confusion_matrix\n",
    "\n",
    "# Model Validation\n",
    "from sklearn.preprocessing import StandardScaler\n",
    "from sklearn.model_selection import GridSearchCV\n",
    "from sklearn.model_selection import cross_val_score\n",
    "from imblearn import under_sampling, over_sampling\n",
    "from imblearn.over_sampling import SMOTE"
   ]
  },
  {
   "cell_type": "code",
   "execution_count": 6,
   "id": "c4495c71",
   "metadata": {
    "ExecuteTime": {
     "end_time": "2022-05-15T17:15:14.552347Z",
     "start_time": "2022-05-15T17:15:14.507682Z"
    }
   },
   "outputs": [],
   "source": [
    "df=pd.read_csv(r'C:\\Users\\Dell\\Desktop\\GREAT LAKES\\back to studies\\capstone\\Materials of part 1-EDA\\newresult.csv')"
   ]
  },
  {
   "cell_type": "code",
   "execution_count": 7,
   "id": "0c5e9f69",
   "metadata": {
    "ExecuteTime": {
     "end_time": "2022-05-15T17:15:15.498366Z",
     "start_time": "2022-05-15T17:15:15.390836Z"
    }
   },
   "outputs": [
    {
     "data": {
      "text/html": [
       "<div>\n",
       "<style scoped>\n",
       "    .dataframe tbody tr th:only-of-type {\n",
       "        vertical-align: middle;\n",
       "    }\n",
       "\n",
       "    .dataframe tbody tr th {\n",
       "        vertical-align: top;\n",
       "    }\n",
       "\n",
       "    .dataframe thead th {\n",
       "        text-align: right;\n",
       "    }\n",
       "</style>\n",
       "<table border=\"1\" class=\"dataframe\">\n",
       "  <thead>\n",
       "    <tr style=\"text-align: right;\">\n",
       "      <th></th>\n",
       "      <th>Churn</th>\n",
       "      <th>Tenure</th>\n",
       "      <th>City_Tier</th>\n",
       "      <th>CC_Contacted_LY</th>\n",
       "      <th>Payment</th>\n",
       "      <th>Gender</th>\n",
       "      <th>Service_Score</th>\n",
       "      <th>Account_user_count</th>\n",
       "      <th>account_segment</th>\n",
       "      <th>CC_Agent_Score</th>\n",
       "      <th>Marital_Status</th>\n",
       "      <th>rev_per_month</th>\n",
       "      <th>Complain_ly</th>\n",
       "      <th>rev_growth_yoy</th>\n",
       "      <th>coupon_used_for_payment</th>\n",
       "      <th>Day_Since_CC_connect</th>\n",
       "      <th>cashback</th>\n",
       "      <th>Login_device</th>\n",
       "    </tr>\n",
       "  </thead>\n",
       "  <tbody>\n",
       "    <tr>\n",
       "      <th>0</th>\n",
       "      <td>1</td>\n",
       "      <td>4</td>\n",
       "      <td>3</td>\n",
       "      <td>6</td>\n",
       "      <td>3</td>\n",
       "      <td>2</td>\n",
       "      <td>3</td>\n",
       "      <td>3</td>\n",
       "      <td>4</td>\n",
       "      <td>2</td>\n",
       "      <td>3</td>\n",
       "      <td>9</td>\n",
       "      <td>1</td>\n",
       "      <td>11</td>\n",
       "      <td>1</td>\n",
       "      <td>5</td>\n",
       "      <td>160</td>\n",
       "      <td>2</td>\n",
       "    </tr>\n",
       "    <tr>\n",
       "      <th>1</th>\n",
       "      <td>1</td>\n",
       "      <td>0</td>\n",
       "      <td>1</td>\n",
       "      <td>8</td>\n",
       "      <td>5</td>\n",
       "      <td>1</td>\n",
       "      <td>3</td>\n",
       "      <td>4</td>\n",
       "      <td>3</td>\n",
       "      <td>3</td>\n",
       "      <td>3</td>\n",
       "      <td>7</td>\n",
       "      <td>1</td>\n",
       "      <td>15</td>\n",
       "      <td>0</td>\n",
       "      <td>0</td>\n",
       "      <td>121</td>\n",
       "      <td>2</td>\n",
       "    </tr>\n",
       "    <tr>\n",
       "      <th>2</th>\n",
       "      <td>1</td>\n",
       "      <td>0</td>\n",
       "      <td>1</td>\n",
       "      <td>30</td>\n",
       "      <td>3</td>\n",
       "      <td>1</td>\n",
       "      <td>2</td>\n",
       "      <td>4</td>\n",
       "      <td>3</td>\n",
       "      <td>3</td>\n",
       "      <td>3</td>\n",
       "      <td>6</td>\n",
       "      <td>1</td>\n",
       "      <td>14</td>\n",
       "      <td>0</td>\n",
       "      <td>3</td>\n",
       "      <td>152</td>\n",
       "      <td>2</td>\n",
       "    </tr>\n",
       "    <tr>\n",
       "      <th>3</th>\n",
       "      <td>1</td>\n",
       "      <td>0</td>\n",
       "      <td>3</td>\n",
       "      <td>15</td>\n",
       "      <td>3</td>\n",
       "      <td>1</td>\n",
       "      <td>2</td>\n",
       "      <td>4</td>\n",
       "      <td>4</td>\n",
       "      <td>5</td>\n",
       "      <td>3</td>\n",
       "      <td>8</td>\n",
       "      <td>0</td>\n",
       "      <td>23</td>\n",
       "      <td>0</td>\n",
       "      <td>3</td>\n",
       "      <td>134</td>\n",
       "      <td>2</td>\n",
       "    </tr>\n",
       "    <tr>\n",
       "      <th>4</th>\n",
       "      <td>1</td>\n",
       "      <td>0</td>\n",
       "      <td>1</td>\n",
       "      <td>12</td>\n",
       "      <td>2</td>\n",
       "      <td>1</td>\n",
       "      <td>2</td>\n",
       "      <td>3</td>\n",
       "      <td>3</td>\n",
       "      <td>5</td>\n",
       "      <td>3</td>\n",
       "      <td>3</td>\n",
       "      <td>0</td>\n",
       "      <td>11</td>\n",
       "      <td>1</td>\n",
       "      <td>3</td>\n",
       "      <td>130</td>\n",
       "      <td>2</td>\n",
       "    </tr>\n",
       "    <tr>\n",
       "      <th>...</th>\n",
       "      <td>...</td>\n",
       "      <td>...</td>\n",
       "      <td>...</td>\n",
       "      <td>...</td>\n",
       "      <td>...</td>\n",
       "      <td>...</td>\n",
       "      <td>...</td>\n",
       "      <td>...</td>\n",
       "      <td>...</td>\n",
       "      <td>...</td>\n",
       "      <td>...</td>\n",
       "      <td>...</td>\n",
       "      <td>...</td>\n",
       "      <td>...</td>\n",
       "      <td>...</td>\n",
       "      <td>...</td>\n",
       "      <td>...</td>\n",
       "      <td>...</td>\n",
       "    </tr>\n",
       "    <tr>\n",
       "      <th>11255</th>\n",
       "      <td>0</td>\n",
       "      <td>10</td>\n",
       "      <td>1</td>\n",
       "      <td>34</td>\n",
       "      <td>2</td>\n",
       "      <td>1</td>\n",
       "      <td>3</td>\n",
       "      <td>2</td>\n",
       "      <td>4</td>\n",
       "      <td>1</td>\n",
       "      <td>2</td>\n",
       "      <td>9</td>\n",
       "      <td>0</td>\n",
       "      <td>19</td>\n",
       "      <td>1</td>\n",
       "      <td>4</td>\n",
       "      <td>154</td>\n",
       "      <td>1</td>\n",
       "    </tr>\n",
       "    <tr>\n",
       "      <th>11256</th>\n",
       "      <td>0</td>\n",
       "      <td>13</td>\n",
       "      <td>1</td>\n",
       "      <td>19</td>\n",
       "      <td>2</td>\n",
       "      <td>1</td>\n",
       "      <td>3</td>\n",
       "      <td>5</td>\n",
       "      <td>1</td>\n",
       "      <td>5</td>\n",
       "      <td>2</td>\n",
       "      <td>7</td>\n",
       "      <td>0</td>\n",
       "      <td>16</td>\n",
       "      <td>1</td>\n",
       "      <td>8</td>\n",
       "      <td>227</td>\n",
       "      <td>2</td>\n",
       "    </tr>\n",
       "    <tr>\n",
       "      <th>11257</th>\n",
       "      <td>0</td>\n",
       "      <td>1</td>\n",
       "      <td>1</td>\n",
       "      <td>14</td>\n",
       "      <td>3</td>\n",
       "      <td>1</td>\n",
       "      <td>3</td>\n",
       "      <td>2</td>\n",
       "      <td>4</td>\n",
       "      <td>4</td>\n",
       "      <td>2</td>\n",
       "      <td>7</td>\n",
       "      <td>1</td>\n",
       "      <td>22</td>\n",
       "      <td>1</td>\n",
       "      <td>4</td>\n",
       "      <td>191</td>\n",
       "      <td>2</td>\n",
       "    </tr>\n",
       "    <tr>\n",
       "      <th>11258</th>\n",
       "      <td>0</td>\n",
       "      <td>23</td>\n",
       "      <td>3</td>\n",
       "      <td>11</td>\n",
       "      <td>2</td>\n",
       "      <td>1</td>\n",
       "      <td>4</td>\n",
       "      <td>5</td>\n",
       "      <td>4</td>\n",
       "      <td>4</td>\n",
       "      <td>2</td>\n",
       "      <td>7</td>\n",
       "      <td>0</td>\n",
       "      <td>16</td>\n",
       "      <td>2</td>\n",
       "      <td>9</td>\n",
       "      <td>180</td>\n",
       "      <td>1</td>\n",
       "    </tr>\n",
       "    <tr>\n",
       "      <th>11259</th>\n",
       "      <td>0</td>\n",
       "      <td>8</td>\n",
       "      <td>1</td>\n",
       "      <td>22</td>\n",
       "      <td>2</td>\n",
       "      <td>1</td>\n",
       "      <td>3</td>\n",
       "      <td>2</td>\n",
       "      <td>4</td>\n",
       "      <td>3</td>\n",
       "      <td>2</td>\n",
       "      <td>5</td>\n",
       "      <td>0</td>\n",
       "      <td>13</td>\n",
       "      <td>2</td>\n",
       "      <td>3</td>\n",
       "      <td>175</td>\n",
       "      <td>2</td>\n",
       "    </tr>\n",
       "  </tbody>\n",
       "</table>\n",
       "<p>11260 rows × 18 columns</p>\n",
       "</div>"
      ],
      "text/plain": [
       "       Churn  Tenure  City_Tier  CC_Contacted_LY  Payment  Gender  \\\n",
       "0          1       4          3                6        3       2   \n",
       "1          1       0          1                8        5       1   \n",
       "2          1       0          1               30        3       1   \n",
       "3          1       0          3               15        3       1   \n",
       "4          1       0          1               12        2       1   \n",
       "...      ...     ...        ...              ...      ...     ...   \n",
       "11255      0      10          1               34        2       1   \n",
       "11256      0      13          1               19        2       1   \n",
       "11257      0       1          1               14        3       1   \n",
       "11258      0      23          3               11        2       1   \n",
       "11259      0       8          1               22        2       1   \n",
       "\n",
       "       Service_Score  Account_user_count  account_segment  CC_Agent_Score  \\\n",
       "0                  3                   3                4               2   \n",
       "1                  3                   4                3               3   \n",
       "2                  2                   4                3               3   \n",
       "3                  2                   4                4               5   \n",
       "4                  2                   3                3               5   \n",
       "...              ...                 ...              ...             ...   \n",
       "11255              3                   2                4               1   \n",
       "11256              3                   5                1               5   \n",
       "11257              3                   2                4               4   \n",
       "11258              4                   5                4               4   \n",
       "11259              3                   2                4               3   \n",
       "\n",
       "       Marital_Status  rev_per_month  Complain_ly  rev_growth_yoy  \\\n",
       "0                   3              9            1              11   \n",
       "1                   3              7            1              15   \n",
       "2                   3              6            1              14   \n",
       "3                   3              8            0              23   \n",
       "4                   3              3            0              11   \n",
       "...               ...            ...          ...             ...   \n",
       "11255               2              9            0              19   \n",
       "11256               2              7            0              16   \n",
       "11257               2              7            1              22   \n",
       "11258               2              7            0              16   \n",
       "11259               2              5            0              13   \n",
       "\n",
       "       coupon_used_for_payment  Day_Since_CC_connect  cashback  Login_device  \n",
       "0                            1                     5       160             2  \n",
       "1                            0                     0       121             2  \n",
       "2                            0                     3       152             2  \n",
       "3                            0                     3       134             2  \n",
       "4                            1                     3       130             2  \n",
       "...                        ...                   ...       ...           ...  \n",
       "11255                        1                     4       154             1  \n",
       "11256                        1                     8       227             2  \n",
       "11257                        1                     4       191             2  \n",
       "11258                        2                     9       180             1  \n",
       "11259                        2                     3       175             2  \n",
       "\n",
       "[11260 rows x 18 columns]"
      ]
     },
     "execution_count": 7,
     "metadata": {},
     "output_type": "execute_result"
    }
   ],
   "source": [
    "df"
   ]
  },
  {
   "cell_type": "code",
   "execution_count": 8,
   "id": "95bba0c4",
   "metadata": {
    "ExecuteTime": {
     "end_time": "2022-05-15T17:15:17.209135Z",
     "start_time": "2022-05-15T17:15:17.204136Z"
    }
   },
   "outputs": [],
   "source": [
    "#Feature Encoding"
   ]
  },
  {
   "cell_type": "code",
   "execution_count": 9,
   "id": "56b61557",
   "metadata": {
    "ExecuteTime": {
     "end_time": "2022-05-15T17:15:19.129600Z",
     "start_time": "2022-05-15T17:15:18.883171Z"
    }
   },
   "outputs": [
    {
     "name": "stdout",
     "output_type": "stream",
     "text": [
      "<class 'pandas.core.frame.DataFrame'>\n",
      "RangeIndex: 11260 entries, 0 to 11259\n",
      "Data columns (total 18 columns):\n",
      " #   Column                   Non-Null Count  Dtype\n",
      "---  ------                   --------------  -----\n",
      " 0   Churn                    11260 non-null  int64\n",
      " 1   Tenure                   11260 non-null  int64\n",
      " 2   City_Tier                11260 non-null  int64\n",
      " 3   CC_Contacted_LY          11260 non-null  int64\n",
      " 4   Payment                  11260 non-null  int64\n",
      " 5   Gender                   11260 non-null  int64\n",
      " 6   Service_Score            11260 non-null  int64\n",
      " 7   Account_user_count       11260 non-null  int64\n",
      " 8   account_segment          11260 non-null  int64\n",
      " 9   CC_Agent_Score           11260 non-null  int64\n",
      " 10  Marital_Status           11260 non-null  int64\n",
      " 11  rev_per_month            11260 non-null  int64\n",
      " 12  Complain_ly              11260 non-null  int64\n",
      " 13  rev_growth_yoy           11260 non-null  int64\n",
      " 14  coupon_used_for_payment  11260 non-null  int64\n",
      " 15  Day_Since_CC_connect     11260 non-null  int64\n",
      " 16  cashback                 11260 non-null  int64\n",
      " 17  Login_device             11260 non-null  int64\n",
      "dtypes: int64(18)\n",
      "memory usage: 1.5 MB\n"
     ]
    }
   ],
   "source": [
    "df.info()"
   ]
  },
  {
   "cell_type": "code",
   "execution_count": 10,
   "id": "720d66f1",
   "metadata": {
    "ExecuteTime": {
     "end_time": "2022-05-15T17:15:24.958037Z",
     "start_time": "2022-05-15T17:15:24.908955Z"
    }
   },
   "outputs": [
    {
     "data": {
      "text/plain": [
       "0    0.831616\n",
       "1    0.168384\n",
       "Name: Churn, dtype: float64"
      ]
     },
     "execution_count": 10,
     "metadata": {},
     "output_type": "execute_result"
    }
   ],
   "source": [
    "df.Churn.value_counts(normalize=True)\n",
    "#SMOTE"
   ]
  },
  {
   "cell_type": "code",
   "execution_count": 11,
   "id": "1b54c950",
   "metadata": {
    "ExecuteTime": {
     "end_time": "2022-05-15T17:15:26.903762Z",
     "start_time": "2022-05-15T17:15:26.892714Z"
    }
   },
   "outputs": [
    {
     "data": {
      "text/plain": [
       "(11260, 18)"
      ]
     },
     "execution_count": 11,
     "metadata": {},
     "output_type": "execute_result"
    }
   ],
   "source": [
    "df.shape"
   ]
  },
  {
   "cell_type": "code",
   "execution_count": 12,
   "id": "7c1cffe6",
   "metadata": {
    "ExecuteTime": {
     "end_time": "2022-05-15T17:15:27.713908Z",
     "start_time": "2022-05-15T17:15:27.536717Z"
    }
   },
   "outputs": [],
   "source": [
    "X = df.drop(\"Churn\", axis=1)\n",
    "Y = df.pop(\"Churn\")"
   ]
  },
  {
   "cell_type": "code",
   "execution_count": 15,
   "id": "409e6897",
   "metadata": {
    "ExecuteTime": {
     "end_time": "2022-05-15T17:15:35.482982Z",
     "start_time": "2022-05-15T17:15:35.473986Z"
    }
   },
   "outputs": [
    {
     "name": "stdout",
     "output_type": "stream",
     "text": [
      "X (11260, 17)\n",
      "Y (11260,)\n"
     ]
    }
   ],
   "source": [
    "print('X',X.shape)\n",
    "print('Y',Y.shape)"
   ]
  },
  {
   "cell_type": "code",
   "execution_count": 16,
   "id": "b4d4639f",
   "metadata": {
    "ExecuteTime": {
     "end_time": "2022-05-15T17:15:37.041765Z",
     "start_time": "2022-05-15T17:15:36.953142Z"
    }
   },
   "outputs": [],
   "source": [
    "from sklearn.model_selection import train_test_split\n",
    "X_train, X_test, Y_train, Y_test = train_test_split(X, Y, test_size=0.3, random_state=42, stratify=Y)"
   ]
  },
  {
   "cell_type": "code",
   "execution_count": 17,
   "id": "bee57a52",
   "metadata": {
    "ExecuteTime": {
     "end_time": "2022-05-15T17:15:37.916219Z",
     "start_time": "2022-05-15T17:15:37.908227Z"
    }
   },
   "outputs": [
    {
     "name": "stdout",
     "output_type": "stream",
     "text": [
      "X_train (7882, 17)\n",
      "x_test (3378, 17)\n"
     ]
    }
   ],
   "source": [
    "print('X_train',X_train.shape)\n",
    "print('x_test',X_test.shape)"
   ]
  },
  {
   "cell_type": "code",
   "execution_count": 18,
   "id": "3aeeeea9",
   "metadata": {
    "ExecuteTime": {
     "end_time": "2022-05-15T17:15:38.730694Z",
     "start_time": "2022-05-15T17:15:38.721699Z"
    }
   },
   "outputs": [
    {
     "name": "stdout",
     "output_type": "stream",
     "text": [
      "y_train (7882,)\n",
      "y_test (3378,)\n"
     ]
    }
   ],
   "source": [
    "print('y_train',Y_train.shape)\n",
    "print('y_test',Y_test.shape)"
   ]
  },
  {
   "cell_type": "markdown",
   "id": "09873b23",
   "metadata": {
    "ExecuteTime": {
     "end_time": "2022-05-15T15:01:48.167133Z",
     "start_time": "2022-05-15T15:01:48.143684Z"
    }
   },
   "source": [
    "from imblearn.over_sampling import SMOTE\n",
    "sm = SMOTE(random_state = 42)\n",
    "X_train_oversampled, y_train_oversampled = sm.fit_sample(X_train, y_train)\n",
    "X_train = pd.DataFrame(X_train_oversampled, columns=X_train.columns)"
   ]
  },
  {
   "cell_type": "code",
   "execution_count": 19,
   "id": "71d078dc",
   "metadata": {
    "ExecuteTime": {
     "end_time": "2022-05-15T17:15:41.383466Z",
     "start_time": "2022-05-15T17:15:40.582828Z"
    }
   },
   "outputs": [],
   "source": [
    "from imblearn.over_sampling import SMOTE\n",
    "smote = SMOTE()\n",
    "X, Y = smote.fit_resample(X, Y)\n",
    "df = pd.concat([pd.DataFrame(X), pd.DataFrame(Y)], axis=1)"
   ]
  },
  {
   "cell_type": "code",
   "execution_count": 20,
   "id": "0cf9cebf",
   "metadata": {
    "ExecuteTime": {
     "end_time": "2022-05-15T17:15:41.586872Z",
     "start_time": "2022-05-15T17:15:41.576643Z"
    }
   },
   "outputs": [
    {
     "name": "stdout",
     "output_type": "stream",
     "text": [
      "X_train (7882, 17)\n",
      "x_test (3378, 17)\n"
     ]
    }
   ],
   "source": [
    "print('X_train',X_train.shape)\n",
    "print('x_test',X_test.shape)"
   ]
  },
  {
   "cell_type": "code",
   "execution_count": 21,
   "id": "d05228d8",
   "metadata": {
    "ExecuteTime": {
     "end_time": "2022-05-15T17:15:42.338559Z",
     "start_time": "2022-05-15T17:15:42.332205Z"
    }
   },
   "outputs": [
    {
     "name": "stdout",
     "output_type": "stream",
     "text": [
      "y_train (7882,)\n",
      "y_test (3378,)\n"
     ]
    }
   ],
   "source": [
    "print('y_train',Y_train.shape)\n",
    "print('y_test',Y_test.shape)"
   ]
  },
  {
   "cell_type": "markdown",
   "id": "139ed232",
   "metadata": {},
   "source": [
    "# 1)Checking Multicollinearity & VIF"
   ]
  },
  {
   "cell_type": "code",
   "execution_count": 22,
   "id": "b3f31070",
   "metadata": {
    "ExecuteTime": {
     "end_time": "2022-05-15T17:15:44.402010Z",
     "start_time": "2022-05-15T17:15:44.334712Z"
    }
   },
   "outputs": [],
   "source": [
    "#VIF Dataframe\n",
    "vif_df = pd.DataFrame()\n",
    "vif_df[\"feature\"] = X_train.columns"
   ]
  },
  {
   "cell_type": "code",
   "execution_count": 23,
   "id": "05b47776",
   "metadata": {
    "ExecuteTime": {
     "end_time": "2022-05-15T17:15:46.119817Z",
     "start_time": "2022-05-15T17:15:45.042994Z"
    }
   },
   "outputs": [
    {
     "name": "stdout",
     "output_type": "stream",
     "text": [
      "                    feature        VIF\n",
      "0                    Tenure   1.776801\n",
      "1                 City_Tier   4.504008\n",
      "2           CC_Contacted_LY   4.860111\n",
      "3                   Payment   8.518310\n",
      "4                    Gender   8.682100\n",
      "5             Service_Score  18.720062\n",
      "6        Account_user_count  15.770549\n",
      "7           account_segment   8.392721\n",
      "8            CC_Agent_Score   5.675317\n",
      "9            Marital_Status  10.530837\n",
      "10            rev_per_month   1.269941\n",
      "11              Complain_ly   1.376529\n",
      "12           rev_growth_yoy  16.925422\n",
      "13  coupon_used_for_payment   2.167333\n",
      "14     Day_Since_CC_connect   3.005858\n",
      "15                 cashback   2.302822\n",
      "16             Login_device  13.818846\n"
     ]
    }
   ],
   "source": [
    "# Calculate VIF for each feature\n",
    "vif_df[\"VIF\"] = [variance_inflation_factor(X_train.values,i)\n",
    "for i in range(len(X_train.columns))]\n",
    "print(vif_df)"
   ]
  },
  {
   "cell_type": "code",
   "execution_count": 24,
   "id": "ddd4c26a",
   "metadata": {
    "ExecuteTime": {
     "end_time": "2022-05-15T17:15:46.454339Z",
     "start_time": "2022-05-15T17:15:46.439706Z"
    }
   },
   "outputs": [],
   "source": [
    "X_train = X_train.drop([\"Login_device\",\"Service_Score\",\"Account_user_count\",\"cashback\",\"rev_growth_yoy\"], axis=1)\n",
    "X_test = X_test.drop([\"Login_device\",\"Service_Score\",\"Account_user_count\",\"cashback\",\"rev_growth_yoy\"], axis=1)"
   ]
  },
  {
   "cell_type": "code",
   "execution_count": 25,
   "id": "8a386b9c",
   "metadata": {
    "ExecuteTime": {
     "end_time": "2022-05-15T17:15:46.607343Z",
     "start_time": "2022-05-15T17:15:46.577091Z"
    }
   },
   "outputs": [],
   "source": [
    "# Dropping and cecking the VIF Score"
   ]
  },
  {
   "cell_type": "code",
   "execution_count": 26,
   "id": "9d9e7ab2",
   "metadata": {
    "ExecuteTime": {
     "end_time": "2022-05-15T17:15:47.767458Z",
     "start_time": "2022-05-15T17:15:47.593238Z"
    }
   },
   "outputs": [
    {
     "name": "stdout",
     "output_type": "stream",
     "text": [
      "                    feature       VIF\n",
      "0                    Tenure  1.749735\n",
      "1                 City_Tier  4.459016\n",
      "2           CC_Contacted_LY  4.561752\n",
      "3                   Payment  7.915305\n",
      "4                    Gender  7.929075\n",
      "5           account_segment  7.807819\n",
      "6            CC_Agent_Score  5.297435\n",
      "7            Marital_Status  8.887355\n",
      "8             rev_per_month  1.264278\n",
      "9               Complain_ly  1.368628\n",
      "10  coupon_used_for_payment  2.080374\n",
      "11     Day_Since_CC_connect  2.950217\n"
     ]
    }
   ],
   "source": [
    "#VIF Dataframe\n",
    "vif_df = pd.DataFrame()\n",
    "vif_df[\"feature\"] = X_train.columns\n",
    "#\n",
    "# Calculate VIF for each feature\n",
    "vif_df[\"VIF\"] = [variance_inflation_factor(X_train.values,i)\n",
    "                        for i in range(len(X_train.columns))]\n",
    "print(vif_df)"
   ]
  },
  {
   "cell_type": "code",
   "execution_count": 27,
   "id": "60229b92",
   "metadata": {
    "ExecuteTime": {
     "end_time": "2022-05-15T17:15:48.387614Z",
     "start_time": "2022-05-15T17:15:48.380619Z"
    }
   },
   "outputs": [
    {
     "name": "stdout",
     "output_type": "stream",
     "text": [
      "Y_train (7882,)\n",
      "Y_test (3378,)\n"
     ]
    }
   ],
   "source": [
    "#Significant Features\n",
    "print('Y_train',Y_train.shape)\n",
    "print('Y_test',Y_test.shape)"
   ]
  },
  {
   "cell_type": "code",
   "execution_count": 28,
   "id": "99501248",
   "metadata": {
    "ExecuteTime": {
     "end_time": "2022-05-15T17:15:55.007352Z",
     "start_time": "2022-05-15T17:15:54.988011Z"
    }
   },
   "outputs": [],
   "source": [
    "\n",
    "# Standard Scaler - Normality assuption\n",
    "# MinMax - everywhere else\n",
    "\n",
    "from sklearn.preprocessing import StandardScaler\n",
    "std_scale = StandardScaler()\n",
    "X_train = std_scale.fit_transform(X_train)\n",
    "X_test = std_scale.transform(X_test)"
   ]
  },
  {
   "cell_type": "code",
   "execution_count": 166,
   "id": "90e7a4ae",
   "metadata": {
    "ExecuteTime": {
     "end_time": "2022-05-15T15:05:33.735865Z",
     "start_time": "2022-05-15T15:05:33.729702Z"
    }
   },
   "outputs": [],
   "source": [
    "#Model Building"
   ]
  },
  {
   "cell_type": "code",
   "execution_count": 167,
   "id": "d46e4d99",
   "metadata": {
    "ExecuteTime": {
     "end_time": "2022-05-15T15:05:34.308384Z",
     "start_time": "2022-05-15T15:05:34.302388Z"
    }
   },
   "outputs": [],
   "source": [
    "#1. Decision Tree"
   ]
  },
  {
   "cell_type": "code",
   "execution_count": 168,
   "id": "d0c5e740",
   "metadata": {
    "ExecuteTime": {
     "end_time": "2022-05-15T15:05:35.083539Z",
     "start_time": "2022-05-15T15:05:35.071086Z"
    }
   },
   "outputs": [],
   "source": [
    "dtcl = DecisionTreeClassifier(random_state=1)\n",
    "#dtcl.fit(X_train, Y_train)"
   ]
  },
  {
   "cell_type": "code",
   "execution_count": 169,
   "id": "bfe67af8",
   "metadata": {
    "ExecuteTime": {
     "end_time": "2022-05-15T15:05:36.076940Z",
     "start_time": "2022-05-15T15:05:35.860210Z"
    }
   },
   "outputs": [
    {
     "name": "stdout",
     "output_type": "stream",
     "text": [
      "Fitting 5 folds for each of 1 candidates, totalling 5 fits\n"
     ]
    },
    {
     "data": {
      "text/plain": [
       "GridSearchCV(cv=5, estimator=DecisionTreeClassifier(random_state=1), n_jobs=-1,\n",
       "             param_grid={'criterion': ['gini'], 'max_depth': [10],\n",
       "                         'min_samples_leaf': [10], 'min_samples_split': [50]},\n",
       "             verbose=1)"
      ]
     },
     "execution_count": 169,
     "metadata": {},
     "output_type": "execute_result"
    }
   ],
   "source": [
    "param_grid_dt = {\n",
    "    'criterion': ['gini'],\n",
    "    'max_depth': [10],\n",
    "    'min_samples_leaf': [10], \n",
    "    'min_samples_split': [50],\n",
    "}\n",
    "gs_dtcl = GridSearchCV(dtcl, param_grid_dt, cv = 5, n_jobs = -1, verbose = 1)\n",
    "gs_dtcl.fit(X_train, Y_train)"
   ]
  },
  {
   "cell_type": "code",
   "execution_count": 170,
   "id": "28446315",
   "metadata": {
    "ExecuteTime": {
     "end_time": "2022-05-15T15:05:36.291071Z",
     "start_time": "2022-05-15T15:05:36.285998Z"
    }
   },
   "outputs": [],
   "source": [
    "#2. (a) Model Prediction"
   ]
  },
  {
   "cell_type": "code",
   "execution_count": 171,
   "id": "ac1c434c",
   "metadata": {
    "ExecuteTime": {
     "end_time": "2022-05-15T15:05:36.970802Z",
     "start_time": "2022-05-15T15:05:36.786074Z"
    }
   },
   "outputs": [
    {
     "name": "stdout",
     "output_type": "stream",
     "text": [
      "Fitting 5 folds for each of 1 candidates, totalling 5 fits\n",
      "{'criterion': 'gini', 'max_depth': 10, 'min_samples_leaf': 10, 'min_samples_split': 50}\n"
     ]
    },
    {
     "data": {
      "text/plain": [
       "DecisionTreeClassifier(max_depth=10, min_samples_leaf=10, min_samples_split=50,\n",
       "                       random_state=1)"
      ]
     },
     "execution_count": 171,
     "metadata": {},
     "output_type": "execute_result"
    }
   ],
   "source": [
    "gs_dtcl.fit(X_train, Y_train)\n",
    "print(gs_dtcl.best_params_)\n",
    "best_grid = gs_dtcl.best_estimator_\n",
    "best_grid\n",
    "#{'criterion': 'gini', 'max_depth': 12, 'min_samples_leaf': 50, 'min_samples_split': 450}"
   ]
  },
  {
   "cell_type": "code",
   "execution_count": 172,
   "id": "09b1939c",
   "metadata": {
    "ExecuteTime": {
     "end_time": "2022-05-15T15:05:37.520928Z",
     "start_time": "2022-05-15T15:05:37.511761Z"
    }
   },
   "outputs": [],
   "source": [
    "\n",
    "ytrain_predict = best_grid.predict(X_train)\n",
    "ytest_predict = best_grid.predict(X_test)"
   ]
  },
  {
   "cell_type": "code",
   "execution_count": 173,
   "id": "734e50ec",
   "metadata": {
    "ExecuteTime": {
     "end_time": "2022-05-15T15:05:43.956766Z",
     "start_time": "2022-05-15T15:05:43.938386Z"
    }
   },
   "outputs": [
    {
     "data": {
      "text/html": [
       "<div>\n",
       "<style scoped>\n",
       "    .dataframe tbody tr th:only-of-type {\n",
       "        vertical-align: middle;\n",
       "    }\n",
       "\n",
       "    .dataframe tbody tr th {\n",
       "        vertical-align: top;\n",
       "    }\n",
       "\n",
       "    .dataframe thead th {\n",
       "        text-align: right;\n",
       "    }\n",
       "</style>\n",
       "<table border=\"1\" class=\"dataframe\">\n",
       "  <thead>\n",
       "    <tr style=\"text-align: right;\">\n",
       "      <th></th>\n",
       "      <th>0</th>\n",
       "      <th>1</th>\n",
       "    </tr>\n",
       "  </thead>\n",
       "  <tbody>\n",
       "    <tr>\n",
       "      <th>0</th>\n",
       "      <td>1.0000</td>\n",
       "      <td>0.0000</td>\n",
       "    </tr>\n",
       "    <tr>\n",
       "      <th>1</th>\n",
       "      <td>1.0000</td>\n",
       "      <td>0.0000</td>\n",
       "    </tr>\n",
       "    <tr>\n",
       "      <th>2</th>\n",
       "      <td>1.0000</td>\n",
       "      <td>0.0000</td>\n",
       "    </tr>\n",
       "    <tr>\n",
       "      <th>3</th>\n",
       "      <td>1.0000</td>\n",
       "      <td>0.0000</td>\n",
       "    </tr>\n",
       "    <tr>\n",
       "      <th>4</th>\n",
       "      <td>0.8125</td>\n",
       "      <td>0.1875</td>\n",
       "    </tr>\n",
       "  </tbody>\n",
       "</table>\n",
       "</div>"
      ],
      "text/plain": [
       "        0       1\n",
       "0  1.0000  0.0000\n",
       "1  1.0000  0.0000\n",
       "2  1.0000  0.0000\n",
       "3  1.0000  0.0000\n",
       "4  0.8125  0.1875"
      ]
     },
     "execution_count": 173,
     "metadata": {},
     "output_type": "execute_result"
    }
   ],
   "source": [
    "\n",
    "ytest_predict\n",
    "ytest_predict_prob=best_grid.predict_proba(X_test)\n",
    "ytest_predict_prob\n",
    "pd.DataFrame(ytest_predict_prob).head()"
   ]
  },
  {
   "cell_type": "code",
   "execution_count": 174,
   "id": "fac1761e",
   "metadata": {
    "ExecuteTime": {
     "end_time": "2022-05-15T15:05:44.980508Z",
     "start_time": "2022-05-15T15:05:44.975329Z"
    }
   },
   "outputs": [],
   "source": [
    "#2. (b) Model Performance"
   ]
  },
  {
   "cell_type": "code",
   "execution_count": 175,
   "id": "389c5d5d",
   "metadata": {
    "ExecuteTime": {
     "end_time": "2022-05-15T15:05:46.150127Z",
     "start_time": "2022-05-15T15:05:46.135938Z"
    }
   },
   "outputs": [
    {
     "data": {
      "text/plain": [
       "array([[6273,  282],\n",
       "       [ 335,  992]], dtype=int64)"
      ]
     },
     "execution_count": 175,
     "metadata": {},
     "output_type": "execute_result"
    }
   ],
   "source": [
    "confusion_matrix(Y_train, ytrain_predict)"
   ]
  },
  {
   "cell_type": "code",
   "execution_count": 176,
   "id": "8e7d25bc",
   "metadata": {
    "ExecuteTime": {
     "end_time": "2022-05-15T15:05:46.826265Z",
     "start_time": "2022-05-15T15:05:46.815114Z"
    }
   },
   "outputs": [
    {
     "data": {
      "text/plain": [
       "array([[2637,  172],\n",
       "       [ 173,  396]], dtype=int64)"
      ]
     },
     "execution_count": 176,
     "metadata": {},
     "output_type": "execute_result"
    }
   ],
   "source": [
    "confusion_matrix(Y_test, ytest_predict)"
   ]
  },
  {
   "cell_type": "code",
   "execution_count": 177,
   "id": "1f8d1ea7",
   "metadata": {
    "ExecuteTime": {
     "end_time": "2022-05-15T15:05:47.329448Z",
     "start_time": "2022-05-15T15:05:47.314236Z"
    }
   },
   "outputs": [
    {
     "data": {
      "text/plain": [
       "0.9217203755392033"
      ]
     },
     "execution_count": 177,
     "metadata": {},
     "output_type": "execute_result"
    }
   ],
   "source": [
    "cart_train_acc=best_grid.score(X_train,Y_train) \n",
    "cart_train_acc"
   ]
  },
  {
   "cell_type": "code",
   "execution_count": 178,
   "id": "67fc9850",
   "metadata": {
    "ExecuteTime": {
     "end_time": "2022-05-15T15:05:48.055756Z",
     "start_time": "2022-05-15T15:05:48.044332Z"
    }
   },
   "outputs": [
    {
     "data": {
      "text/plain": [
       "0.8978685612788633"
      ]
     },
     "execution_count": 178,
     "metadata": {},
     "output_type": "execute_result"
    }
   ],
   "source": [
    "cart_test_acc=best_grid.score(X_test,Y_test)\n",
    "cart_test_acc"
   ]
  },
  {
   "cell_type": "code",
   "execution_count": 179,
   "id": "d97ed0c0",
   "metadata": {
    "ExecuteTime": {
     "end_time": "2022-05-15T15:05:48.745139Z",
     "start_time": "2022-05-15T15:05:48.417275Z"
    }
   },
   "outputs": [
    {
     "name": "stdout",
     "output_type": "stream",
     "text": [
      "              precision    recall  f1-score   support\n",
      "\n",
      "           0       0.95      0.96      0.95      6555\n",
      "           1       0.78      0.75      0.76      1327\n",
      "\n",
      "    accuracy                           0.92      7882\n",
      "   macro avg       0.86      0.85      0.86      7882\n",
      "weighted avg       0.92      0.92      0.92      7882\n",
      "\n"
     ]
    }
   ],
   "source": [
    "print(classification_report(Y_train, ytrain_predict))"
   ]
  },
  {
   "cell_type": "code",
   "execution_count": 180,
   "id": "3bffadfd",
   "metadata": {
    "ExecuteTime": {
     "end_time": "2022-05-15T15:05:48.952334Z",
     "start_time": "2022-05-15T15:05:48.928066Z"
    }
   },
   "outputs": [
    {
     "name": "stdout",
     "output_type": "stream",
     "text": [
      "              precision    recall  f1-score   support\n",
      "\n",
      "           0       0.94      0.94      0.94      2809\n",
      "           1       0.70      0.70      0.70       569\n",
      "\n",
      "    accuracy                           0.90      3378\n",
      "   macro avg       0.82      0.82      0.82      3378\n",
      "weighted avg       0.90      0.90      0.90      3378\n",
      "\n"
     ]
    }
   ],
   "source": [
    "print(classification_report(Y_test, ytest_predict))"
   ]
  },
  {
   "cell_type": "code",
   "execution_count": 181,
   "id": "63e63397",
   "metadata": {
    "ExecuteTime": {
     "end_time": "2022-05-15T15:05:51.221579Z",
     "start_time": "2022-05-15T15:05:51.216582Z"
    }
   },
   "outputs": [],
   "source": [
    "#2. (c) ROC-AUC Graph"
   ]
  },
  {
   "cell_type": "code",
   "execution_count": 182,
   "id": "4b861eed",
   "metadata": {
    "ExecuteTime": {
     "end_time": "2022-05-15T15:05:54.575953Z",
     "start_time": "2022-05-15T15:05:51.985721Z"
    }
   },
   "outputs": [
    {
     "name": "stdout",
     "output_type": "stream",
     "text": [
      "AUC: 0.958\n"
     ]
    },
    {
     "data": {
      "image/png": "[encoded data removed]",
      "text/plain": [
       "<Figure size 432x288 with 1 Axes>"
      ]
     },
     "metadata": {
      "needs_background": "light"
     },
     "output_type": "display_data"
    }
   ],
   "source": [
    "# AUC and ROC for the training data\n",
    "\n",
    "# predict probabilities\n",
    "probs = gs_dtcl.predict_proba(X_train)\n",
    "\n",
    "# keep probabilities for the positive outcome only\n",
    "probs = probs[:, 1]\n",
    "\n",
    "# calculate AUC\n",
    "from sklearn.metrics import roc_auc_score\n",
    "cart_train_auc = roc_auc_score(Y_train, probs)\n",
    "print('AUC: %.3f' % cart_train_auc)\n",
    "\n",
    "# calculate roc curve\n",
    "from sklearn.metrics import roc_curve\n",
    "cart_train_fpr, cart_train_tpr, cart_train_thresholds = roc_curve(Y_train, probs)\n",
    "plt.plot([0, 1], [0, 1], linestyle='--')\n",
    "\n",
    "# plot the roc curve for the model\n",
    "plt.plot(cart_train_fpr, cart_train_tpr, marker='.')\n",
    "\n",
    "# show the plot\n",
    "plt.show()\n"
   ]
  },
  {
   "cell_type": "code",
   "execution_count": 183,
   "id": "9a8b121d",
   "metadata": {
    "ExecuteTime": {
     "end_time": "2022-05-15T15:05:55.284120Z",
     "start_time": "2022-05-15T15:05:54.580951Z"
    }
   },
   "outputs": [
    {
     "name": "stdout",
     "output_type": "stream",
     "text": [
      "AUC: 0.937\n"
     ]
    },
    {
     "data": {
      "image/png": "[encoded data removed]",
      "text/plain": [
       "<Figure size 432x288 with 1 Axes>"
      ]
     },
     "metadata": {
      "needs_background": "light"
     },
     "output_type": "display_data"
    }
   ],
   "source": [
    "# AUC and ROC for the test data\n",
    "\n",
    "# predict probabilities\n",
    "probs = gs_dtcl.predict_proba(X_test)\n",
    "\n",
    "# keep probabilities for the positive outcome only\n",
    "probs = probs[:, 1]\n",
    "\n",
    "# calculate AUC\n",
    "from sklearn.metrics import roc_auc_score\n",
    "cart_test_auc = roc_auc_score(Y_test, probs)\n",
    "print('AUC: %.3f' % cart_test_auc)\n",
    "\n",
    "# calculate roc curve\n",
    "from sklearn.metrics import roc_curve\n",
    "cart_test_fpr, cart_test_tpr, cart_test_thresholds = roc_curve(Y_test, probs)\n",
    "plt.plot([0, 1], [0, 1], linestyle='--')\n",
    "\n",
    "# plot the roc curve for the model\n",
    "plt.plot(cart_test_fpr, cart_test_tpr, marker='.')\n",
    "\n",
    "# show the plot\n",
    "plt.show()"
   ]
  },
  {
   "cell_type": "code",
   "execution_count": 184,
   "id": "c445e01e",
   "metadata": {
    "ExecuteTime": {
     "end_time": "2022-05-15T15:05:55.548153Z",
     "start_time": "2022-05-15T15:05:55.543151Z"
    }
   },
   "outputs": [],
   "source": [
    "#2. (d) Model Performance Metrices"
   ]
  },
  {
   "cell_type": "code",
   "execution_count": 185,
   "id": "1a8a9747",
   "metadata": {
    "ExecuteTime": {
     "end_time": "2022-05-15T15:05:55.984054Z",
     "start_time": "2022-05-15T15:05:55.552146Z"
    }
   },
   "outputs": [
    {
     "name": "stdout",
     "output_type": "stream",
     "text": [
      "cart_train_precision  0.78\n",
      "cart_train_recall  0.75\n",
      "cart_train_f1  0.76\n"
     ]
    }
   ],
   "source": [
    "cart_metrics=classification_report(Y_train, ytrain_predict,output_dict=True)\n",
    "df=pd.DataFrame(cart_metrics).transpose()\n",
    "cart_train_f1=round(df.loc[\"1\"][2],2)\n",
    "cart_train_recall=round(df.loc[\"1\"][1],2)\n",
    "cart_train_precision=round(df.loc[\"1\"][0],2)\n",
    "print ('cart_train_precision ',cart_train_precision)\n",
    "print ('cart_train_recall ',cart_train_recall)\n",
    "print ('cart_train_f1 ',cart_train_f1)"
   ]
  },
  {
   "cell_type": "code",
   "execution_count": 186,
   "id": "3f8afd25",
   "metadata": {
    "ExecuteTime": {
     "end_time": "2022-05-15T15:05:56.028682Z",
     "start_time": "2022-05-15T15:05:55.988053Z"
    }
   },
   "outputs": [
    {
     "name": "stdout",
     "output_type": "stream",
     "text": [
      "cart_test_precision  0.7\n",
      "cart_test_recall  0.7\n",
      "cart_test_f1  0.7\n"
     ]
    }
   ],
   "source": [
    "cart_metrics=classification_report(Y_test, ytest_predict,output_dict=True)\n",
    "df=pd.DataFrame(cart_metrics).transpose()\n",
    "cart_test_precision=round(df.loc[\"1\"][0],2)\n",
    "cart_test_recall=round(df.loc[\"1\"][1],2)\n",
    "cart_test_f1=round(df.loc[\"1\"][2],2)\n",
    "print ('cart_test_precision ',cart_test_precision)\n",
    "print ('cart_test_recall ',cart_test_recall)\n",
    "print ('cart_test_f1 ',cart_test_f1)"
   ]
  },
  {
   "cell_type": "code",
   "execution_count": 187,
   "id": "38c43149",
   "metadata": {
    "ExecuteTime": {
     "end_time": "2022-05-15T15:05:56.154678Z",
     "start_time": "2022-05-15T15:05:56.032851Z"
    }
   },
   "outputs": [],
   "source": [
    "#2. (e) Feature Importance"
   ]
  },
  {
   "cell_type": "code",
   "execution_count": 188,
   "id": "0b4ef667",
   "metadata": {
    "ExecuteTime": {
     "end_time": "2022-05-15T15:05:56.326501Z",
     "start_time": "2022-05-15T15:05:56.161658Z"
    }
   },
   "outputs": [],
   "source": [
    "#2. Logistic Regression"
   ]
  },
  {
   "cell_type": "code",
   "execution_count": 189,
   "id": "3732cd3e",
   "metadata": {
    "ExecuteTime": {
     "end_time": "2022-05-15T15:05:57.315220Z",
     "start_time": "2022-05-15T15:05:56.471391Z"
    }
   },
   "outputs": [
    {
     "data": {
      "text/plain": [
       "LogisticRegression(random_state=1, solver='liblinear')"
      ]
     },
     "execution_count": 189,
     "metadata": {},
     "output_type": "execute_result"
    }
   ],
   "source": [
    "model = LogisticRegression(C=1.0, \n",
    "                           class_weight=None, \n",
    "                           dual=False, \n",
    "                           fit_intercept=True,\n",
    "                           intercept_scaling=1, \n",
    "                           l1_ratio=None, \n",
    "                           max_iter=100,\n",
    "                           n_jobs=None, \n",
    "                           penalty='l2',\n",
    "                           random_state=1, \n",
    "                           solver='liblinear', \n",
    "                           tol=0.0001, \n",
    "                           verbose=0,\n",
    "                           warm_start=False)\n",
    "model.fit(X_train, Y_train) "
   ]
  },
  {
   "cell_type": "code",
   "execution_count": 190,
   "id": "83a8365b",
   "metadata": {
    "ExecuteTime": {
     "end_time": "2022-05-15T15:05:58.574347Z",
     "start_time": "2022-05-15T15:05:58.571347Z"
    }
   },
   "outputs": [],
   "source": [
    "#1. (a) Model Prediction"
   ]
  },
  {
   "cell_type": "code",
   "execution_count": 191,
   "id": "bc3debe5",
   "metadata": {
    "ExecuteTime": {
     "end_time": "2022-05-15T15:05:59.380995Z",
     "start_time": "2022-05-15T15:05:59.364851Z"
    }
   },
   "outputs": [
    {
     "data": {
      "text/plain": [
       "0.8717330626744481"
      ]
     },
     "execution_count": 191,
     "metadata": {},
     "output_type": "execute_result"
    }
   ],
   "source": [
    "y_predict_train = model.predict(X_train)\n",
    "log_train_acc = model.score(X_train, Y_train)\n",
    "log_train_acc"
   ]
  },
  {
   "cell_type": "code",
   "execution_count": 192,
   "id": "648a9606",
   "metadata": {
    "ExecuteTime": {
     "end_time": "2022-05-15T15:06:00.171713Z",
     "start_time": "2022-05-15T15:06:00.155562Z"
    }
   },
   "outputs": [
    {
     "data": {
      "text/plain": [
       "0.8735938425103612"
      ]
     },
     "execution_count": 192,
     "metadata": {},
     "output_type": "execute_result"
    }
   ],
   "source": [
    "y_predict_test = model.predict(X_test)\n",
    "log_test_acc = model.score(X_test, Y_test)\n",
    "log_test_acc"
   ]
  },
  {
   "cell_type": "code",
   "execution_count": 193,
   "id": "ab6c841f",
   "metadata": {
    "ExecuteTime": {
     "end_time": "2022-05-15T15:06:00.985839Z",
     "start_time": "2022-05-15T15:06:00.977845Z"
    }
   },
   "outputs": [
    {
     "data": {
      "text/plain": [
       "array([-2.39297744])"
      ]
     },
     "execution_count": 193,
     "metadata": {},
     "output_type": "execute_result"
    }
   ],
   "source": [
    "model.intercept_"
   ]
  },
  {
   "cell_type": "code",
   "execution_count": 194,
   "id": "8415cad2",
   "metadata": {
    "ExecuteTime": {
     "end_time": "2022-05-15T15:06:01.890437Z",
     "start_time": "2022-05-15T15:06:01.880441Z"
    }
   },
   "outputs": [
    {
     "data": {
      "text/plain": [
       "array([[-1.62416181,  0.24195607,  0.23827713, -0.08715787, -0.14056275,\n",
       "        -0.33556667,  0.37268993,  0.39818919,  0.10791843,  0.65558811,\n",
       "         0.25957133, -0.43179447]])"
      ]
     },
     "execution_count": 194,
     "metadata": {},
     "output_type": "execute_result"
    }
   ],
   "source": [
    "model.coef_"
   ]
  },
  {
   "cell_type": "code",
   "execution_count": 195,
   "id": "c737de35",
   "metadata": {
    "ExecuteTime": {
     "end_time": "2022-05-15T15:06:02.828848Z",
     "start_time": "2022-05-15T15:06:02.823684Z"
    }
   },
   "outputs": [],
   "source": [
    "#1. (b) Model Performance\n"
   ]
  },
  {
   "cell_type": "code",
   "execution_count": 196,
   "id": "404c138b",
   "metadata": {
    "ExecuteTime": {
     "end_time": "2022-05-15T15:06:03.416356Z",
     "start_time": "2022-05-15T15:06:03.402029Z"
    }
   },
   "outputs": [
    {
     "data": {
      "text/plain": [
       "array([[6404,  151],\n",
       "       [ 860,  467]], dtype=int64)"
      ]
     },
     "execution_count": 196,
     "metadata": {},
     "output_type": "execute_result"
    }
   ],
   "source": [
    "confusion_matrix(Y_train, y_predict_train)"
   ]
  },
  {
   "cell_type": "code",
   "execution_count": 197,
   "id": "e13291d7",
   "metadata": {
    "ExecuteTime": {
     "end_time": "2022-05-15T15:06:04.473827Z",
     "start_time": "2022-05-15T15:06:04.458373Z"
    }
   },
   "outputs": [
    {
     "data": {
      "text/plain": [
       "array([[2748,   61],\n",
       "       [ 366,  203]], dtype=int64)"
      ]
     },
     "execution_count": 197,
     "metadata": {},
     "output_type": "execute_result"
    }
   ],
   "source": [
    "confusion_matrix(Y_test, y_predict_test)"
   ]
  },
  {
   "cell_type": "code",
   "execution_count": 198,
   "id": "a3b1ce70",
   "metadata": {
    "ExecuteTime": {
     "end_time": "2022-05-15T15:06:05.273063Z",
     "start_time": "2022-05-15T15:06:05.231120Z"
    }
   },
   "outputs": [
    {
     "name": "stdout",
     "output_type": "stream",
     "text": [
      "              precision    recall  f1-score   support\n",
      "\n",
      "           0       0.88      0.98      0.93      6555\n",
      "           1       0.76      0.35      0.48      1327\n",
      "\n",
      "    accuracy                           0.87      7882\n",
      "   macro avg       0.82      0.66      0.70      7882\n",
      "weighted avg       0.86      0.87      0.85      7882\n",
      "\n"
     ]
    }
   ],
   "source": [
    "print(classification_report(Y_train, y_predict_train))"
   ]
  },
  {
   "cell_type": "code",
   "execution_count": 199,
   "id": "d5dd6ab6",
   "metadata": {
    "ExecuteTime": {
     "end_time": "2022-05-15T15:06:05.677751Z",
     "start_time": "2022-05-15T15:06:05.659602Z"
    }
   },
   "outputs": [
    {
     "name": "stdout",
     "output_type": "stream",
     "text": [
      "              precision    recall  f1-score   support\n",
      "\n",
      "           0       0.88      0.98      0.93      2809\n",
      "           1       0.77      0.36      0.49       569\n",
      "\n",
      "    accuracy                           0.87      3378\n",
      "   macro avg       0.83      0.67      0.71      3378\n",
      "weighted avg       0.86      0.87      0.85      3378\n",
      "\n"
     ]
    }
   ],
   "source": [
    "print(classification_report(Y_test, y_predict_test))"
   ]
  },
  {
   "cell_type": "code",
   "execution_count": 200,
   "id": "2fa3506c",
   "metadata": {
    "ExecuteTime": {
     "end_time": "2022-05-15T15:06:06.117905Z",
     "start_time": "2022-05-15T15:06:06.114907Z"
    }
   },
   "outputs": [],
   "source": [
    "#1. (c) ROC-AUC Graph"
   ]
  },
  {
   "cell_type": "code",
   "execution_count": 201,
   "id": "88190792",
   "metadata": {
    "ExecuteTime": {
     "end_time": "2022-05-15T15:06:07.262218Z",
     "start_time": "2022-05-15T15:06:06.679392Z"
    }
   },
   "outputs": [
    {
     "name": "stdout",
     "output_type": "stream",
     "text": [
      "AUC: 0.854\n"
     ]
    },
    {
     "data": {
      "image/png": "[encoded data removed]",
      "text/plain": [
       "<Figure size 432x288 with 1 Axes>"
      ]
     },
     "metadata": {
      "needs_background": "light"
     },
     "output_type": "display_data"
    }
   ],
   "source": [
    "# AUC and ROC for the training data\n",
    "\n",
    "# predict probabilities\n",
    "probs = model.predict_proba(X_train)\n",
    "\n",
    "# keep probabilities for the positive outcome only\n",
    "probs = probs[:, 1]\n",
    "\n",
    "# calculate AUC\n",
    "from sklearn.metrics import roc_auc_score\n",
    "log_train_auc = roc_auc_score(Y_train, probs)\n",
    "print('AUC: %.3f' % log_train_auc)\n",
    "\n",
    "# calculate roc curve\n",
    "from sklearn.metrics import roc_curve\n",
    "log_train_fpr, log_train_tpr, train_thresholds = roc_curve(Y_train, probs)\n",
    "plt.plot([0, 1], [0, 1], linestyle='--')\n",
    "\n",
    "# plot the roc curve for the model\n",
    "plt.plot(log_train_fpr, log_train_tpr, marker='.')\n",
    "\n",
    "# show the plot\n",
    "plt.show()"
   ]
  },
  {
   "cell_type": "code",
   "execution_count": 202,
   "id": "095fa4b4",
   "metadata": {
    "ExecuteTime": {
     "end_time": "2022-05-15T15:06:08.611964Z",
     "start_time": "2022-05-15T15:06:08.199428Z"
    }
   },
   "outputs": [
    {
     "name": "stdout",
     "output_type": "stream",
     "text": [
      "AUC: 0.851\n"
     ]
    },
    {
     "data": {
      "image/png": "[encoded data removed]",
      "text/plain": [
       "<Figure size 432x288 with 1 Axes>"
      ]
     },
     "metadata": {
      "needs_background": "light"
     },
     "output_type": "display_data"
    }
   ],
   "source": [
    "\n",
    "# AUC and ROC for the test data\n",
    "\n",
    "# predict probabilities\n",
    "probs = model.predict_proba(X_test)\n",
    "\n",
    "# keep probabilities for the positive outcome only\n",
    "probs = probs[:, 1]\n",
    "\n",
    "# calculate AUC\n",
    "from sklearn.metrics import roc_auc_score\n",
    "log_test_auc = roc_auc_score(Y_test, probs)\n",
    "print('AUC: %.3f' % log_test_auc)\n",
    "\n",
    "# calculate roc curve\n",
    "from sklearn.metrics import roc_curve\n",
    "log_test_fpr, log_test_tpr, test_thresholds = roc_curve(Y_test, probs)\n",
    "plt.plot([0, 1], [0, 1], linestyle='--')\n",
    "\n",
    "# plot the roc curve for the model\n",
    "plt.plot(log_test_fpr, log_test_tpr, marker='.')\n",
    "\n",
    "# show the plot\n",
    "plt.show()"
   ]
  },
  {
   "cell_type": "code",
   "execution_count": 203,
   "id": "0be9a4c3",
   "metadata": {
    "ExecuteTime": {
     "end_time": "2022-05-15T15:06:09.040199Z",
     "start_time": "2022-05-15T15:06:09.036199Z"
    }
   },
   "outputs": [],
   "source": [
    "#1. (d) Model Performance Metrice"
   ]
  },
  {
   "cell_type": "code",
   "execution_count": 204,
   "id": "ebae57e4",
   "metadata": {
    "ExecuteTime": {
     "end_time": "2022-05-15T15:06:09.717137Z",
     "start_time": "2022-05-15T15:06:09.684699Z"
    }
   },
   "outputs": [
    {
     "name": "stdout",
     "output_type": "stream",
     "text": [
      "log_train_precision  0.76\n",
      "log_train_recall  0.35\n",
      "log_train_f1  0.48\n"
     ]
    }
   ],
   "source": [
    "log_metrics=classification_report(Y_train, y_predict_train,output_dict=True)\n",
    "df=pd.DataFrame(log_metrics).transpose()\n",
    "log_train_precision=round(df.loc[\"1\"][0],2)\n",
    "log_train_recall=round(df.loc[\"1\"][1],2)\n",
    "log_train_f1=round(df.loc[\"1\"][2],2)\n",
    "print ('log_train_precision ',log_train_precision)\n",
    "print ('log_train_recall ',log_train_recall)\n",
    "print ('log_train_f1 ',log_train_f1)"
   ]
  },
  {
   "cell_type": "code",
   "execution_count": 205,
   "id": "4bd59e0e",
   "metadata": {
    "ExecuteTime": {
     "end_time": "2022-05-15T15:06:12.268102Z",
     "start_time": "2022-05-15T15:06:12.229362Z"
    }
   },
   "outputs": [
    {
     "name": "stdout",
     "output_type": "stream",
     "text": [
      "log_test_precision  0.77\n",
      "log_test_recall  0.36\n",
      "log_test_f1  0.49\n"
     ]
    }
   ],
   "source": [
    "log_metrics=classification_report(Y_test, y_predict_test,output_dict=True)\n",
    "df=pd.DataFrame(log_metrics).transpose()\n",
    "log_test_precision=round(df.loc[\"1\"][0],2)\n",
    "log_test_recall=round(df.loc[\"1\"][1],2)\n",
    "log_test_f1=round(df.loc[\"1\"][2],2)\n",
    "print ('log_test_precision ',log_test_precision)\n",
    "print ('log_test_recall ',log_test_recall)\n",
    "print ('log_test_f1 ',log_test_f1)"
   ]
  },
  {
   "cell_type": "code",
   "execution_count": 206,
   "id": "98e7c927",
   "metadata": {
    "ExecuteTime": {
     "end_time": "2022-05-15T15:06:13.073392Z",
     "start_time": "2022-05-15T15:06:13.065398Z"
    }
   },
   "outputs": [],
   "source": [
    "#3. Random Forest"
   ]
  },
  {
   "cell_type": "code",
   "execution_count": 207,
   "id": "2c074dbb",
   "metadata": {
    "ExecuteTime": {
     "end_time": "2022-05-15T15:06:13.790244Z",
     "start_time": "2022-05-15T15:06:13.748663Z"
    }
   },
   "outputs": [],
   "source": [
    "param_grid = {\n",
    "    'max_depth': [10],## 20,30,40\n",
    "    'max_features': [11],## 7,8,9\n",
    "    'min_samples_leaf': [10],## 50,100\n",
    "    'min_samples_split': [50], ## 60,70\n",
    "    'n_estimators': [100] ## 100,200\n",
    "}\n",
    "rfcl = RandomForestClassifier(random_state=1)\n",
    "grid_search_rf = GridSearchCV(estimator = rfcl, param_grid = param_grid, cv = 5)"
   ]
  },
  {
   "cell_type": "code",
   "execution_count": 208,
   "id": "a0f2c649",
   "metadata": {
    "ExecuteTime": {
     "end_time": "2022-05-15T15:06:25.942809Z",
     "start_time": "2022-05-15T15:06:14.561028Z"
    }
   },
   "outputs": [
    {
     "data": {
      "text/plain": [
       "GridSearchCV(cv=5, estimator=RandomForestClassifier(random_state=1),\n",
       "             param_grid={'max_depth': [10], 'max_features': [11],\n",
       "                         'min_samples_leaf': [10], 'min_samples_split': [50],\n",
       "                         'n_estimators': [100]})"
      ]
     },
     "execution_count": 208,
     "metadata": {},
     "output_type": "execute_result"
    }
   ],
   "source": [
    "grid_search_rf.fit(X_train, Y_train)"
   ]
  },
  {
   "cell_type": "code",
   "execution_count": 209,
   "id": "80a07aed",
   "metadata": {
    "ExecuteTime": {
     "end_time": "2022-05-15T15:06:25.981896Z",
     "start_time": "2022-05-15T15:06:25.953767Z"
    }
   },
   "outputs": [
    {
     "data": {
      "text/plain": [
       "{'max_depth': 10,\n",
       " 'max_features': 11,\n",
       " 'min_samples_leaf': 10,\n",
       " 'min_samples_split': 50,\n",
       " 'n_estimators': 100}"
      ]
     },
     "execution_count": 209,
     "metadata": {},
     "output_type": "execute_result"
    }
   ],
   "source": [
    "grid_search_rf.best_params_"
   ]
  },
  {
   "cell_type": "code",
   "execution_count": 210,
   "id": "5fdcaef8",
   "metadata": {
    "ExecuteTime": {
     "end_time": "2022-05-15T15:06:26.523520Z",
     "start_time": "2022-05-15T15:06:26.511364Z"
    }
   },
   "outputs": [
    {
     "data": {
      "text/plain": [
       "RandomForestClassifier(max_depth=10, max_features=11, min_samples_leaf=10,\n",
       "                       min_samples_split=50, random_state=1)"
      ]
     },
     "execution_count": 210,
     "metadata": {},
     "output_type": "execute_result"
    }
   ],
   "source": [
    "best_grid_rf = grid_search_rf.best_estimator_\n",
    "best_grid_rf"
   ]
  },
  {
   "cell_type": "code",
   "execution_count": 211,
   "id": "bbe6a1a7",
   "metadata": {
    "ExecuteTime": {
     "end_time": "2022-05-15T15:06:30.595398Z",
     "start_time": "2022-05-15T15:06:26.529946Z"
    }
   },
   "outputs": [
    {
     "name": "stdout",
     "output_type": "stream",
     "text": [
      "0.958893681806648\n",
      "0.9604161380360314\n",
      "0.9624460796752093\n"
     ]
    }
   ],
   "source": [
    "# To understand the differences of different random states affecting Out-of-Bag score\n",
    "random_state=[0,30,64]\n",
    "for i in random_state:\n",
    "    rfcl=RandomForestClassifier(random_state=i,oob_score=True)\n",
    "    rfcl.fit(X_train,Y_train)\n",
    "    print(rfcl.oob_score_)"
   ]
  },
  {
   "cell_type": "code",
   "execution_count": 212,
   "id": "146e438c",
   "metadata": {
    "ExecuteTime": {
     "end_time": "2022-05-15T15:06:34.882870Z",
     "start_time": "2022-05-15T15:06:30.598380Z"
    }
   },
   "outputs": [
    {
     "data": {
      "text/plain": [
       "True"
      ]
     },
     "execution_count": 212,
     "metadata": {},
     "output_type": "execute_result"
    }
   ],
   "source": [
    "rfcl=RandomForestClassifier(n_estimators=500,random_state=1,oob_score=True,n_jobs=-1)\n",
    "rfcl=rfcl.fit(X_train,Y_train)\n",
    "rfcl.oob_score"
   ]
  },
  {
   "cell_type": "code",
   "execution_count": 213,
   "id": "0377358a",
   "metadata": {
    "ExecuteTime": {
     "end_time": "2022-05-15T15:06:38.030549Z",
     "start_time": "2022-05-15T15:06:35.320839Z"
    }
   },
   "outputs": [
    {
     "data": {
      "text/plain": [
       "0.9393132030787448"
      ]
     },
     "execution_count": 213,
     "metadata": {},
     "output_type": "execute_result"
    }
   ],
   "source": [
    "rfcl=rfcl.fit(X_test,Y_test)\n",
    "rfcl.oob_score_"
   ]
  },
  {
   "cell_type": "code",
   "execution_count": 214,
   "id": "afe46a90",
   "metadata": {
    "ExecuteTime": {
     "end_time": "2022-05-15T15:06:38.041768Z",
     "start_time": "2022-05-15T15:06:38.035530Z"
    }
   },
   "outputs": [],
   "source": [
    "#3. (a) Model Prediction"
   ]
  },
  {
   "cell_type": "code",
   "execution_count": 215,
   "id": "7e4d1b47",
   "metadata": {
    "ExecuteTime": {
     "end_time": "2022-05-15T15:06:38.925251Z",
     "start_time": "2022-05-15T15:06:38.047763Z"
    }
   },
   "outputs": [
    {
     "data": {
      "text/html": [
       "<div>\n",
       "<style scoped>\n",
       "    .dataframe tbody tr th:only-of-type {\n",
       "        vertical-align: middle;\n",
       "    }\n",
       "\n",
       "    .dataframe tbody tr th {\n",
       "        vertical-align: top;\n",
       "    }\n",
       "\n",
       "    .dataframe thead th {\n",
       "        text-align: right;\n",
       "    }\n",
       "</style>\n",
       "<table border=\"1\" class=\"dataframe\">\n",
       "  <thead>\n",
       "    <tr style=\"text-align: right;\">\n",
       "      <th></th>\n",
       "      <th>0</th>\n",
       "      <th>1</th>\n",
       "    </tr>\n",
       "  </thead>\n",
       "  <tbody>\n",
       "    <tr>\n",
       "      <th>0</th>\n",
       "      <td>0.967217</td>\n",
       "      <td>0.032783</td>\n",
       "    </tr>\n",
       "    <tr>\n",
       "      <th>1</th>\n",
       "      <td>0.993972</td>\n",
       "      <td>0.006028</td>\n",
       "    </tr>\n",
       "    <tr>\n",
       "      <th>2</th>\n",
       "      <td>0.941780</td>\n",
       "      <td>0.058220</td>\n",
       "    </tr>\n",
       "    <tr>\n",
       "      <th>3</th>\n",
       "      <td>0.971443</td>\n",
       "      <td>0.028557</td>\n",
       "    </tr>\n",
       "    <tr>\n",
       "      <th>4</th>\n",
       "      <td>0.903937</td>\n",
       "      <td>0.096063</td>\n",
       "    </tr>\n",
       "  </tbody>\n",
       "</table>\n",
       "</div>"
      ],
      "text/plain": [
       "          0         1\n",
       "0  0.967217  0.032783\n",
       "1  0.993972  0.006028\n",
       "2  0.941780  0.058220\n",
       "3  0.971443  0.028557\n",
       "4  0.903937  0.096063"
      ]
     },
     "execution_count": 215,
     "metadata": {},
     "output_type": "execute_result"
    }
   ],
   "source": [
    "ytrain_predict = best_grid_rf.predict(X_train)\n",
    "ytest_predict = best_grid_rf.predict(X_test)\n",
    "ytrain_predict_prob=best_grid_rf.predict_proba(X_train)\n",
    "pd.DataFrame(ytrain_predict_prob).head()"
   ]
  },
  {
   "cell_type": "code",
   "execution_count": 216,
   "id": "58348b06",
   "metadata": {
    "ExecuteTime": {
     "end_time": "2022-05-15T15:06:39.095824Z",
     "start_time": "2022-05-15T15:06:38.930465Z"
    }
   },
   "outputs": [
    {
     "data": {
      "text/html": [
       "<div>\n",
       "<style scoped>\n",
       "    .dataframe tbody tr th:only-of-type {\n",
       "        vertical-align: middle;\n",
       "    }\n",
       "\n",
       "    .dataframe tbody tr th {\n",
       "        vertical-align: top;\n",
       "    }\n",
       "\n",
       "    .dataframe thead th {\n",
       "        text-align: right;\n",
       "    }\n",
       "</style>\n",
       "<table border=\"1\" class=\"dataframe\">\n",
       "  <thead>\n",
       "    <tr style=\"text-align: right;\">\n",
       "      <th></th>\n",
       "      <th>0</th>\n",
       "      <th>1</th>\n",
       "    </tr>\n",
       "  </thead>\n",
       "  <tbody>\n",
       "    <tr>\n",
       "      <th>0</th>\n",
       "      <td>0.996238</td>\n",
       "      <td>0.003762</td>\n",
       "    </tr>\n",
       "    <tr>\n",
       "      <th>1</th>\n",
       "      <td>0.985541</td>\n",
       "      <td>0.014459</td>\n",
       "    </tr>\n",
       "    <tr>\n",
       "      <th>2</th>\n",
       "      <td>0.857600</td>\n",
       "      <td>0.142400</td>\n",
       "    </tr>\n",
       "    <tr>\n",
       "      <th>3</th>\n",
       "      <td>0.967239</td>\n",
       "      <td>0.032761</td>\n",
       "    </tr>\n",
       "    <tr>\n",
       "      <th>4</th>\n",
       "      <td>0.863157</td>\n",
       "      <td>0.136843</td>\n",
       "    </tr>\n",
       "  </tbody>\n",
       "</table>\n",
       "</div>"
      ],
      "text/plain": [
       "          0         1\n",
       "0  0.996238  0.003762\n",
       "1  0.985541  0.014459\n",
       "2  0.857600  0.142400\n",
       "3  0.967239  0.032761\n",
       "4  0.863157  0.136843"
      ]
     },
     "execution_count": 216,
     "metadata": {},
     "output_type": "execute_result"
    }
   ],
   "source": [
    "ytest_predict_prob=best_grid_rf.predict_proba(X_test)\n",
    "pd.DataFrame(ytest_predict_prob).head()"
   ]
  },
  {
   "cell_type": "code",
   "execution_count": 217,
   "id": "dfb7dd3d",
   "metadata": {
    "ExecuteTime": {
     "end_time": "2022-05-15T15:06:39.107602Z",
     "start_time": "2022-05-15T15:06:39.101819Z"
    }
   },
   "outputs": [],
   "source": [
    "#3. (b) Model Performance"
   ]
  },
  {
   "cell_type": "code",
   "execution_count": 218,
   "id": "865abb97",
   "metadata": {
    "ExecuteTime": {
     "end_time": "2022-05-15T15:06:39.788659Z",
     "start_time": "2022-05-15T15:06:39.773488Z"
    }
   },
   "outputs": [
    {
     "data": {
      "text/plain": [
       "array([[6362,  193],\n",
       "       [ 417,  910]], dtype=int64)"
      ]
     },
     "execution_count": 218,
     "metadata": {},
     "output_type": "execute_result"
    }
   ],
   "source": [
    "confusion_matrix(Y_train,ytrain_predict)"
   ]
  },
  {
   "cell_type": "code",
   "execution_count": 219,
   "id": "572a85fc",
   "metadata": {
    "ExecuteTime": {
     "end_time": "2022-05-15T15:06:39.889081Z",
     "start_time": "2022-05-15T15:06:39.793814Z"
    }
   },
   "outputs": [
    {
     "data": {
      "text/plain": [
       "array([[2715,   94],\n",
       "       [ 213,  356]], dtype=int64)"
      ]
     },
     "execution_count": 219,
     "metadata": {},
     "output_type": "execute_result"
    }
   ],
   "source": [
    "confusion_matrix(Y_test, ytest_predict)"
   ]
  },
  {
   "cell_type": "code",
   "execution_count": 220,
   "id": "6eb7141c",
   "metadata": {
    "ExecuteTime": {
     "end_time": "2022-05-15T15:06:39.998766Z",
     "start_time": "2022-05-15T15:06:39.893078Z"
    }
   },
   "outputs": [
    {
     "data": {
      "text/plain": [
       "0.9217203755392033"
      ]
     },
     "execution_count": 220,
     "metadata": {},
     "output_type": "execute_result"
    }
   ],
   "source": [
    "rf_train_acc=best_grid.score(X_train,Y_train) \n",
    "rf_train_acc"
   ]
  },
  {
   "cell_type": "code",
   "execution_count": 221,
   "id": "3f716f71",
   "metadata": {
    "ExecuteTime": {
     "end_time": "2022-05-15T15:06:40.122424Z",
     "start_time": "2022-05-15T15:06:40.004762Z"
    }
   },
   "outputs": [
    {
     "data": {
      "text/plain": [
       "0.8978685612788633"
      ]
     },
     "execution_count": 221,
     "metadata": {},
     "output_type": "execute_result"
    }
   ],
   "source": [
    "rf_test_acc=best_grid.score(X_test,Y_test)\n",
    "rf_test_acc"
   ]
  },
  {
   "cell_type": "code",
   "execution_count": 222,
   "id": "f34857a0",
   "metadata": {
    "ExecuteTime": {
     "end_time": "2022-05-15T15:06:40.793702Z",
     "start_time": "2022-05-15T15:06:40.753201Z"
    }
   },
   "outputs": [
    {
     "name": "stdout",
     "output_type": "stream",
     "text": [
      "              precision    recall  f1-score   support\n",
      "\n",
      "           0       0.94      0.97      0.95      6555\n",
      "           1       0.83      0.69      0.75      1327\n",
      "\n",
      "    accuracy                           0.92      7882\n",
      "   macro avg       0.88      0.83      0.85      7882\n",
      "weighted avg       0.92      0.92      0.92      7882\n",
      "\n"
     ]
    }
   ],
   "source": [
    "print(classification_report(Y_train,ytrain_predict))"
   ]
  },
  {
   "cell_type": "code",
   "execution_count": 223,
   "id": "3ca8e981",
   "metadata": {
    "ExecuteTime": {
     "end_time": "2022-05-15T15:06:40.931011Z",
     "start_time": "2022-05-15T15:06:40.798841Z"
    }
   },
   "outputs": [
    {
     "name": "stdout",
     "output_type": "stream",
     "text": [
      "              precision    recall  f1-score   support\n",
      "\n",
      "           0       0.93      0.97      0.95      2809\n",
      "           1       0.79      0.63      0.70       569\n",
      "\n",
      "    accuracy                           0.91      3378\n",
      "   macro avg       0.86      0.80      0.82      3378\n",
      "weighted avg       0.90      0.91      0.90      3378\n",
      "\n"
     ]
    }
   ],
   "source": [
    "print(classification_report(Y_test, ytest_predict))"
   ]
  },
  {
   "cell_type": "code",
   "execution_count": 224,
   "id": "e54970e0",
   "metadata": {
    "ExecuteTime": {
     "end_time": "2022-05-15T15:06:40.988109Z",
     "start_time": "2022-05-15T15:06:40.936175Z"
    }
   },
   "outputs": [],
   "source": [
    "#3. (c) ROC-AUC Graph"
   ]
  },
  {
   "cell_type": "code",
   "execution_count": 225,
   "id": "900fb381",
   "metadata": {
    "ExecuteTime": {
     "end_time": "2022-05-15T15:09:08.382349Z",
     "start_time": "2022-05-15T15:09:07.472546Z"
    }
   },
   "outputs": [
    {
     "name": "stdout",
     "output_type": "stream",
     "text": [
      "Area under Curve is 0.9579587709813835\n"
     ]
    },
    {
     "data": {
      "image/png": "[encoded data removed]",
      "text/plain": [
       "<Figure size 432x288 with 1 Axes>"
      ]
     },
     "metadata": {
      "needs_background": "light"
     },
     "output_type": "display_data"
    }
   ],
   "source": [
    "rf_train_fpr, rf_train_tpr,_=roc_curve(Y_train,best_grid.predict_proba(X_train)[:,1])\n",
    "plt.plot(rf_train_fpr,rf_train_tpr,color='green')\n",
    "plt.plot([0, 1], [0, 1], linestyle='--')\n",
    "plt.xlabel('False Positive Rate')\n",
    "plt.ylabel('True Positive Rate')\n",
    "plt.title('ROC')\n",
    "rf_train_auc=roc_auc_score(Y_train,best_grid.predict_proba(X_train)[:,1])\n",
    "print('Area under Curve is', rf_train_auc)"
   ]
  },
  {
   "cell_type": "code",
   "execution_count": 226,
   "id": "cee7e163",
   "metadata": {
    "ExecuteTime": {
     "end_time": "2022-05-15T15:09:09.470206Z",
     "start_time": "2022-05-15T15:09:09.182127Z"
    },
    "scrolled": true
   },
   "outputs": [
    {
     "name": "stdout",
     "output_type": "stream",
     "text": [
      "Area under Curve is 0.937005144773797\n"
     ]
    },
    {
     "data": {
      "image/png": "[encoded data removed]",
      "text/plain": [
       "<Figure size 432x288 with 1 Axes>"
      ]
     },
     "metadata": {
      "needs_background": "light"
     },
     "output_type": "display_data"
    }
   ],
   "source": [
    "rf_test_fpr, rf_test_tpr,_=roc_curve(Y_test,best_grid.predict_proba(X_test)[:,1])\n",
    "plt.plot(rf_test_fpr,rf_test_tpr,color='green')\n",
    "plt.plot([0, 1], [0, 1], linestyle='--')\n",
    "plt.xlabel('False Positive Rate')\n",
    "plt.ylabel('True Positive Rate')\n",
    "plt.title('ROC')\n",
    "rf_test_auc=roc_auc_score(Y_test,best_grid.predict_proba(X_test)[:,1])\n",
    "print('Area under Curve is', rf_test_auc)"
   ]
  },
  {
   "cell_type": "code",
   "execution_count": 227,
   "id": "cb74f0c1",
   "metadata": {
    "ExecuteTime": {
     "end_time": "2022-05-15T15:09:09.931613Z",
     "start_time": "2022-05-15T15:09:09.926991Z"
    }
   },
   "outputs": [],
   "source": [
    "#3. (d) Model Performance Metrices"
   ]
  },
  {
   "cell_type": "code",
   "execution_count": 228,
   "id": "99e7b000",
   "metadata": {
    "ExecuteTime": {
     "end_time": "2022-05-15T15:09:11.152824Z",
     "start_time": "2022-05-15T15:09:11.075458Z"
    }
   },
   "outputs": [
    {
     "name": "stdout",
     "output_type": "stream",
     "text": [
      "rf_train_precision  0.83\n",
      "rf_train_recall  0.69\n",
      "rf_train_f1  0.75\n"
     ]
    }
   ],
   "source": [
    "rf_metrics=classification_report(Y_train, ytrain_predict,output_dict=True)\n",
    "df=pd.DataFrame(rf_metrics).transpose()\n",
    "rf_train_precision=round(df.loc[\"1\"][0],2)\n",
    "rf_train_recall=round(df.loc[\"1\"][1],2)\n",
    "rf_train_f1=round(df.loc[\"1\"][2],2)\n",
    "print ('rf_train_precision ',rf_train_precision)\n",
    "print ('rf_train_recall ',rf_train_recall)\n",
    "print ('rf_train_f1 ',rf_train_f1)"
   ]
  },
  {
   "cell_type": "code",
   "execution_count": 229,
   "id": "0762334a",
   "metadata": {
    "ExecuteTime": {
     "end_time": "2022-05-15T15:09:11.466014Z",
     "start_time": "2022-05-15T15:09:11.431429Z"
    }
   },
   "outputs": [
    {
     "name": "stdout",
     "output_type": "stream",
     "text": [
      "rf_test_precision  0.79\n",
      "rf_test_recall  0.63\n",
      "rf_test_f1  0.7\n"
     ]
    }
   ],
   "source": [
    "rf_metrics=classification_report(Y_test, ytest_predict,output_dict=True)\n",
    "df=pd.DataFrame(rf_metrics).transpose()\n",
    "rf_test_precision=round(df.loc[\"1\"][0],2)\n",
    "rf_test_recall=round(df.loc[\"1\"][1],2)\n",
    "rf_test_f1=round(df.loc[\"1\"][2],2)\n",
    "print ('rf_test_precision ',rf_test_precision)\n",
    "print ('rf_test_recall ',rf_test_recall)\n",
    "print ('rf_test_f1 ',rf_test_f1)"
   ]
  },
  {
   "cell_type": "code",
   "execution_count": 230,
   "id": "36763640",
   "metadata": {
    "ExecuteTime": {
     "end_time": "2022-05-15T15:09:11.942246Z",
     "start_time": "2022-05-15T15:09:11.935897Z"
    }
   },
   "outputs": [],
   "source": [
    "#3.(e) Feature Importance"
   ]
  },
  {
   "cell_type": "code",
   "execution_count": 231,
   "id": "d7dfa72f",
   "metadata": {
    "ExecuteTime": {
     "end_time": "2022-05-15T15:09:12.736119Z",
     "start_time": "2022-05-15T15:09:12.400834Z"
    }
   },
   "outputs": [
    {
     "ename": "AttributeError",
     "evalue": "'numpy.ndarray' object has no attribute 'columns'",
     "output_type": "error",
     "traceback": [
      "\u001b[1;31m---------------------------------------------------------------------------\u001b[0m",
      "\u001b[1;31mAttributeError\u001b[0m                            Traceback (most recent call last)",
      "\u001b[1;32m~\\AppData\\Local\\Temp/ipykernel_13900/363610195.py\u001b[0m in \u001b[0;36m<module>\u001b[1;34m\u001b[0m\n\u001b[0;32m      1\u001b[0m rf_imp = pd.DataFrame(best_grid_rf.feature_importances_, columns = [\"Imp\"], \n\u001b[1;32m----> 2\u001b[1;33m                       index = X_train.columns).sort_values('Imp',ascending=False)\n\u001b[0m\u001b[0;32m      3\u001b[0m \u001b[0mprint\u001b[0m\u001b[1;33m(\u001b[0m\u001b[0mrf_imp\u001b[0m\u001b[1;33m)\u001b[0m\u001b[1;33m\u001b[0m\u001b[1;33m\u001b[0m\u001b[0m\n",
      "\u001b[1;31mAttributeError\u001b[0m: 'numpy.ndarray' object has no attribute 'columns'"
     ]
    }
   ],
   "source": [
    "rf_imp = pd.DataFrame(best_grid_rf.feature_importances_, columns = [\"Imp\"], \n",
    "                      index = X_train.columns).sort_values('Imp',ascending=False)\n",
    "print(rf_imp)"
   ]
  },
  {
   "cell_type": "code",
   "execution_count": 232,
   "id": "88b122b9",
   "metadata": {
    "ExecuteTime": {
     "end_time": "2022-05-15T15:19:43.381386Z",
     "start_time": "2022-05-15T15:19:43.375232Z"
    }
   },
   "outputs": [],
   "source": [
    "#4. Linear Discriminant Analysis"
   ]
  },
  {
   "cell_type": "code",
   "execution_count": 233,
   "id": "4ee10dec",
   "metadata": {
    "ExecuteTime": {
     "end_time": "2022-05-15T15:19:45.404602Z",
     "start_time": "2022-05-15T15:19:44.629787Z"
    }
   },
   "outputs": [
    {
     "data": {
      "text/plain": [
       "LinearDiscriminantAnalysis(shrinkage='auto', solver='eigen')"
      ]
     },
     "execution_count": 233,
     "metadata": {},
     "output_type": "execute_result"
    }
   ],
   "source": [
    "clf = LinearDiscriminantAnalysis(solver='eigen',shrinkage = 'auto',)\n",
    "model=clf.fit(X_train,Y_train)\n",
    "model"
   ]
  },
  {
   "cell_type": "code",
   "execution_count": 234,
   "id": "2e908cb8",
   "metadata": {
    "ExecuteTime": {
     "end_time": "2022-05-15T15:19:45.711184Z",
     "start_time": "2022-05-15T15:19:45.705185Z"
    }
   },
   "outputs": [],
   "source": [
    "#4. (a) Model Prediction"
   ]
  },
  {
   "cell_type": "code",
   "execution_count": 235,
   "id": "b179f37f",
   "metadata": {
    "ExecuteTime": {
     "end_time": "2022-05-15T15:19:46.321032Z",
     "start_time": "2022-05-15T15:19:46.309888Z"
    }
   },
   "outputs": [
    {
     "data": {
      "text/plain": [
       "array([0, 0, 0, ..., 0, 0, 0], dtype=int64)"
      ]
     },
     "execution_count": 235,
     "metadata": {},
     "output_type": "execute_result"
    }
   ],
   "source": [
    "# Training Data Class Prediction with a cut-off value of 0.5\n",
    "pred_class_train = model.predict(X_train)\n",
    "\n",
    "# Test Data Class Prediction with a cut-off value of 0.5\n",
    "pred_class_test = model.predict(X_test)\n",
    "pred_class_test"
   ]
  },
  {
   "cell_type": "code",
   "execution_count": 236,
   "id": "ca0e9500",
   "metadata": {
    "ExecuteTime": {
     "end_time": "2022-05-15T15:19:46.929393Z",
     "start_time": "2022-05-15T15:19:46.857498Z"
    }
   },
   "outputs": [],
   "source": [
    "# Training Data Probability Prediction\n",
    "pred_prob_train = model.predict_proba(X_train)\n",
    "\n",
    "# Test Data Probability Prediction\n",
    "pred_prob_test = model.predict_proba(X_test)"
   ]
  },
  {
   "cell_type": "code",
   "execution_count": 237,
   "id": "55209cb1",
   "metadata": {
    "ExecuteTime": {
     "end_time": "2022-05-15T15:19:47.272568Z",
     "start_time": "2022-05-15T15:19:47.268572Z"
    }
   },
   "outputs": [],
   "source": [
    "#4. (b) Model Performance"
   ]
  },
  {
   "cell_type": "code",
   "execution_count": 238,
   "id": "a6a281c7",
   "metadata": {
    "ExecuteTime": {
     "end_time": "2022-05-15T15:19:47.719829Z",
     "start_time": "2022-05-15T15:19:47.707674Z"
    }
   },
   "outputs": [
    {
     "data": {
      "text/plain": [
       "array([[6430,  125],\n",
       "       [ 969,  358]], dtype=int64)"
      ]
     },
     "execution_count": 238,
     "metadata": {},
     "output_type": "execute_result"
    }
   ],
   "source": [
    "confusion_matrix(Y_train, pred_class_train)"
   ]
  },
  {
   "cell_type": "code",
   "execution_count": 239,
   "id": "4c5c1790",
   "metadata": {
    "ExecuteTime": {
     "end_time": "2022-05-15T15:19:49.373486Z",
     "start_time": "2022-05-15T15:19:49.361318Z"
    }
   },
   "outputs": [
    {
     "data": {
      "text/plain": [
       "array([[2754,   55],\n",
       "       [ 400,  169]], dtype=int64)"
      ]
     },
     "execution_count": 239,
     "metadata": {},
     "output_type": "execute_result"
    }
   ],
   "source": [
    "confusion_matrix(Y_test, pred_class_test)"
   ]
  },
  {
   "cell_type": "code",
   "execution_count": 240,
   "id": "d821f99e",
   "metadata": {
    "ExecuteTime": {
     "end_time": "2022-05-15T15:19:49.487842Z",
     "start_time": "2022-05-15T15:19:49.378484Z"
    }
   },
   "outputs": [
    {
     "data": {
      "text/plain": [
       "0.8612027404212129"
      ]
     },
     "execution_count": 240,
     "metadata": {},
     "output_type": "execute_result"
    }
   ],
   "source": [
    "lda_train_acc = model.score(X_train,Y_train)\n",
    "lda_train_acc"
   ]
  },
  {
   "cell_type": "code",
   "execution_count": 241,
   "id": "027c6688",
   "metadata": {
    "ExecuteTime": {
     "end_time": "2022-05-15T15:19:49.861677Z",
     "start_time": "2022-05-15T15:19:49.831224Z"
    }
   },
   "outputs": [
    {
     "data": {
      "text/plain": [
       "0.8653049141503848"
      ]
     },
     "execution_count": 241,
     "metadata": {},
     "output_type": "execute_result"
    }
   ],
   "source": [
    "lda_test_acc = model.score(X_test,Y_test)\n",
    "lda_test_acc"
   ]
  },
  {
   "cell_type": "code",
   "execution_count": 242,
   "id": "284e51ea",
   "metadata": {
    "ExecuteTime": {
     "end_time": "2022-05-15T15:19:50.297600Z",
     "start_time": "2022-05-15T15:19:50.266729Z"
    }
   },
   "outputs": [
    {
     "name": "stdout",
     "output_type": "stream",
     "text": [
      "              precision    recall  f1-score   support\n",
      "\n",
      "           0       0.87      0.98      0.92      6555\n",
      "           1       0.74      0.27      0.40      1327\n",
      "\n",
      "    accuracy                           0.86      7882\n",
      "   macro avg       0.81      0.63      0.66      7882\n",
      "weighted avg       0.85      0.86      0.83      7882\n",
      "\n"
     ]
    }
   ],
   "source": [
    "print(classification_report(Y_train, pred_class_train))"
   ]
  },
  {
   "cell_type": "code",
   "execution_count": 243,
   "id": "4936d37d",
   "metadata": {
    "ExecuteTime": {
     "end_time": "2022-05-15T15:19:50.848800Z",
     "start_time": "2022-05-15T15:19:50.826662Z"
    }
   },
   "outputs": [
    {
     "name": "stdout",
     "output_type": "stream",
     "text": [
      "              precision    recall  f1-score   support\n",
      "\n",
      "           0       0.87      0.98      0.92      2809\n",
      "           1       0.75      0.30      0.43       569\n",
      "\n",
      "    accuracy                           0.87      3378\n",
      "   macro avg       0.81      0.64      0.67      3378\n",
      "weighted avg       0.85      0.87      0.84      3378\n",
      "\n"
     ]
    }
   ],
   "source": [
    "print(classification_report(Y_test, pred_class_test))"
   ]
  },
  {
   "cell_type": "code",
   "execution_count": 244,
   "id": "f8780aca",
   "metadata": {
    "ExecuteTime": {
     "end_time": "2022-05-15T15:19:51.884439Z",
     "start_time": "2022-05-15T15:19:51.877961Z"
    }
   },
   "outputs": [],
   "source": [
    "#4. (c) ROC-AUC Graph"
   ]
  },
  {
   "cell_type": "code",
   "execution_count": 245,
   "id": "b341095c",
   "metadata": {
    "ExecuteTime": {
     "end_time": "2022-05-15T15:19:52.462621Z",
     "start_time": "2022-05-15T15:19:52.118649Z"
    }
   },
   "outputs": [
    {
     "name": "stdout",
     "output_type": "stream",
     "text": [
      "AUC: 0.958\n"
     ]
    },
    {
     "data": {
      "image/png": "[encoded data removed]",
      "text/plain": [
       "<Figure size 432x288 with 1 Axes>"
      ]
     },
     "metadata": {
      "needs_background": "light"
     },
     "output_type": "display_data"
    }
   ],
   "source": [
    "# AUC and ROC for the training data\n",
    "\n",
    "# predict probabilities\n",
    "probs = model.predict_proba(X_train)\n",
    "\n",
    "# keep probabilities for the positive outcome only\n",
    "probs = probs[:, 1]\n",
    "\n",
    "# calculate AUC\n",
    "from sklearn.metrics import roc_auc_score\n",
    "lda_train_auc = roc_auc_score(Y_train, probs)\n",
    "print('AUC: %.3f' % cart_train_auc)\n",
    "\n",
    "# calculate roc curve\n",
    "from sklearn.metrics import roc_curve\n",
    "lda_train_fpr, lda_train_tpr, lda_train_thresholds = roc_curve(Y_train, probs)\n",
    "plt.plot([0, 1], [0, 1], linestyle='--')\n",
    "\n",
    "# plot the roc curve for the model\n",
    "plt.plot(lda_train_fpr, lda_train_tpr, marker='.')\n",
    "\n",
    "# show the plot\n",
    "plt.show()"
   ]
  },
  {
   "cell_type": "code",
   "execution_count": 246,
   "id": "1fed26ed",
   "metadata": {
    "ExecuteTime": {
     "end_time": "2022-05-15T15:19:53.252002Z",
     "start_time": "2022-05-15T15:19:52.926445Z"
    }
   },
   "outputs": [
    {
     "name": "stdout",
     "output_type": "stream",
     "text": [
      "AUC: 0.937\n"
     ]
    },
    {
     "data": {
      "image/png": "[encoded data removed]",
      "text/plain": [
       "<Figure size 432x288 with 1 Axes>"
      ]
     },
     "metadata": {
      "needs_background": "light"
     },
     "output_type": "display_data"
    }
   ],
   "source": [
    "# AUC and ROC for the test data\n",
    "\n",
    "# predict probabilities\n",
    "probs = model.predict_proba(X_test)\n",
    "\n",
    "# keep probabilities for the positive outcome only\n",
    "probs = probs[:, 1]\n",
    "\n",
    "# calculate AUC\n",
    "from sklearn.metrics import roc_auc_score\n",
    "lda_test_auc = roc_auc_score(Y_test, probs)\n",
    "print('AUC: %.3f' % cart_test_auc)\n",
    "\n",
    "# calculate roc curve\n",
    "from sklearn.metrics import roc_curve\n",
    "lda_test_fpr, lda_test_tpr, lda_test_thresholds = roc_curve(Y_test, probs)\n",
    "plt.plot([0, 1], [0, 1], linestyle='--')\n",
    "\n",
    "# plot the roc curve for the model\n",
    "plt.plot(lda_test_fpr, lda_test_tpr, marker='.')\n",
    "\n",
    "# show the plot\n",
    "plt.show()"
   ]
  },
  {
   "cell_type": "code",
   "execution_count": 247,
   "id": "0c65f9a8",
   "metadata": {
    "ExecuteTime": {
     "end_time": "2022-05-15T15:19:53.592952Z",
     "start_time": "2022-05-15T15:19:53.586957Z"
    }
   },
   "outputs": [],
   "source": [
    "#4. (d) Model Performance Metrices"
   ]
  },
  {
   "cell_type": "code",
   "execution_count": 248,
   "id": "b2460a67",
   "metadata": {
    "ExecuteTime": {
     "end_time": "2022-05-15T15:19:54.102707Z",
     "start_time": "2022-05-15T15:19:54.066568Z"
    },
    "scrolled": true
   },
   "outputs": [
    {
     "name": "stdout",
     "output_type": "stream",
     "text": [
      "lda_train_precision  0.74\n",
      "lda_train_recall  0.27\n",
      "lda_train_f1  0.4\n"
     ]
    }
   ],
   "source": [
    "lda_metrics=classification_report(Y_train, pred_class_train,output_dict=True)\n",
    "df=pd.DataFrame(lda_metrics).transpose()\n",
    "lda_train_f1=round(df.loc[\"1\"][2],2)\n",
    "lda_train_recall=round(df.loc[\"1\"][1],2)\n",
    "lda_train_precision=round(df.loc[\"1\"][0],2)\n",
    "print ('lda_train_precision ',lda_train_precision)\n",
    "print ('lda_train_recall ',lda_train_recall)\n",
    "print ('lda_train_f1 ',lda_train_f1)"
   ]
  },
  {
   "cell_type": "code",
   "execution_count": 249,
   "id": "10f97fcd",
   "metadata": {
    "ExecuteTime": {
     "end_time": "2022-05-15T15:19:54.624557Z",
     "start_time": "2022-05-15T15:19:54.596116Z"
    }
   },
   "outputs": [
    {
     "name": "stdout",
     "output_type": "stream",
     "text": [
      "lda_test_precision  0.87\n",
      "lda_test_recall  0.98\n",
      "lda_test_f1  0.92\n"
     ]
    }
   ],
   "source": [
    "lda_metrics=classification_report(Y_test, pred_class_test,output_dict=True)\n",
    "df=pd.DataFrame(lda_metrics).transpose()\n",
    "lda_test_f1=round(df.loc[\"0\"][2],2)\n",
    "lda_test_recall=round(df.loc[\"0\"][1],2)\n",
    "lda_test_precision=round(df.loc[\"0\"][0],2)\n",
    "print ('lda_test_precision ',lda_test_precision)\n",
    "print ('lda_test_recall ',lda_test_recall)\n",
    "print ('lda_test_f1 ',lda_test_f1)"
   ]
  },
  {
   "cell_type": "code",
   "execution_count": 250,
   "id": "e7edb891",
   "metadata": {
    "ExecuteTime": {
     "end_time": "2022-05-15T15:19:55.194521Z",
     "start_time": "2022-05-15T15:19:55.190367Z"
    }
   },
   "outputs": [],
   "source": [
    "#5. K Nearest Neighbours"
   ]
  },
  {
   "cell_type": "code",
   "execution_count": 251,
   "id": "b4fe17e9",
   "metadata": {
    "ExecuteTime": {
     "end_time": "2022-05-15T15:19:56.412871Z",
     "start_time": "2022-05-15T15:19:56.030362Z"
    }
   },
   "outputs": [
    {
     "data": {
      "text/plain": [
       "KNeighborsClassifier(n_neighbors=15)"
      ]
     },
     "execution_count": 251,
     "metadata": {},
     "output_type": "execute_result"
    }
   ],
   "source": [
    "KNN_model=KNeighborsClassifier(n_neighbors = 15,\n",
    "                              weights = 'uniform',\n",
    "                              metric = 'minkowski')\n",
    "KNN_model.fit(X_train,Y_train)"
   ]
  },
  {
   "cell_type": "code",
   "execution_count": 252,
   "id": "92169c35",
   "metadata": {
    "ExecuteTime": {
     "end_time": "2022-05-15T15:19:56.793467Z",
     "start_time": "2022-05-15T15:19:56.789469Z"
    }
   },
   "outputs": [],
   "source": [
    "#5. (a) Model Prediction"
   ]
  },
  {
   "cell_type": "code",
   "execution_count": 253,
   "id": "7f1e74f1",
   "metadata": {
    "ExecuteTime": {
     "end_time": "2022-05-15T15:20:04.450239Z",
     "start_time": "2022-05-15T15:19:57.137001Z"
    }
   },
   "outputs": [
    {
     "data": {
      "text/plain": [
       "0.9168992641461557"
      ]
     },
     "execution_count": 253,
     "metadata": {},
     "output_type": "execute_result"
    }
   ],
   "source": [
    "KNN_train_predict = KNN_model.predict(X_train)\n",
    "KNN_train_acc = KNN_model.score(X_train, Y_train)\n",
    "KNN_train_acc"
   ]
  },
  {
   "cell_type": "code",
   "execution_count": 254,
   "id": "66632617",
   "metadata": {
    "ExecuteTime": {
     "end_time": "2022-05-15T15:20:07.394819Z",
     "start_time": "2022-05-15T15:20:04.456234Z"
    }
   },
   "outputs": [
    {
     "data": {
      "text/plain": [
       "0.8972764949674363"
      ]
     },
     "execution_count": 254,
     "metadata": {},
     "output_type": "execute_result"
    }
   ],
   "source": [
    "KNN_test_predict = KNN_model.predict(X_test)\n",
    "KNN_test_acc = KNN_model.score(X_test, Y_test)\n",
    "KNN_test_acc"
   ]
  },
  {
   "cell_type": "code",
   "execution_count": 255,
   "id": "79738173",
   "metadata": {
    "ExecuteTime": {
     "end_time": "2022-05-15T15:20:07.404379Z",
     "start_time": "2022-05-15T15:20:07.398815Z"
    }
   },
   "outputs": [],
   "source": [
    "#5. (b) Model Performance"
   ]
  },
  {
   "cell_type": "code",
   "execution_count": 256,
   "id": "badd1add",
   "metadata": {
    "ExecuteTime": {
     "end_time": "2022-05-15T15:20:07.555409Z",
     "start_time": "2022-05-15T15:20:07.410373Z"
    }
   },
   "outputs": [
    {
     "data": {
      "text/plain": [
       "array([[6434,  121],\n",
       "       [ 534,  793]], dtype=int64)"
      ]
     },
     "execution_count": 256,
     "metadata": {},
     "output_type": "execute_result"
    }
   ],
   "source": [
    "confusion_matrix(Y_train, KNN_train_predict)"
   ]
  },
  {
   "cell_type": "code",
   "execution_count": 257,
   "id": "4adafe88",
   "metadata": {
    "ExecuteTime": {
     "end_time": "2022-05-15T15:20:07.622052Z",
     "start_time": "2022-05-15T15:20:07.560408Z"
    }
   },
   "outputs": [
    {
     "data": {
      "text/plain": [
       "array([[2734,   75],\n",
       "       [ 272,  297]], dtype=int64)"
      ]
     },
     "execution_count": 257,
     "metadata": {},
     "output_type": "execute_result"
    }
   ],
   "source": [
    "confusion_matrix(Y_test, KNN_test_predict)"
   ]
  },
  {
   "cell_type": "code",
   "execution_count": 258,
   "id": "c9ef073e",
   "metadata": {
    "ExecuteTime": {
     "end_time": "2022-05-15T15:20:07.739914Z",
     "start_time": "2022-05-15T15:20:07.625201Z"
    }
   },
   "outputs": [
    {
     "name": "stdout",
     "output_type": "stream",
     "text": [
      "              precision    recall  f1-score   support\n",
      "\n",
      "           0       0.92      0.98      0.95      6555\n",
      "           1       0.87      0.60      0.71      1327\n",
      "\n",
      "    accuracy                           0.92      7882\n",
      "   macro avg       0.90      0.79      0.83      7882\n",
      "weighted avg       0.91      0.92      0.91      7882\n",
      "\n"
     ]
    }
   ],
   "source": [
    "print(classification_report(Y_train, KNN_train_predict))"
   ]
  },
  {
   "cell_type": "code",
   "execution_count": 259,
   "id": "2dbd55ba",
   "metadata": {
    "ExecuteTime": {
     "end_time": "2022-05-15T15:20:07.799158Z",
     "start_time": "2022-05-15T15:20:07.746020Z"
    }
   },
   "outputs": [
    {
     "name": "stdout",
     "output_type": "stream",
     "text": [
      "              precision    recall  f1-score   support\n",
      "\n",
      "           0       0.91      0.97      0.94      2809\n",
      "           1       0.80      0.52      0.63       569\n",
      "\n",
      "    accuracy                           0.90      3378\n",
      "   macro avg       0.85      0.75      0.79      3378\n",
      "weighted avg       0.89      0.90      0.89      3378\n",
      "\n"
     ]
    }
   ],
   "source": [
    "print(classification_report(Y_test, KNN_test_predict))"
   ]
  },
  {
   "cell_type": "code",
   "execution_count": 260,
   "id": "e3c11454",
   "metadata": {
    "ExecuteTime": {
     "end_time": "2022-05-15T15:20:07.855824Z",
     "start_time": "2022-05-15T15:20:07.804156Z"
    }
   },
   "outputs": [],
   "source": [
    "#5. (c) ROC-AUC Graph"
   ]
  },
  {
   "cell_type": "code",
   "execution_count": 261,
   "id": "88f957be",
   "metadata": {
    "ExecuteTime": {
     "end_time": "2022-05-15T15:20:13.889469Z",
     "start_time": "2022-05-15T15:20:07.859820Z"
    }
   },
   "outputs": [
    {
     "name": "stdout",
     "output_type": "stream",
     "text": [
      "Area under Curve is 0.9655185356990327\n"
     ]
    },
    {
     "data": {
      "image/png": "[encoded data removed]",
      "text/plain": [
       "<Figure size 432x288 with 1 Axes>"
      ]
     },
     "metadata": {
      "needs_background": "light"
     },
     "output_type": "display_data"
    }
   ],
   "source": [
    "KNN_train_fpr, KNN_train_tpr,_=roc_curve(Y_train,KNN_model.predict_proba(X_train)[:,1])\n",
    "plt.plot(KNN_train_fpr,KNN_train_tpr,color='black')\n",
    "plt.plot([0, 1], [0, 1], linestyle='--')\n",
    "plt.xlabel('False Positive Rate')\n",
    "plt.ylabel('True Positive Rate')\n",
    "plt.title('ROC')\n",
    "KNN_train_auc=roc_auc_score(Y_train,KNN_model.predict_proba(X_train)[:,1])\n",
    "print('Area under Curve is', KNN_train_auc)"
   ]
  },
  {
   "cell_type": "code",
   "execution_count": 262,
   "id": "aad5a78f",
   "metadata": {
    "ExecuteTime": {
     "end_time": "2022-05-15T15:20:21.369924Z",
     "start_time": "2022-05-15T15:20:13.896660Z"
    }
   },
   "outputs": [
    {
     "name": "stdout",
     "output_type": "stream",
     "text": [
      "Area under Curve is 0.9321447318780147\n"
     ]
    },
    {
     "data": {
      "image/png": "[encoded data removed]",
      "text/plain": [
       "<Figure size 432x288 with 1 Axes>"
      ]
     },
     "metadata": {
      "needs_background": "light"
     },
     "output_type": "display_data"
    }
   ],
   "source": [
    "KNN_test_fpr, KNN_test_tpr,_=roc_curve(Y_test,KNN_model.predict_proba(X_test)[:,1])\n",
    "plt.plot(KNN_test_fpr,KNN_test_tpr,color='black')\n",
    "plt.plot([0, 1], [0, 1], linestyle='--')\n",
    "plt.xlabel('False Positive Rate')\n",
    "plt.ylabel('True Positive Rate')\n",
    "plt.title('ROC')\n",
    "KNN_test_auc=roc_auc_score(Y_test,KNN_model.predict_proba(X_test)[:,1])\n",
    "print('Area under Curve is', KNN_test_auc)"
   ]
  },
  {
   "cell_type": "code",
   "execution_count": 263,
   "id": "b668cc86",
   "metadata": {
    "ExecuteTime": {
     "end_time": "2022-05-15T15:20:28.620561Z",
     "start_time": "2022-05-15T15:20:28.608158Z"
    }
   },
   "outputs": [],
   "source": [
    "#5. (d) Model Performance Metrices"
   ]
  },
  {
   "cell_type": "code",
   "execution_count": 264,
   "id": "b178ff2b",
   "metadata": {
    "ExecuteTime": {
     "end_time": "2022-05-15T15:20:28.776832Z",
     "start_time": "2022-05-15T15:20:28.626556Z"
    }
   },
   "outputs": [
    {
     "name": "stdout",
     "output_type": "stream",
     "text": [
      "KNN_train_precision  0.87\n",
      "KNN_train_recall  0.6\n",
      "KNN_train_f1  0.71\n"
     ]
    }
   ],
   "source": [
    "KNN_metrics=classification_report(Y_train, KNN_train_predict,output_dict=True)\n",
    "df=pd.DataFrame(KNN_metrics).transpose()\n",
    "KNN_train_f1=round(df.loc[\"1\"][2],2)\n",
    "KNN_train_recall=round(df.loc[\"1\"][1],2)\n",
    "KNN_train_precision=round(df.loc[\"1\"][0],2)\n",
    "print ('KNN_train_precision ',KNN_train_precision)\n",
    "print ('KNN_train_recall ',KNN_train_recall)\n",
    "print ('KNN_train_f1 ',KNN_train_f1)"
   ]
  },
  {
   "cell_type": "code",
   "execution_count": 265,
   "id": "98148dd0",
   "metadata": {
    "ExecuteTime": {
     "end_time": "2022-05-15T15:20:28.865696Z",
     "start_time": "2022-05-15T15:20:28.785828Z"
    }
   },
   "outputs": [
    {
     "name": "stdout",
     "output_type": "stream",
     "text": [
      "KNN_test_precision  0.8\n",
      "KNN_test_recall  0.52\n",
      "KNN_test_f1  0.63\n"
     ]
    }
   ],
   "source": [
    "KNN_metrics=classification_report(Y_test, KNN_test_predict,output_dict=True)\n",
    "df=pd.DataFrame(KNN_metrics).transpose()\n",
    "KNN_test_f1=round(df.loc[\"1\"][2],2)\n",
    "KNN_test_recall=round(df.loc[\"1\"][1],2)\n",
    "KNN_test_precision=round(df.loc[\"1\"][0],2)\n",
    "print ('KNN_test_precision ',KNN_test_precision)\n",
    "print ('KNN_test_recall ',KNN_test_recall)\n",
    "print ('KNN_test_f1 ',KNN_test_f1)"
   ]
  },
  {
   "cell_type": "code",
   "execution_count": 266,
   "id": "24241691",
   "metadata": {
    "ExecuteTime": {
     "end_time": "2022-05-15T15:20:41.181868Z",
     "start_time": "2022-05-15T15:20:28.868930Z"
    }
   },
   "outputs": [
    {
     "data": {
      "text/plain": [
       "[0.03463587921847244,\n",
       " 0.043516873889875685,\n",
       " 0.052397868561278815,\n",
       " 0.06897572528123153,\n",
       " 0.08318531675547658,\n",
       " 0.09384251036116042,\n",
       " 0.09621077560686797,\n",
       " 0.10272350503256367,\n",
       " 0.10627590290112487,\n",
       " 0.10864416814683242]"
      ]
     },
     "execution_count": 266,
     "metadata": {},
     "output_type": "execute_result"
    }
   ],
   "source": [
    "# empty list that will hold accuracy scores\n",
    "ac_scores = []\n",
    "#\n",
    "# perform accuracy metrics for values from 1,3,5....19\n",
    "for k in range(1,20,2):\n",
    "    knn = KNeighborsClassifier(n_neighbors=k)\n",
    "    knn.fit(X_train, Y_train)\n",
    "    # evaluate test accuracy\n",
    "    scores = knn.score(X_test, Y_test)\n",
    "    ac_scores.append(scores)\n",
    "#\n",
    "# changing to misclassification error\n",
    "MCE = [1 - x for x in ac_scores]\n",
    "MCE"
   ]
  },
  {
   "cell_type": "code",
   "execution_count": 267,
   "id": "00446f70",
   "metadata": {
    "ExecuteTime": {
     "end_time": "2022-05-15T15:20:41.566185Z",
     "start_time": "2022-05-15T15:20:41.185851Z"
    }
   },
   "outputs": [
    {
     "data": {
      "image/png": "[encoded data removed]",
      "text/plain": [
       "<Figure size 432x288 with 1 Axes>"
      ]
     },
     "metadata": {
      "needs_background": "light"
     },
     "output_type": "display_data"
    }
   ],
   "source": [
    "# plot misclassification error vs k\n",
    "plt.plot(range(1,20,2), MCE)\n",
    "plt.xlabel('Number of Neighbors K')\n",
    "plt.ylabel('Misclassification Error')\n",
    "plt.show()"
   ]
  },
  {
   "cell_type": "code",
   "execution_count": 268,
   "id": "93dfd995",
   "metadata": {
    "ExecuteTime": {
     "end_time": "2022-05-15T15:20:42.272990Z",
     "start_time": "2022-05-15T15:20:41.570184Z"
    }
   },
   "outputs": [],
   "source": [
    "#6. Gaussian Naive Bayes"
   ]
  },
  {
   "cell_type": "code",
   "execution_count": 269,
   "id": "c96e3b4b",
   "metadata": {
    "ExecuteTime": {
     "end_time": "2022-05-15T15:20:42.667682Z",
     "start_time": "2022-05-15T15:20:42.280167Z"
    }
   },
   "outputs": [
    {
     "data": {
      "text/plain": [
       "GaussianNB()"
      ]
     },
     "execution_count": 269,
     "metadata": {},
     "output_type": "execute_result"
    }
   ],
   "source": [
    "NB_model = GaussianNB()\n",
    "NB_model.fit(X_train, Y_train)"
   ]
  },
  {
   "cell_type": "code",
   "execution_count": 270,
   "id": "0a6323df",
   "metadata": {
    "ExecuteTime": {
     "end_time": "2022-05-15T15:20:43.043382Z",
     "start_time": "2022-05-15T15:20:42.674250Z"
    }
   },
   "outputs": [],
   "source": [
    "#6. (a) Model Prediction"
   ]
  },
  {
   "cell_type": "code",
   "execution_count": 271,
   "id": "ba968a2f",
   "metadata": {
    "ExecuteTime": {
     "end_time": "2022-05-15T15:20:43.538836Z",
     "start_time": "2022-05-15T15:20:43.485149Z"
    }
   },
   "outputs": [
    {
     "data": {
      "text/plain": [
       "0.8605683836589698"
      ]
     },
     "execution_count": 271,
     "metadata": {},
     "output_type": "execute_result"
    }
   ],
   "source": [
    "NB_train_predict = NB_model.predict(X_train)\n",
    "NB_train_acc = NB_model.score(X_train, Y_train)   \n",
    "NB_train_acc "
   ]
  },
  {
   "cell_type": "code",
   "execution_count": 272,
   "id": "c7f3fbed",
   "metadata": {
    "ExecuteTime": {
     "end_time": "2022-05-15T15:20:44.409233Z",
     "start_time": "2022-05-15T15:20:43.544829Z"
    }
   },
   "outputs": [
    {
     "data": {
      "text/plain": [
       "0.8564239194789817"
      ]
     },
     "execution_count": 272,
     "metadata": {},
     "output_type": "execute_result"
    }
   ],
   "source": [
    "NB_test_predict = NB_model.predict(X_test)\n",
    "NB_test_acc = NB_model.score(X_test, Y_test)\n",
    "NB_test_acc"
   ]
  },
  {
   "cell_type": "code",
   "execution_count": 273,
   "id": "d83c68ab",
   "metadata": {
    "ExecuteTime": {
     "end_time": "2022-05-15T15:20:45.297346Z",
     "start_time": "2022-05-15T15:20:44.422688Z"
    }
   },
   "outputs": [],
   "source": [
    "#6. (b) Model Performance"
   ]
  },
  {
   "cell_type": "code",
   "execution_count": 274,
   "id": "e4985a70",
   "metadata": {
    "ExecuteTime": {
     "end_time": "2022-05-15T15:20:45.787847Z",
     "start_time": "2022-05-15T15:20:45.305605Z"
    }
   },
   "outputs": [
    {
     "data": {
      "text/plain": [
       "array([[6407,  148],\n",
       "       [ 951,  376]], dtype=int64)"
      ]
     },
     "execution_count": 274,
     "metadata": {},
     "output_type": "execute_result"
    }
   ],
   "source": [
    "confusion_matrix(Y_train, NB_train_predict)"
   ]
  },
  {
   "cell_type": "code",
   "execution_count": 275,
   "id": "85a83941",
   "metadata": {
    "ExecuteTime": {
     "end_time": "2022-05-15T15:20:46.137014Z",
     "start_time": "2022-05-15T15:20:45.798226Z"
    }
   },
   "outputs": [
    {
     "data": {
      "text/plain": [
       "array([[2727,   82],\n",
       "       [ 403,  166]], dtype=int64)"
      ]
     },
     "execution_count": 275,
     "metadata": {},
     "output_type": "execute_result"
    }
   ],
   "source": [
    "confusion_matrix(Y_test, NB_test_predict)"
   ]
  },
  {
   "cell_type": "code",
   "execution_count": 276,
   "id": "1b80cc2c",
   "metadata": {
    "ExecuteTime": {
     "end_time": "2022-05-15T15:20:51.659780Z",
     "start_time": "2022-05-15T15:20:51.619388Z"
    }
   },
   "outputs": [
    {
     "name": "stdout",
     "output_type": "stream",
     "text": [
      "              precision    recall  f1-score   support\n",
      "\n",
      "           0       0.87      0.98      0.92      6555\n",
      "           1       0.72      0.28      0.41      1327\n",
      "\n",
      "    accuracy                           0.86      7882\n",
      "   macro avg       0.79      0.63      0.66      7882\n",
      "weighted avg       0.84      0.86      0.83      7882\n",
      "\n"
     ]
    }
   ],
   "source": [
    "print(classification_report(Y_train, NB_train_predict))"
   ]
  },
  {
   "cell_type": "code",
   "execution_count": 277,
   "id": "10a44df2",
   "metadata": {
    "ExecuteTime": {
     "end_time": "2022-05-15T15:20:51.725847Z",
     "start_time": "2022-05-15T15:20:51.663923Z"
    }
   },
   "outputs": [
    {
     "name": "stdout",
     "output_type": "stream",
     "text": [
      "              precision    recall  f1-score   support\n",
      "\n",
      "           0       0.87      0.97      0.92      2809\n",
      "           1       0.67      0.29      0.41       569\n",
      "\n",
      "    accuracy                           0.86      3378\n",
      "   macro avg       0.77      0.63      0.66      3378\n",
      "weighted avg       0.84      0.86      0.83      3378\n",
      "\n"
     ]
    }
   ],
   "source": [
    "print(classification_report(Y_test, NB_test_predict))"
   ]
  },
  {
   "cell_type": "code",
   "execution_count": 278,
   "id": "52d4f4f4",
   "metadata": {
    "ExecuteTime": {
     "end_time": "2022-05-15T15:20:51.785741Z",
     "start_time": "2022-05-15T15:20:51.729846Z"
    }
   },
   "outputs": [],
   "source": [
    "#6. (c) ROC-AUC Graph"
   ]
  },
  {
   "cell_type": "code",
   "execution_count": 279,
   "id": "9963fb5d",
   "metadata": {
    "ExecuteTime": {
     "end_time": "2022-05-15T15:20:52.462069Z",
     "start_time": "2022-05-15T15:20:51.789740Z"
    }
   },
   "outputs": [
    {
     "name": "stdout",
     "output_type": "stream",
     "text": [
      "Area under Curve is 0.8108912069170666\n"
     ]
    },
    {
     "data": {
      "image/png": "[encoded data removed]",
      "text/plain": [
       "<Figure size 432x288 with 1 Axes>"
      ]
     },
     "metadata": {
      "needs_background": "light"
     },
     "output_type": "display_data"
    }
   ],
   "source": [
    "NB_train_fpr, NB_train_tpr,_=roc_curve(Y_train,NB_model.predict_proba(X_train)[:,1])\n",
    "plt.plot(NB_train_fpr,NB_train_tpr,color='black')\n",
    "plt.plot([0, 1], [0, 1], linestyle='--')\n",
    "plt.xlabel('False Positive Rate')\n",
    "plt.ylabel('True Positive Rate')\n",
    "plt.title('ROC')\n",
    "NB_train_auc=roc_auc_score(Y_train,NB_model.predict_proba(X_train)[:,1])\n",
    "print('Area under Curve is', NB_train_auc)"
   ]
  },
  {
   "cell_type": "code",
   "execution_count": 280,
   "id": "cd1ecbae",
   "metadata": {
    "ExecuteTime": {
     "end_time": "2022-05-15T15:20:55.273619Z",
     "start_time": "2022-05-15T15:20:54.618725Z"
    }
   },
   "outputs": [
    {
     "name": "stdout",
     "output_type": "stream",
     "text": [
      "Area under Curve is 0.8079384554166529\n"
     ]
    },
    {
     "data": {
      "image/png": "[encoded data removed]",
      "text/plain": [
       "<Figure size 432x288 with 1 Axes>"
      ]
     },
     "metadata": {
      "needs_background": "light"
     },
     "output_type": "display_data"
    }
   ],
   "source": [
    "NB_test_fpr, NB_test_tpr,_=roc_curve(Y_test,NB_model.predict_proba(X_test)[:,1])\n",
    "plt.plot(NB_test_fpr,NB_test_tpr,color='black')\n",
    "plt.plot([0, 1], [0, 1], linestyle='--')\n",
    "plt.xlabel('False Positive Rate')\n",
    "plt.ylabel('True Positive Rate')\n",
    "plt.title('ROC')\n",
    "NB_test_auc=roc_auc_score(Y_test,NB_model.predict_proba(X_test)[:,1])\n",
    "print('Area under Curve is', NB_test_auc)"
   ]
  },
  {
   "cell_type": "code",
   "execution_count": 281,
   "id": "deb1a57d",
   "metadata": {
    "ExecuteTime": {
     "end_time": "2022-05-15T15:20:55.285773Z",
     "start_time": "2022-05-15T15:20:55.279776Z"
    }
   },
   "outputs": [],
   "source": [
    "#6. (d) Model Performance Metrices"
   ]
  },
  {
   "cell_type": "code",
   "execution_count": 282,
   "id": "4d3b7dd1",
   "metadata": {
    "ExecuteTime": {
     "end_time": "2022-05-15T15:20:55.428122Z",
     "start_time": "2022-05-15T15:20:55.289931Z"
    }
   },
   "outputs": [
    {
     "name": "stdout",
     "output_type": "stream",
     "text": [
      "NB_train_precision  0.72\n",
      "NB_train_recall  0.28\n",
      "NB_train_f1  0.41\n"
     ]
    }
   ],
   "source": [
    "NB_metrics=classification_report(Y_train, NB_train_predict,output_dict=True)\n",
    "df=pd.DataFrame(NB_metrics).transpose()\n",
    "NB_train_f1=round(df.loc[\"1\"][2],2)\n",
    "NB_train_recall=round(df.loc[\"1\"][1],2)\n",
    "NB_train_precision=round(df.loc[\"1\"][0],2)\n",
    "print ('NB_train_precision ',NB_train_precision)\n",
    "print ('NB_train_recall ',NB_train_recall)\n",
    "print ('NB_train_f1 ',NB_train_f1)"
   ]
  },
  {
   "cell_type": "code",
   "execution_count": 283,
   "id": "bdb702f7",
   "metadata": {
    "ExecuteTime": {
     "end_time": "2022-05-15T15:20:55.562763Z",
     "start_time": "2022-05-15T15:20:55.433388Z"
    }
   },
   "outputs": [
    {
     "name": "stdout",
     "output_type": "stream",
     "text": [
      "NB_test_precision  0.67\n",
      "NB_test_recall  0.29\n",
      "NB_test_f1  0.41\n"
     ]
    }
   ],
   "source": [
    "NB_metrics=classification_report(Y_test, NB_test_predict,output_dict=True)\n",
    "df=pd.DataFrame(NB_metrics).transpose()\n",
    "NB_test_f1=round(df.loc[\"1\"][2],2)\n",
    "NB_test_recall=round(df.loc[\"1\"][1],2)\n",
    "NB_test_precision=round(df.loc[\"1\"][0],2)\n",
    "print ('NB_test_precision ',NB_test_precision)\n",
    "print ('NB_test_recall ',NB_test_recall)\n",
    "print ('NB_test_f1 ',NB_test_f1)"
   ]
  },
  {
   "cell_type": "code",
   "execution_count": 284,
   "id": "fcf6fa49",
   "metadata": {
    "ExecuteTime": {
     "end_time": "2022-05-15T15:20:57.457912Z",
     "start_time": "2022-05-15T15:20:57.451710Z"
    }
   },
   "outputs": [],
   "source": [
    "#8 Bagging"
   ]
  },
  {
   "cell_type": "code",
   "execution_count": 285,
   "id": "965147a8",
   "metadata": {
    "ExecuteTime": {
     "end_time": "2022-05-15T15:20:57.551285Z",
     "start_time": "2022-05-15T15:20:57.461910Z"
    }
   },
   "outputs": [],
   "source": [
    "#7. Gradient Boosting"
   ]
  },
  {
   "cell_type": "code",
   "execution_count": 286,
   "id": "7e5c088c",
   "metadata": {
    "ExecuteTime": {
     "end_time": "2022-05-15T15:20:59.246780Z",
     "start_time": "2022-05-15T15:20:57.555435Z"
    }
   },
   "outputs": [
    {
     "data": {
      "text/plain": [
       "GradientBoostingClassifier(random_state=1)"
      ]
     },
     "execution_count": 286,
     "metadata": {},
     "output_type": "execute_result"
    }
   ],
   "source": [
    "from sklearn.ensemble import GradientBoostingClassifier\n",
    "Gradient_model = GradientBoostingClassifier(random_state=1)\n",
    "Gradient_model.fit(X_train,Y_train)"
   ]
  },
  {
   "cell_type": "code",
   "execution_count": 287,
   "id": "cd46b1eb",
   "metadata": {
    "ExecuteTime": {
     "end_time": "2022-05-15T15:20:59.314643Z",
     "start_time": "2022-05-15T15:20:59.249764Z"
    }
   },
   "outputs": [
    {
     "data": {
      "text/plain": [
       "0.9118244100482111"
      ]
     },
     "execution_count": 287,
     "metadata": {},
     "output_type": "execute_result"
    }
   ],
   "source": [
    "gbcl_train_acc = Gradient_model.score(X_train,Y_train)\n",
    "gbcl_train_acc"
   ]
  },
  {
   "cell_type": "code",
   "execution_count": 288,
   "id": "67b76013",
   "metadata": {
    "ExecuteTime": {
     "end_time": "2022-05-15T15:21:01.248559Z",
     "start_time": "2022-05-15T15:21:01.209107Z"
    }
   },
   "outputs": [
    {
     "data": {
      "text/plain": [
       "0.9008288928359977"
      ]
     },
     "execution_count": 288,
     "metadata": {},
     "output_type": "execute_result"
    }
   ],
   "source": [
    "gbcl_test_acc =  Gradient_model.score(X_test,Y_test)\n",
    "gbcl_test_acc"
   ]
  },
  {
   "cell_type": "code",
   "execution_count": 289,
   "id": "2f178182",
   "metadata": {
    "ExecuteTime": {
     "end_time": "2022-05-15T15:21:01.463189Z",
     "start_time": "2022-05-15T15:21:01.261849Z"
    }
   },
   "outputs": [
    {
     "name": "stdout",
     "output_type": "stream",
     "text": [
      "0.9118244100482111\n",
      "[[6365  190]\n",
      " [ 505  822]]\n",
      "              precision    recall  f1-score   support\n",
      "\n",
      "           0       0.93      0.97      0.95      6555\n",
      "           1       0.81      0.62      0.70      1327\n",
      "\n",
      "    accuracy                           0.91      7882\n",
      "   macro avg       0.87      0.80      0.83      7882\n",
      "weighted avg       0.91      0.91      0.91      7882\n",
      "\n"
     ]
    }
   ],
   "source": [
    "Y_train_predict7=Gradient_model.predict(X_train)\n",
    "Gradient_model_score=Gradient_model.score(X_train,Y_train)\n",
    "print(Gradient_model_score)\n",
    "print(metrics.confusion_matrix(Y_train,Y_train_predict7))\n",
    "print(metrics.classification_report(Y_train,Y_train_predict7))"
   ]
  },
  {
   "cell_type": "code",
   "execution_count": 290,
   "id": "29fd65d3",
   "metadata": {
    "ExecuteTime": {
     "end_time": "2022-05-15T15:21:02.649194Z",
     "start_time": "2022-05-15T15:21:02.413452Z"
    }
   },
   "outputs": [
    {
     "name": "stdout",
     "output_type": "stream",
     "text": [
      "the auc curve 0.947 \n"
     ]
    },
    {
     "data": {
      "image/png": "[encoded data removed]",
      "text/plain": [
       "<Figure size 432x288 with 1 Axes>"
      ]
     },
     "metadata": {
      "needs_background": "light"
     },
     "output_type": "display_data"
    }
   ],
   "source": [
    "probs =Gradient_model.predict_proba(X_train)\n",
    "\n",
    "probs =probs[:,1]\n",
    "\n",
    "gbcl_train_auc=roc_auc_score(Y_train,probs)\n",
    "print(\"the auc curve %.3f \" % gbcl_train_auc)\n",
    "\n",
    "gbcl_train_fpr,gbcl_train_tpr,train_threshold=roc_curve(Y_train,probs)\n",
    "plt.plot([0,1],[0,1],linestyle='--')\n",
    "\n",
    "plt.plot(gbcl_train_fpr,gbcl_train_tpr);\n",
    "\n"
   ]
  },
  {
   "cell_type": "code",
   "execution_count": 291,
   "id": "f3e71183",
   "metadata": {
    "ExecuteTime": {
     "end_time": "2022-05-15T15:21:02.697861Z",
     "start_time": "2022-05-15T15:21:02.652190Z"
    }
   },
   "outputs": [
    {
     "name": "stdout",
     "output_type": "stream",
     "text": [
      "0.9118244100482111\n",
      "[[2712   97]\n",
      " [ 238  331]]\n",
      "              precision    recall  f1-score   support\n",
      "\n",
      "           0       0.92      0.97      0.94      2809\n",
      "           1       0.77      0.58      0.66       569\n",
      "\n",
      "    accuracy                           0.90      3378\n",
      "   macro avg       0.85      0.77      0.80      3378\n",
      "weighted avg       0.89      0.90      0.90      3378\n",
      "\n"
     ]
    }
   ],
   "source": [
    "\n",
    "Y_test_predict_7=Gradient_model.predict(X_test)\n",
    "Graident_model_score=Gradient_model.score(X_test,Y_test)\n",
    "print(Gradient_model_score)\n",
    "print(metrics.confusion_matrix(Y_test,Y_test_predict_7))\n",
    "print(metrics.classification_report(Y_test,Y_test_predict_7))"
   ]
  },
  {
   "cell_type": "code",
   "execution_count": 296,
   "id": "87e4965d",
   "metadata": {
    "ExecuteTime": {
     "end_time": "2022-05-15T15:22:18.184217Z",
     "start_time": "2022-05-15T15:22:17.931443Z"
    }
   },
   "outputs": [
    {
     "name": "stdout",
     "output_type": "stream",
     "text": [
      "the auc curve 0.937 \n"
     ]
    },
    {
     "data": {
      "image/png": "[encoded data removed]",
      "text/plain": [
       "<Figure size 432x288 with 1 Axes>"
      ]
     },
     "metadata": {
      "needs_background": "light"
     },
     "output_type": "display_data"
    }
   ],
   "source": [
    "#AUC and Roc for test data\n",
    "\n",
    "probs =Gradient_model.predict_proba(X_test)\n",
    "\n",
    "probs =probs[:,1]\n",
    "\n",
    "gbcl_test_auc=roc_auc_score(Y_test,probs)\n",
    "print(\"the auc curve %.3f \" % gbcl_test_auc)\n",
    "\n",
    "gbcl_test_fpr,gbcl_test_tpr,test_threshold=roc_curve(Y_test,probs)\n",
    "plt.plot([0,1],[0,1],linestyle='--')\n",
    "\n",
    "plt.plot(gbcl_test_fpr, gbcl_test_tpr);\n",
    "\n"
   ]
  },
  {
   "cell_type": "code",
   "execution_count": 297,
   "id": "709d7bb4",
   "metadata": {
    "ExecuteTime": {
     "end_time": "2022-05-15T15:22:18.730774Z",
     "start_time": "2022-05-15T15:22:18.685613Z"
    }
   },
   "outputs": [
    {
     "name": "stdout",
     "output_type": "stream",
     "text": [
      "Gradient_train_accuracy 0.91\n",
      "gbcl_train_precision  0.81\n",
      "gbcl_train_recall  0.62\n",
      "gbcl_train_f1  0.7\n"
     ]
    }
   ],
   "source": [
    "gbcl_metrics=classification_report(Y_train, Y_train_predict7,output_dict=True)\n",
    "df=pd.DataFrame(gbcl_metrics).transpose()\n",
    "gbcl_train_f1=round(df.loc[\"1\"][2],2)\n",
    "gbcl_train_recall=round(df.loc[\"1\"][1],2)\n",
    "gbcl_train_precision=round(df.loc[\"1\"][0],2)\n",
    "gbcl_train_acc=round(df.iloc[2][3],2)\n",
    "print('Gradient_train_accuracy',gbcl_train_acc)\n",
    "print ('gbcl_train_precision ',gbcl_train_precision)\n",
    "print ('gbcl_train_recall ',gbcl_train_recall)\n",
    "print ('gbcl_train_f1 ',gbcl_train_f1)\n"
   ]
  },
  {
   "cell_type": "code",
   "execution_count": 298,
   "id": "e1b078c2",
   "metadata": {
    "ExecuteTime": {
     "end_time": "2022-05-15T15:22:19.248254Z",
     "start_time": "2022-05-15T15:22:19.208363Z"
    }
   },
   "outputs": [
    {
     "name": "stdout",
     "output_type": "stream",
     "text": [
      "gbcl_test_precision  0.77\n",
      "gbcl_test_recall  0.58\n",
      "gbcl_test_f1  0.66\n"
     ]
    }
   ],
   "source": [
    "#print(metrics.classification_report(Y_test,Y_test_predict_7))\n",
    "gbcl_metrics=classification_report(Y_test,Y_test_predict_7,output_dict=True)\n",
    "df=pd.DataFrame(gbcl_metrics).transpose()\n",
    "gbcl_test_f1=round(df.loc[\"1\"][2],2)\n",
    "gbcl_test_recall=round(df.loc[\"1\"][1],2)\n",
    "gbcl_test_precision=round(df.loc[\"1\"][0],2)\n",
    "print ('gbcl_test_precision ',gbcl_test_precision)\n",
    "print ('gbcl_test_recall ',gbcl_test_recall)\n",
    "print ('gbcl_test_f1 ',gbcl_test_f1)"
   ]
  },
  {
   "cell_type": "code",
   "execution_count": 299,
   "id": "49caa0f0",
   "metadata": {
    "ExecuteTime": {
     "end_time": "2022-05-15T15:22:19.791078Z",
     "start_time": "2022-05-15T15:22:19.786510Z"
    }
   },
   "outputs": [],
   "source": [
    "##MLP Classifier (Artificial Neural Network)"
   ]
  },
  {
   "cell_type": "code",
   "execution_count": 300,
   "id": "fde04f18",
   "metadata": {
    "ExecuteTime": {
     "end_time": "2022-05-15T15:22:20.425381Z",
     "start_time": "2022-05-15T15:22:20.417239Z"
    }
   },
   "outputs": [],
   "source": [
    "param_grid = {\n",
    "    'hidden_layer_sizes': [(100,100,100)],\n",
    "    'activation': ['logistic', 'relu'],\n",
    "    'solver': ['sgd', 'adam'],\n",
    "    'tol': [0.1,0.01],\n",
    "    'max_iter' : [10000]\n",
    "}\n",
    "\n",
    "mlp = MLPClassifier()\n",
    "\n",
    "grid_search = GridSearchCV(estimator = mlp, param_grid = param_grid, cv = 3)"
   ]
  },
  {
   "cell_type": "code",
   "execution_count": 301,
   "id": "3ce20bf3",
   "metadata": {
    "ExecuteTime": {
     "end_time": "2022-05-15T15:23:29.345111Z",
     "start_time": "2022-05-15T15:22:23.989457Z"
    }
   },
   "outputs": [
    {
     "data": {
      "text/plain": [
       "{'activation': 'relu',\n",
       " 'hidden_layer_sizes': (100, 100, 100),\n",
       " 'max_iter': 10000,\n",
       " 'solver': 'adam',\n",
       " 'tol': 0.01}"
      ]
     },
     "execution_count": 301,
     "metadata": {},
     "output_type": "execute_result"
    }
   ],
   "source": [
    "#ytrain_predict = mlp.predict(X_train)\n",
    "#ytest_predict = mlp.predict(X_test)\n",
    "\n",
    "grid_search.fit(X_train, Y_train)\n",
    "grid_search.best_params_"
   ]
  },
  {
   "cell_type": "code",
   "execution_count": 302,
   "id": "1cbd7f09",
   "metadata": {
    "ExecuteTime": {
     "end_time": "2022-05-15T15:23:29.438689Z",
     "start_time": "2022-05-15T15:23:29.349329Z"
    }
   },
   "outputs": [
    {
     "data": {
      "text/html": [
       "<div>\n",
       "<style scoped>\n",
       "    .dataframe tbody tr th:only-of-type {\n",
       "        vertical-align: middle;\n",
       "    }\n",
       "\n",
       "    .dataframe tbody tr th {\n",
       "        vertical-align: top;\n",
       "    }\n",
       "\n",
       "    .dataframe thead th {\n",
       "        text-align: right;\n",
       "    }\n",
       "</style>\n",
       "<table border=\"1\" class=\"dataframe\">\n",
       "  <thead>\n",
       "    <tr style=\"text-align: right;\">\n",
       "      <th></th>\n",
       "      <th>0</th>\n",
       "      <th>1</th>\n",
       "    </tr>\n",
       "  </thead>\n",
       "  <tbody>\n",
       "    <tr>\n",
       "      <th>0</th>\n",
       "      <td>0.999278</td>\n",
       "      <td>7.223523e-04</td>\n",
       "    </tr>\n",
       "    <tr>\n",
       "      <th>1</th>\n",
       "      <td>1.000000</td>\n",
       "      <td>3.665044e-07</td>\n",
       "    </tr>\n",
       "    <tr>\n",
       "      <th>2</th>\n",
       "      <td>0.961948</td>\n",
       "      <td>3.805188e-02</td>\n",
       "    </tr>\n",
       "    <tr>\n",
       "      <th>3</th>\n",
       "      <td>0.993532</td>\n",
       "      <td>6.467544e-03</td>\n",
       "    </tr>\n",
       "    <tr>\n",
       "      <th>4</th>\n",
       "      <td>0.999565</td>\n",
       "      <td>4.352552e-04</td>\n",
       "    </tr>\n",
       "  </tbody>\n",
       "</table>\n",
       "</div>"
      ],
      "text/plain": [
       "          0             1\n",
       "0  0.999278  7.223523e-04\n",
       "1  1.000000  3.665044e-07\n",
       "2  0.961948  3.805188e-02\n",
       "3  0.993532  6.467544e-03\n",
       "4  0.999565  4.352552e-04"
      ]
     },
     "execution_count": 302,
     "metadata": {},
     "output_type": "execute_result"
    }
   ],
   "source": [
    "best_grid = grid_search.best_estimator_\n",
    "ann_train_predict_prob=best_grid.predict_proba(X_train)\n",
    "pd.DataFrame(ann_train_predict_prob).head()"
   ]
  },
  {
   "cell_type": "code",
   "execution_count": 303,
   "id": "c7b40afa",
   "metadata": {
    "ExecuteTime": {
     "end_time": "2022-05-15T15:23:29.546314Z",
     "start_time": "2022-05-15T15:23:29.442688Z"
    }
   },
   "outputs": [
    {
     "data": {
      "text/html": [
       "<div>\n",
       "<style scoped>\n",
       "    .dataframe tbody tr th:only-of-type {\n",
       "        vertical-align: middle;\n",
       "    }\n",
       "\n",
       "    .dataframe tbody tr th {\n",
       "        vertical-align: top;\n",
       "    }\n",
       "\n",
       "    .dataframe thead th {\n",
       "        text-align: right;\n",
       "    }\n",
       "</style>\n",
       "<table border=\"1\" class=\"dataframe\">\n",
       "  <thead>\n",
       "    <tr style=\"text-align: right;\">\n",
       "      <th></th>\n",
       "      <th>0</th>\n",
       "      <th>1</th>\n",
       "    </tr>\n",
       "  </thead>\n",
       "  <tbody>\n",
       "    <tr>\n",
       "      <th>0</th>\n",
       "      <td>0.999985</td>\n",
       "      <td>0.000015</td>\n",
       "    </tr>\n",
       "    <tr>\n",
       "      <th>1</th>\n",
       "      <td>0.999916</td>\n",
       "      <td>0.000084</td>\n",
       "    </tr>\n",
       "    <tr>\n",
       "      <th>2</th>\n",
       "      <td>0.998066</td>\n",
       "      <td>0.001934</td>\n",
       "    </tr>\n",
       "    <tr>\n",
       "      <th>3</th>\n",
       "      <td>0.999978</td>\n",
       "      <td>0.000022</td>\n",
       "    </tr>\n",
       "    <tr>\n",
       "      <th>4</th>\n",
       "      <td>0.999020</td>\n",
       "      <td>0.000980</td>\n",
       "    </tr>\n",
       "  </tbody>\n",
       "</table>\n",
       "</div>"
      ],
      "text/plain": [
       "          0         1\n",
       "0  0.999985  0.000015\n",
       "1  0.999916  0.000084\n",
       "2  0.998066  0.001934\n",
       "3  0.999978  0.000022\n",
       "4  0.999020  0.000980"
      ]
     },
     "execution_count": 303,
     "metadata": {},
     "output_type": "execute_result"
    }
   ],
   "source": [
    "ann_test_predict_prob=best_grid.predict_proba(X_test)\n",
    "pd.DataFrame(ann_test_predict_prob).head()"
   ]
  },
  {
   "cell_type": "code",
   "execution_count": 304,
   "id": "d920b893",
   "metadata": {
    "ExecuteTime": {
     "end_time": "2022-05-15T15:23:29.700659Z",
     "start_time": "2022-05-15T15:23:29.553477Z"
    }
   },
   "outputs": [],
   "source": [
    "\n",
    "ytrain_predict = best_grid.predict(X_train)\n",
    "ytest_predict = best_grid.predict(X_test)"
   ]
  },
  {
   "cell_type": "code",
   "execution_count": 305,
   "id": "c9981615",
   "metadata": {
    "ExecuteTime": {
     "end_time": "2022-05-15T15:23:29.709791Z",
     "start_time": "2022-05-15T15:23:29.703796Z"
    }
   },
   "outputs": [],
   "source": [
    "#Model performance"
   ]
  },
  {
   "cell_type": "code",
   "execution_count": 306,
   "id": "4dbfe08f",
   "metadata": {
    "ExecuteTime": {
     "end_time": "2022-05-15T15:23:29.999727Z",
     "start_time": "2022-05-15T15:23:29.713790Z"
    }
   },
   "outputs": [
    {
     "data": {
      "text/plain": [
       "0.9812230398376046"
      ]
     },
     "execution_count": 306,
     "metadata": {},
     "output_type": "execute_result"
    }
   ],
   "source": [
    "ann_train_acc = best_grid.score(X_train,Y_train)\n",
    "ann_train_acc\n"
   ]
  },
  {
   "cell_type": "code",
   "execution_count": 307,
   "id": "b73894cf",
   "metadata": {
    "ExecuteTime": {
     "end_time": "2022-05-15T15:23:30.721373Z",
     "start_time": "2022-05-15T15:23:30.677845Z"
    }
   },
   "outputs": [
    {
     "data": {
      "text/plain": [
       "0.9493783303730018"
      ]
     },
     "execution_count": 307,
     "metadata": {},
     "output_type": "execute_result"
    }
   ],
   "source": [
    "ann_test_acc = best_grid.score(X_test,Y_test)\n",
    "ann_test_acc\n"
   ]
  },
  {
   "cell_type": "code",
   "execution_count": 308,
   "id": "00bd7bf3",
   "metadata": {
    "ExecuteTime": {
     "end_time": "2022-05-15T15:23:30.821498Z",
     "start_time": "2022-05-15T15:23:30.725372Z"
    }
   },
   "outputs": [
    {
     "name": "stdout",
     "output_type": "stream",
     "text": [
      "              precision    recall  f1-score   support\n",
      "\n",
      "           0       0.99      0.99      0.99      6555\n",
      "           1       0.94      0.95      0.94      1327\n",
      "\n",
      "    accuracy                           0.98      7882\n",
      "   macro avg       0.97      0.97      0.97      7882\n",
      "weighted avg       0.98      0.98      0.98      7882\n",
      "\n"
     ]
    }
   ],
   "source": [
    "\n",
    "print(classification_report(Y_train,ytrain_predict))"
   ]
  },
  {
   "cell_type": "code",
   "execution_count": 309,
   "id": "d60b4150",
   "metadata": {
    "ExecuteTime": {
     "end_time": "2022-05-15T15:23:30.895458Z",
     "start_time": "2022-05-15T15:23:30.825496Z"
    }
   },
   "outputs": [
    {
     "name": "stdout",
     "output_type": "stream",
     "text": [
      "              precision    recall  f1-score   support\n",
      "\n",
      "           0       0.96      0.98      0.97      2809\n",
      "           1       0.87      0.82      0.85       569\n",
      "\n",
      "    accuracy                           0.95      3378\n",
      "   macro avg       0.92      0.90      0.91      3378\n",
      "weighted avg       0.95      0.95      0.95      3378\n",
      "\n"
     ]
    }
   ],
   "source": [
    "print(classification_report(Y_test,ytest_predict))"
   ]
  },
  {
   "cell_type": "code",
   "execution_count": 310,
   "id": "3e3e53b6",
   "metadata": {
    "ExecuteTime": {
     "end_time": "2022-05-15T15:23:30.954400Z",
     "start_time": "2022-05-15T15:23:30.905161Z"
    }
   },
   "outputs": [
    {
     "data": {
      "text/plain": [
       "array([[6479,   76],\n",
       "       [  72, 1255]], dtype=int64)"
      ]
     },
     "execution_count": 310,
     "metadata": {},
     "output_type": "execute_result"
    }
   ],
   "source": [
    "confusion_matrix(Y_train, ytrain_predict) "
   ]
  },
  {
   "cell_type": "code",
   "execution_count": 311,
   "id": "62e56e01",
   "metadata": {
    "ExecuteTime": {
     "end_time": "2022-05-15T15:23:31.037505Z",
     "start_time": "2022-05-15T15:23:30.958394Z"
    }
   },
   "outputs": [
    {
     "data": {
      "text/plain": [
       "array([[2740,   69],\n",
       "       [ 102,  467]], dtype=int64)"
      ]
     },
     "execution_count": 311,
     "metadata": {},
     "output_type": "execute_result"
    }
   ],
   "source": [
    "confusion_matrix(Y_test, ytest_predict)"
   ]
  },
  {
   "cell_type": "code",
   "execution_count": 312,
   "id": "a3611863",
   "metadata": {
    "ExecuteTime": {
     "end_time": "2022-05-15T15:23:31.103216Z",
     "start_time": "2022-05-15T15:23:31.041504Z"
    }
   },
   "outputs": [],
   "source": [
    "#ROC-AUC Graph train"
   ]
  },
  {
   "cell_type": "code",
   "execution_count": 313,
   "id": "fd1a8bdd",
   "metadata": {
    "ExecuteTime": {
     "end_time": "2022-05-15T15:23:31.619202Z",
     "start_time": "2022-05-15T15:23:31.109388Z"
    }
   },
   "outputs": [
    {
     "name": "stdout",
     "output_type": "stream",
     "text": [
      "AUC: 0.997\n"
     ]
    },
    {
     "data": {
      "image/png": "[encoded data removed]",
      "text/plain": [
       "<Figure size 432x288 with 1 Axes>"
      ]
     },
     "metadata": {
      "needs_background": "light"
     },
     "output_type": "display_data"
    }
   ],
   "source": [
    "# AUC and ROC for the training data\n",
    "\n",
    "# predict probabilities\n",
    "probs =best_grid.predict_proba(X_train)\n",
    "\n",
    "# keep probabilities for the positive outcome only\n",
    "probs = probs[:, 1]\n",
    "\n",
    "# calculate AUC\n",
    "from sklearn.metrics import roc_auc_score\n",
    "ann_train_auc = roc_auc_score(Y_train, probs)\n",
    "print('AUC: %.3f' % ann_train_auc)\n",
    "\n",
    "# calculate roc curve\n",
    "from sklearn.metrics import roc_curve\n",
    "ann_train_fpr, ann_train_tpr, ann_train_thresholds = roc_curve(Y_train, probs)\n",
    "plt.plot([0, 1], [0, 1], linestyle='--')\n",
    "\n",
    "# plot the roc curve for the model\n",
    "plt.plot(ann_train_fpr, ann_train_tpr, marker='.')\n",
    "\n",
    "# show the plot\n",
    "plt.show()"
   ]
  },
  {
   "cell_type": "code",
   "execution_count": 314,
   "id": "008e79d9",
   "metadata": {
    "ExecuteTime": {
     "end_time": "2022-05-15T15:23:32.067364Z",
     "start_time": "2022-05-15T15:23:31.623405Z"
    }
   },
   "outputs": [
    {
     "name": "stdout",
     "output_type": "stream",
     "text": [
      "AUC: 0.973\n"
     ]
    },
    {
     "data": {
      "image/png": "[encoded data removed]",
      "text/plain": [
       "<Figure size 432x288 with 1 Axes>"
      ]
     },
     "metadata": {
      "needs_background": "light"
     },
     "output_type": "display_data"
    }
   ],
   "source": [
    "# AUC and ROC for the testing data\n",
    "\n",
    "# predict probabilities\n",
    "probs =best_grid.predict_proba(X_test)\n",
    "\n",
    "# keep probabilities for the positive outcome only\n",
    "probs = probs[:, 1]\n",
    "\n",
    "# calculate AUC\n",
    "from sklearn.metrics import roc_auc_score\n",
    "ann_test_auc = roc_auc_score(Y_test, probs)\n",
    "print('AUC: %.3f' % ann_test_auc)\n",
    "\n",
    "# calculate roc curve\n",
    "from sklearn.metrics import roc_curve\n",
    "ann_test_fpr, ann_test_tpr, ann_test_thresholds = roc_curve(Y_test, probs)\n",
    "plt.plot([0, 1], [0, 1], linestyle='--')\n",
    "\n",
    "# plot the roc curve for the model\n",
    "plt.plot(ann_test_fpr, ann_test_tpr, marker='.')\n",
    "\n",
    "# show the plot\n",
    "plt.show()"
   ]
  },
  {
   "cell_type": "code",
   "execution_count": 315,
   "id": "8853ea4c",
   "metadata": {
    "ExecuteTime": {
     "end_time": "2022-05-15T15:23:32.087283Z",
     "start_time": "2022-05-15T15:23:32.077002Z"
    }
   },
   "outputs": [],
   "source": [
    "# Model Performance Metrices"
   ]
  },
  {
   "cell_type": "code",
   "execution_count": 316,
   "id": "5eb08475",
   "metadata": {
    "ExecuteTime": {
     "end_time": "2022-05-15T15:23:32.232584Z",
     "start_time": "2022-05-15T15:23:32.093504Z"
    }
   },
   "outputs": [
    {
     "name": "stdout",
     "output_type": "stream",
     "text": [
      "ann_train_precision  0.94\n",
      "ann_train_recall  0.95\n",
      "ann_train_f1  0.94\n"
     ]
    }
   ],
   "source": [
    "ann_metrics=classification_report(Y_train, ytrain_predict,output_dict=True)\n",
    "df=pd.DataFrame(ann_metrics).transpose()\n",
    "ann_train_f1=round(df.loc[\"1\"][2],2)\n",
    "ann_train_recall=round(df.loc[\"1\"][1],2)\n",
    "ann_train_precision=round(df.loc[\"1\"][0],2)\n",
    "print ('ann_train_precision ',ann_train_precision)\n",
    "print ('ann_train_recall ',ann_train_recall)\n",
    "print ('ann_train_f1 ',ann_train_f1)"
   ]
  },
  {
   "cell_type": "code",
   "execution_count": 317,
   "id": "e487d07c",
   "metadata": {
    "ExecuteTime": {
     "end_time": "2022-05-15T15:23:32.320522Z",
     "start_time": "2022-05-15T15:23:32.238583Z"
    }
   },
   "outputs": [
    {
     "name": "stdout",
     "output_type": "stream",
     "text": [
      "ann_test_precision  0.87\n",
      "ann_test_recall  0.82\n",
      "ann_test_f1  0.85\n"
     ]
    }
   ],
   "source": [
    "ann_metrics=classification_report(Y_test, ytest_predict,output_dict=True)\n",
    "df=pd.DataFrame(ann_metrics).transpose()\n",
    "ann_test_f1=round(df.loc[\"1\"][2],2)\n",
    "ann_test_recall=round(df.loc[\"1\"][1],2)\n",
    "ann_test_precision=round(df.loc[\"1\"][0],2)\n",
    "print ('ann_test_precision ',ann_test_precision)\n",
    "print ('ann_test_recall ',ann_test_recall)\n",
    "print ('ann_test_f1 ',ann_test_f1)"
   ]
  },
  {
   "cell_type": "code",
   "execution_count": 318,
   "id": "3c1c8cae",
   "metadata": {
    "ExecuteTime": {
     "end_time": "2022-05-15T15:23:42.021662Z",
     "start_time": "2022-05-15T15:23:42.016183Z"
    }
   },
   "outputs": [],
   "source": [
    "#Model Performance Comparison"
   ]
  },
  {
   "cell_type": "code",
   "execution_count": 319,
   "id": "32015e3e",
   "metadata": {
    "ExecuteTime": {
     "end_time": "2022-05-15T15:23:42.791801Z",
     "start_time": "2022-05-15T15:23:42.784637Z"
    }
   },
   "outputs": [],
   "source": [
    "#1. Performance Matrics - on Train Data"
   ]
  },
  {
   "cell_type": "code",
   "execution_count": 320,
   "id": "ca27d1e3",
   "metadata": {
    "ExecuteTime": {
     "end_time": "2022-05-15T15:23:42.998359Z",
     "start_time": "2022-05-15T15:23:42.801796Z"
    }
   },
   "outputs": [
    {
     "data": {
      "text/html": [
       "<div>\n",
       "<style scoped>\n",
       "    .dataframe tbody tr th:only-of-type {\n",
       "        vertical-align: middle;\n",
       "    }\n",
       "\n",
       "    .dataframe tbody tr th {\n",
       "        vertical-align: top;\n",
       "    }\n",
       "\n",
       "    .dataframe thead th {\n",
       "        text-align: right;\n",
       "    }\n",
       "</style>\n",
       "<table border=\"1\" class=\"dataframe\">\n",
       "  <thead>\n",
       "    <tr style=\"text-align: right;\">\n",
       "      <th></th>\n",
       "      <th>CART train</th>\n",
       "      <th>RF Train</th>\n",
       "      <th>Log Train</th>\n",
       "      <th>LDA Train</th>\n",
       "      <th>KNN Train</th>\n",
       "      <th>NB Train</th>\n",
       "      <th>ANN train</th>\n",
       "      <th>Gr.Boost Train</th>\n",
       "    </tr>\n",
       "  </thead>\n",
       "  <tbody>\n",
       "    <tr>\n",
       "      <th>Accuracy</th>\n",
       "      <td>0.92</td>\n",
       "      <td>0.92</td>\n",
       "      <td>0.87</td>\n",
       "      <td>0.86</td>\n",
       "      <td>0.92</td>\n",
       "      <td>0.86</td>\n",
       "      <td>0.98</td>\n",
       "      <td>0.91</td>\n",
       "    </tr>\n",
       "    <tr>\n",
       "      <th>AUC</th>\n",
       "      <td>0.96</td>\n",
       "      <td>0.96</td>\n",
       "      <td>0.85</td>\n",
       "      <td>0.82</td>\n",
       "      <td>0.97</td>\n",
       "      <td>0.81</td>\n",
       "      <td>1.00</td>\n",
       "      <td>0.95</td>\n",
       "    </tr>\n",
       "    <tr>\n",
       "      <th>Recall</th>\n",
       "      <td>0.75</td>\n",
       "      <td>0.69</td>\n",
       "      <td>0.35</td>\n",
       "      <td>0.27</td>\n",
       "      <td>0.60</td>\n",
       "      <td>0.28</td>\n",
       "      <td>0.95</td>\n",
       "      <td>0.62</td>\n",
       "    </tr>\n",
       "    <tr>\n",
       "      <th>Precision</th>\n",
       "      <td>0.78</td>\n",
       "      <td>0.83</td>\n",
       "      <td>0.76</td>\n",
       "      <td>0.74</td>\n",
       "      <td>0.87</td>\n",
       "      <td>0.72</td>\n",
       "      <td>0.94</td>\n",
       "      <td>0.81</td>\n",
       "    </tr>\n",
       "    <tr>\n",
       "      <th>F1 Score</th>\n",
       "      <td>0.76</td>\n",
       "      <td>0.75</td>\n",
       "      <td>0.48</td>\n",
       "      <td>0.40</td>\n",
       "      <td>0.71</td>\n",
       "      <td>0.41</td>\n",
       "      <td>0.94</td>\n",
       "      <td>0.70</td>\n",
       "    </tr>\n",
       "  </tbody>\n",
       "</table>\n",
       "</div>"
      ],
      "text/plain": [
       "           CART train  RF Train  Log Train  LDA Train  KNN Train  NB Train  \\\n",
       "Accuracy         0.92      0.92       0.87       0.86       0.92      0.86   \n",
       "AUC              0.96      0.96       0.85       0.82       0.97      0.81   \n",
       "Recall           0.75      0.69       0.35       0.27       0.60      0.28   \n",
       "Precision        0.78      0.83       0.76       0.74       0.87      0.72   \n",
       "F1 Score         0.76      0.75       0.48       0.40       0.71      0.41   \n",
       "\n",
       "           ANN train  Gr.Boost Train  \n",
       "Accuracy        0.98            0.91  \n",
       "AUC             1.00            0.95  \n",
       "Recall          0.95            0.62  \n",
       "Precision       0.94            0.81  \n",
       "F1 Score        0.94            0.70  "
      ]
     },
     "execution_count": 320,
     "metadata": {},
     "output_type": "execute_result"
    }
   ],
   "source": [
    "index=['Accuracy', 'AUC', 'Recall','Precision','F1 Score']\n",
    "data = pd.DataFrame({\n",
    "       'CART train':[cart_train_acc,cart_train_auc,cart_train_recall,cart_train_precision,cart_train_f1],\n",
    "       'RF Train':[rf_train_acc,rf_train_auc,rf_train_recall,rf_train_precision,rf_train_f1],\n",
    "       'Log Train':[log_train_acc,log_train_auc,log_train_recall,log_train_precision,log_train_f1],          \n",
    "       'LDA Train':[lda_train_acc,lda_train_auc,lda_train_recall,lda_train_precision,lda_train_f1],\n",
    "       'KNN Train':[KNN_train_acc,KNN_train_auc,KNN_train_recall,KNN_train_precision,KNN_train_f1], \n",
    "       'NB Train':[NB_train_acc,NB_train_auc,NB_train_recall,NB_train_precision,NB_train_f1],\n",
    "       'ANN train':[ann_train_acc,ann_train_auc,ann_train_recall,ann_train_precision,ann_train_f1],\n",
    "       'Gr.Boost Train':[gbcl_train_acc,gbcl_train_auc,gbcl_train_recall,gbcl_train_precision,gbcl_train_f1]},index=index)\n",
    "round(data,2)"
   ]
  },
  {
   "cell_type": "code",
   "execution_count": 321,
   "id": "ee338304",
   "metadata": {
    "ExecuteTime": {
     "end_time": "2022-05-15T15:23:45.063695Z",
     "start_time": "2022-05-15T15:23:45.058136Z"
    }
   },
   "outputs": [],
   "source": [
    "#2. Performance Matrics - on Test Data"
   ]
  },
  {
   "cell_type": "code",
   "execution_count": 322,
   "id": "490e10a5",
   "metadata": {
    "ExecuteTime": {
     "end_time": "2022-05-15T15:23:46.113997Z",
     "start_time": "2022-05-15T15:23:46.042349Z"
    }
   },
   "outputs": [
    {
     "data": {
      "text/html": [
       "<div>\n",
       "<style scoped>\n",
       "    .dataframe tbody tr th:only-of-type {\n",
       "        vertical-align: middle;\n",
       "    }\n",
       "\n",
       "    .dataframe tbody tr th {\n",
       "        vertical-align: top;\n",
       "    }\n",
       "\n",
       "    .dataframe thead th {\n",
       "        text-align: right;\n",
       "    }\n",
       "</style>\n",
       "<table border=\"1\" class=\"dataframe\">\n",
       "  <thead>\n",
       "    <tr style=\"text-align: right;\">\n",
       "      <th></th>\n",
       "      <th>CART test</th>\n",
       "      <th>RF test</th>\n",
       "      <th>Log Test</th>\n",
       "      <th>LDA test</th>\n",
       "      <th>KNN test</th>\n",
       "      <th>NB test</th>\n",
       "      <th>ANN test</th>\n",
       "      <th>Gr.Boost test</th>\n",
       "    </tr>\n",
       "  </thead>\n",
       "  <tbody>\n",
       "    <tr>\n",
       "      <th>Accuracy</th>\n",
       "      <td>0.90</td>\n",
       "      <td>0.90</td>\n",
       "      <td>0.87</td>\n",
       "      <td>0.87</td>\n",
       "      <td>0.90</td>\n",
       "      <td>0.86</td>\n",
       "      <td>0.95</td>\n",
       "      <td>0.90</td>\n",
       "    </tr>\n",
       "    <tr>\n",
       "      <th>AUC</th>\n",
       "      <td>0.94</td>\n",
       "      <td>0.94</td>\n",
       "      <td>0.85</td>\n",
       "      <td>0.82</td>\n",
       "      <td>0.93</td>\n",
       "      <td>0.81</td>\n",
       "      <td>0.97</td>\n",
       "      <td>0.94</td>\n",
       "    </tr>\n",
       "    <tr>\n",
       "      <th>Recall</th>\n",
       "      <td>0.70</td>\n",
       "      <td>0.63</td>\n",
       "      <td>0.36</td>\n",
       "      <td>0.98</td>\n",
       "      <td>0.52</td>\n",
       "      <td>0.29</td>\n",
       "      <td>0.82</td>\n",
       "      <td>0.58</td>\n",
       "    </tr>\n",
       "    <tr>\n",
       "      <th>Precision</th>\n",
       "      <td>0.70</td>\n",
       "      <td>0.79</td>\n",
       "      <td>0.77</td>\n",
       "      <td>0.87</td>\n",
       "      <td>0.80</td>\n",
       "      <td>0.67</td>\n",
       "      <td>0.87</td>\n",
       "      <td>0.77</td>\n",
       "    </tr>\n",
       "    <tr>\n",
       "      <th>F1 Score</th>\n",
       "      <td>0.70</td>\n",
       "      <td>0.70</td>\n",
       "      <td>0.49</td>\n",
       "      <td>0.92</td>\n",
       "      <td>0.63</td>\n",
       "      <td>0.41</td>\n",
       "      <td>0.85</td>\n",
       "      <td>0.66</td>\n",
       "    </tr>\n",
       "  </tbody>\n",
       "</table>\n",
       "</div>"
      ],
      "text/plain": [
       "           CART test  RF test  Log Test  LDA test  KNN test  NB test  \\\n",
       "Accuracy        0.90     0.90      0.87      0.87      0.90     0.86   \n",
       "AUC             0.94     0.94      0.85      0.82      0.93     0.81   \n",
       "Recall          0.70     0.63      0.36      0.98      0.52     0.29   \n",
       "Precision       0.70     0.79      0.77      0.87      0.80     0.67   \n",
       "F1 Score        0.70     0.70      0.49      0.92      0.63     0.41   \n",
       "\n",
       "           ANN test  Gr.Boost test  \n",
       "Accuracy       0.95           0.90  \n",
       "AUC            0.97           0.94  \n",
       "Recall         0.82           0.58  \n",
       "Precision      0.87           0.77  \n",
       "F1 Score       0.85           0.66  "
      ]
     },
     "execution_count": 322,
     "metadata": {},
     "output_type": "execute_result"
    }
   ],
   "source": [
    "index=['Accuracy', 'AUC', 'Recall','Precision','F1 Score']\n",
    "data = pd.DataFrame({\n",
    "       'CART test':[cart_test_acc,cart_test_auc,cart_test_recall,cart_test_precision,cart_test_f1],\n",
    "       'RF test':[rf_test_acc,rf_test_auc,rf_test_recall,rf_test_precision,rf_test_f1],  \n",
    "       'Log Test':[log_test_acc,log_test_auc,log_test_recall,log_test_precision,log_test_f1],\n",
    "       'LDA test':[lda_test_acc,lda_test_auc,lda_test_recall,lda_test_precision,lda_test_f1],\n",
    "       'KNN test':[KNN_test_acc,KNN_test_auc,KNN_test_recall,KNN_test_precision,KNN_test_f1], \n",
    "       'NB test':[NB_test_acc,NB_test_auc,NB_test_recall,NB_test_precision,NB_test_f1],\n",
    "       'ANN test':[ann_test_acc,ann_test_auc,ann_test_recall,ann_test_precision,ann_test_f1],\n",
    "       'Gr.Boost test':[gbcl_test_acc,gbcl_test_auc,gbcl_test_recall,gbcl_test_precision,gbcl_test_f1]},index=index)\n",
    "round(data,2)"
   ]
  },
  {
   "cell_type": "code",
   "execution_count": 323,
   "id": "079fa7d9",
   "metadata": {
    "ExecuteTime": {
     "end_time": "2022-05-15T15:23:46.907536Z",
     "start_time": "2022-05-15T15:23:46.902535Z"
    }
   },
   "outputs": [],
   "source": [
    "#3. ROC-AUC - on Train Data"
   ]
  },
  {
   "cell_type": "code",
   "execution_count": 324,
   "id": "8f4badc6",
   "metadata": {
    "ExecuteTime": {
     "end_time": "2022-05-15T15:23:48.509265Z",
     "start_time": "2022-05-15T15:23:47.815604Z"
    }
   },
   "outputs": [
    {
     "data": {
      "text/plain": [
       "<matplotlib.legend.Legend at 0x159347d0ca0>"
      ]
     },
     "execution_count": 324,
     "metadata": {},
     "output_type": "execute_result"
    },
    {
     "data": {
      "image/png": "[encoded data removed]",
      "text/plain": [
       "<Figure size 432x288 with 1 Axes>"
      ]
     },
     "metadata": {
      "needs_background": "light"
     },
     "output_type": "display_data"
    }
   ],
   "source": [
    "plt.plot([0, 1], [0, 1], linestyle='--')\n",
    "plt.plot(cart_train_fpr, cart_train_tpr,color='red',label=\"CART\")\n",
    "plt.plot(ann_train_fpr, ann_train_tpr,color='orange',label=\"ANN\")\n",
    "plt.plot(rf_train_fpr,rf_train_tpr,color='green',label=\"RF\")\n",
    "plt.plot(log_train_fpr,log_train_tpr,color='Pink',label=\"Logistic\")\n",
    "plt.plot(KNN_train_fpr,KNN_train_tpr,color='magenta',label=\"KNN\")\n",
    "plt.plot(NB_train_fpr,NB_train_tpr,color='yellow',label=\"NB\")\n",
    "plt.plot(lda_train_fpr,lda_train_tpr,color='blue',label=\"LDA\")\n",
    "plt.plot(gbcl_train_fpr,gbcl_train_tpr,color='violet',label=\"Gr. Boost\")\n",
    "plt.xlabel('False Positive Rate')\n",
    "plt.ylabel('True Positive Rate')\n",
    "plt.title('ROC')\n",
    "plt.legend(bbox_to_anchor=(0., 1.02, 1., .102), loc='lower right')"
   ]
  },
  {
   "cell_type": "code",
   "execution_count": 325,
   "id": "5fcaf597",
   "metadata": {
    "ExecuteTime": {
     "end_time": "2022-05-15T15:23:49.226290Z",
     "start_time": "2022-05-15T15:23:49.220295Z"
    }
   },
   "outputs": [],
   "source": [
    "#4. ROC-AUC - on Test Data"
   ]
  },
  {
   "cell_type": "code",
   "execution_count": 326,
   "id": "c612b699",
   "metadata": {
    "ExecuteTime": {
     "end_time": "2022-05-15T15:23:50.212314Z",
     "start_time": "2022-05-15T15:23:49.784708Z"
    }
   },
   "outputs": [
    {
     "data": {
      "text/plain": [
       "<matplotlib.legend.Legend at 0x1593425c550>"
      ]
     },
     "execution_count": 326,
     "metadata": {},
     "output_type": "execute_result"
    },
    {
     "data": {
      "image/png": "[encoded data removed]",
      "text/plain": [
       "<Figure size 432x288 with 1 Axes>"
      ]
     },
     "metadata": {
      "needs_background": "light"
     },
     "output_type": "display_data"
    }
   ],
   "source": [
    "plt.plot([0, 1], [0, 1], linestyle='--')\n",
    "plt.plot(cart_test_fpr, cart_test_tpr,color='red',label=\"CART\")\n",
    "plt.plot(rf_test_fpr,rf_test_tpr,color='green',label=\"RF\")\n",
    "plt.plot(log_test_fpr,log_test_tpr,color='pink',label=\"Logistic\")\n",
    "plt.plot(lda_test_fpr,lda_test_tpr,color='magenta',label=\"LDA\")\n",
    "plt.plot(KNN_test_fpr,KNN_test_tpr,color='yellow',label=\"KNN\")\n",
    "plt.plot(NB_test_fpr,NB_test_tpr,color='blue',label=\"NB\")\n",
    "plt.plot(gbcl_test_fpr,gbcl_test_tpr,color='violet',label=\"Gr. Boost\")\n",
    "#plt.plot(xgb_test_fpr,xgb_test_tpr,color='black',label=\"XG Boost\")\n",
    "plt.xlabel('False Positive Rate')\n",
    "plt.ylabel('True Positive Rate')\n",
    "plt.title('ROC')\n",
    "plt.legend(bbox_to_anchor=(0., 1.02, 1., .102), loc='lower right')"
   ]
  },
  {
   "cell_type": "code",
   "execution_count": null,
   "id": "784f9472",
   "metadata": {},
   "outputs": [],
   "source": [
    "# Ensembling -Bagging"
   ]
  },
  {
   "cell_type": "code",
   "execution_count": 46,
   "id": "e3b4f905",
   "metadata": {
    "ExecuteTime": {
     "end_time": "2022-05-15T17:27:11.276188Z",
     "start_time": "2022-05-15T17:27:08.179691Z"
    }
   },
   "outputs": [
    {
     "data": {
      "text/plain": [
       "BaggingClassifier(base_estimator=DecisionTreeClassifier(), n_estimators=100,\n",
       "                  random_state=1)"
      ]
     },
     "execution_count": 46,
     "metadata": {},
     "output_type": "execute_result"
    }
   ],
   "source": [
    "\n",
    "from sklearn.ensemble import BaggingClassifier\n",
    "from sklearn.tree import DecisionTreeClassifier\n",
    "cart = DecisionTreeClassifier()\n",
    "Bagging_model=BaggingClassifier(base_estimator=cart,n_estimators=100,random_state=1)\n",
    "Bagging_model.fit(X_train, Y_train)"
   ]
  },
  {
   "cell_type": "code",
   "execution_count": 57,
   "id": "66b8a492",
   "metadata": {
    "ExecuteTime": {
     "end_time": "2022-05-15T17:33:32.775924Z",
     "start_time": "2022-05-15T17:33:32.333676Z"
    }
   },
   "outputs": [],
   "source": [
    "\n",
    "# Training Data Probability Prediction\n",
    "pred_prob_train = Bagging_model.predict_proba(X_train)\n",
    "\n",
    "# Test Data Probability Prediction\n",
    "pred_prob_test = Bagging_model.predict_proba(X_test)"
   ]
  },
  {
   "cell_type": "code",
   "execution_count": 47,
   "id": "617fda71",
   "metadata": {
    "ExecuteTime": {
     "end_time": "2022-05-15T17:27:11.869259Z",
     "start_time": "2022-05-15T17:27:11.280184Z"
    }
   },
   "outputs": [
    {
     "name": "stdout",
     "output_type": "stream",
     "text": [
      "0.9996193859426542\n",
      "[[6554    1]\n",
      " [   2 1325]]\n",
      "              precision    recall  f1-score   support\n",
      "\n",
      "           0       1.00      1.00      1.00      6555\n",
      "           1       1.00      1.00      1.00      1327\n",
      "\n",
      "    accuracy                           1.00      7882\n",
      "   macro avg       1.00      1.00      1.00      7882\n",
      "weighted avg       1.00      1.00      1.00      7882\n",
      "\n"
     ]
    }
   ],
   "source": [
    "\n",
    "## Performance Matrix on train data set\n",
    "Y_train_predict = Bagging_model.predict(X_train)\n",
    "model_score =Bagging_model.score(X_train, Y_train)\n",
    "print(model_score)\n",
    "print(metrics.confusion_matrix(Y_train, Y_train_predict))\n",
    "print(metrics.classification_report(Y_train, Y_train_predict))"
   ]
  },
  {
   "cell_type": "code",
   "execution_count": 48,
   "id": "6726bc63",
   "metadata": {
    "ExecuteTime": {
     "end_time": "2022-05-15T17:27:12.187880Z",
     "start_time": "2022-05-15T17:27:11.873774Z"
    }
   },
   "outputs": [
    {
     "name": "stdout",
     "output_type": "stream",
     "text": [
      "0.9683244523386619\n",
      "[[2767   42]\n",
      " [  65  504]]\n",
      "              precision    recall  f1-score   support\n",
      "\n",
      "           0       0.98      0.99      0.98      2809\n",
      "           1       0.92      0.89      0.90       569\n",
      "\n",
      "    accuracy                           0.97      3378\n",
      "   macro avg       0.95      0.94      0.94      3378\n",
      "weighted avg       0.97      0.97      0.97      3378\n",
      "\n"
     ]
    }
   ],
   "source": [
    "\n",
    "## Performance Matrix on test data set\n",
    "Y_test_predict = Bagging_model.predict(X_test)\n",
    "model_score = Bagging_model.score(X_test, Y_test)\n",
    "print(model_score)\n",
    "print(metrics.confusion_matrix(Y_test, Y_test_predict))\n",
    "print(metrics.classification_report(Y_test, Y_test_predict))"
   ]
  },
  {
   "cell_type": "code",
   "execution_count": 65,
   "id": "a7a981fe",
   "metadata": {
    "ExecuteTime": {
     "end_time": "2022-05-15T17:40:01.461530Z",
     "start_time": "2022-05-15T17:40:01.113556Z"
    }
   },
   "outputs": [
    {
     "data": {
      "text/plain": [
       "0.9996193859426542"
      ]
     },
     "execution_count": 65,
     "metadata": {},
     "output_type": "execute_result"
    }
   ],
   "source": [
    "enasable_bagg_train_acc=Bagging_model.score(X_train,Y_train) \n",
    "enasable_bagg_train_acc"
   ]
  },
  {
   "cell_type": "code",
   "execution_count": 66,
   "id": "85012ef6",
   "metadata": {
    "ExecuteTime": {
     "end_time": "2022-05-15T17:40:15.631478Z",
     "start_time": "2022-05-15T17:40:15.452237Z"
    }
   },
   "outputs": [
    {
     "data": {
      "text/plain": [
       "0.9683244523386619"
      ]
     },
     "execution_count": 66,
     "metadata": {},
     "output_type": "execute_result"
    }
   ],
   "source": [
    "ensamble_bagg_test_acc=Bagging_model.score(X_test,Y_test) \n",
    "ensamble_bagg_test_acc"
   ]
  },
  {
   "cell_type": "code",
   "execution_count": 59,
   "id": "58671b62",
   "metadata": {
    "ExecuteTime": {
     "end_time": "2022-05-15T17:37:22.175091Z",
     "start_time": "2022-05-15T17:37:22.170093Z"
    }
   },
   "outputs": [],
   "source": [
    "# Ensembling -Random Forest"
   ]
  },
  {
   "cell_type": "code",
   "execution_count": 62,
   "id": "69037817",
   "metadata": {
    "ExecuteTime": {
     "end_time": "2022-05-15T17:38:25.572160Z",
     "start_time": "2022-05-15T17:38:24.471700Z"
    }
   },
   "outputs": [
    {
     "data": {
      "text/plain": [
       "RandomForestClassifier(random_state=1)"
      ]
     },
     "execution_count": 62,
     "metadata": {},
     "output_type": "execute_result"
    }
   ],
   "source": [
    "from sklearn.ensemble import RandomForestClassifier\n",
    "\n",
    "RF_model=RandomForestClassifier(n_estimators=100,random_state=1)\n",
    "RF_model.fit(X_train, Y_train)"
   ]
  },
  {
   "cell_type": "code",
   "execution_count": 63,
   "id": "5975e726",
   "metadata": {
    "ExecuteTime": {
     "end_time": "2022-05-15T17:38:26.435475Z",
     "start_time": "2022-05-15T17:38:25.928355Z"
    }
   },
   "outputs": [
    {
     "name": "stdout",
     "output_type": "stream",
     "text": [
      "0.9996193859426542\n",
      "[[6554    1]\n",
      " [   2 1325]]\n",
      "              precision    recall  f1-score   support\n",
      "\n",
      "           0       1.00      1.00      1.00      6555\n",
      "           1       1.00      1.00      1.00      1327\n",
      "\n",
      "    accuracy                           1.00      7882\n",
      "   macro avg       1.00      1.00      1.00      7882\n",
      "weighted avg       1.00      1.00      1.00      7882\n",
      "\n"
     ]
    }
   ],
   "source": [
    "\n",
    "## Performance Matrix on train data set\n",
    "Y_train_predict = RF_model.predict(X_train)\n",
    "model_score =RF_model.score(X_train, Y_train)\n",
    "print(model_score)\n",
    "print(metrics.confusion_matrix(Y_train, Y_train_predict))\n",
    "print(metrics.classification_report(Y_train, Y_train_predict))"
   ]
  },
  {
   "cell_type": "code",
   "execution_count": 64,
   "id": "0802f54f",
   "metadata": {
    "ExecuteTime": {
     "end_time": "2022-05-15T17:39:12.020152Z",
     "start_time": "2022-05-15T17:39:11.735917Z"
    }
   },
   "outputs": [
    {
     "name": "stdout",
     "output_type": "stream",
     "text": [
      "0.9662522202486679\n",
      "[[2777   32]\n",
      " [  82  487]]\n",
      "              precision    recall  f1-score   support\n",
      "\n",
      "           0       0.97      0.99      0.98      2809\n",
      "           1       0.94      0.86      0.90       569\n",
      "\n",
      "    accuracy                           0.97      3378\n",
      "   macro avg       0.95      0.92      0.94      3378\n",
      "weighted avg       0.97      0.97      0.97      3378\n",
      "\n"
     ]
    }
   ],
   "source": [
    "\n",
    "## Performance Matrix on test data set\n",
    "Y_test_predict = RF_model.predict(X_test)\n",
    "model_score = RF_model.score(X_test, Y_test)\n",
    "print(model_score)\n",
    "print(metrics.confusion_matrix(Y_test, Y_test_predict))\n",
    "print(metrics.classification_report(Y_test, Y_test_predict))"
   ]
  },
  {
   "cell_type": "code",
   "execution_count": 68,
   "id": "e74cc2b4",
   "metadata": {
    "ExecuteTime": {
     "end_time": "2022-05-15T17:41:33.916059Z",
     "start_time": "2022-05-15T17:41:33.677577Z"
    }
   },
   "outputs": [
    {
     "data": {
      "text/plain": [
       "0.9996193859426542"
      ]
     },
     "execution_count": 68,
     "metadata": {},
     "output_type": "execute_result"
    }
   ],
   "source": [
    "enasable_rf_train_acc=RF_model.score(X_train,Y_train) \n",
    "enasable_rf_train_acc"
   ]
  },
  {
   "cell_type": "code",
   "execution_count": 69,
   "id": "6eb0a051",
   "metadata": {
    "ExecuteTime": {
     "end_time": "2022-05-15T17:42:27.872222Z",
     "start_time": "2022-05-15T17:42:27.723765Z"
    }
   },
   "outputs": [
    {
     "data": {
      "text/plain": [
       "0.9662522202486679"
      ]
     },
     "execution_count": 69,
     "metadata": {},
     "output_type": "execute_result"
    }
   ],
   "source": [
    "enasable_rf_test_acc=RF_model.score(X_test,Y_test) \n",
    "enasable_rf_test_acc"
   ]
  },
  {
   "cell_type": "code",
   "execution_count": null,
   "id": "6ae44dbd",
   "metadata": {},
   "outputs": [],
   "source": []
  }
 ],
 "metadata": {
  "kernelspec": {
   "display_name": "Python 3 (ipykernel)",
   "language": "python",
   "name": "python3"
  },
  "language_info": {
   "codemirror_mode": {
    "name": "ipython",
    "version": 3
   },
   "file_extension": ".py",
   "mimetype": "text/x-python",
   "name": "python",
   "nbconvert_exporter": "python",
   "pygments_lexer": "ipython3",
   "version": "3.9.7"
  },
  "latex_envs": {
   "LaTeX_envs_menu_present": true,
   "autoclose": false,
   "autocomplete": true,
   "bibliofile": "biblio.bib",
   "cite_by": "apalike",
   "current_citInitial": 1,
   "eqLabelWithNumbers": true,
   "eqNumInitial": 1,
   "hotkeys": {
    "equation": "Ctrl-E",
    "itemize": "Ctrl-I"
   },
   "labels_anchors": false,
   "latex_user_defs": false,
   "report_style_numbering": false,
   "user_envs_cfg": false
  },
  "varInspector": {
   "cols": {
    "lenName": 16,
    "lenType": 16,
    "lenVar": 40
   },
   "kernels_config": {
    "python": {
     "delete_cmd_postfix": "",
     "delete_cmd_prefix": "del ",
     "library": "var_list.py",
     "varRefreshCmd": "print(var_dic_list())"
    },
    "r": {
     "delete_cmd_postfix": ") ",
     "delete_cmd_prefix": "rm(",
     "library": "var_list.r",
     "varRefreshCmd": "cat(var_dic_list()) "
    }
   },
   "types_to_exclude": [
    "module",
    "function",
    "builtin_function_or_method",
    "instance",
    "_Feature"
   ],
   "window_display": false
  }
 },
 "nbformat": 4,
 "nbformat_minor": 5
}
